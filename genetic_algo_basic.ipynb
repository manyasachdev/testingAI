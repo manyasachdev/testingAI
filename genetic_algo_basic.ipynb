{
 "cells": [
  {
   "cell_type": "code",
   "execution_count": 35,
   "metadata": {},
   "outputs": [],
   "source": [
    "import numpy as np\n",
    "import random"
   ]
  },
  {
   "cell_type": "markdown",
   "metadata": {},
   "source": [
    "Generating Initial Population Randomly"
   ]
  },
  {
   "cell_type": "code",
   "execution_count": 6,
   "metadata": {},
   "outputs": [],
   "source": [
    "#Global variable\n",
    "\n",
    "num_attributes = 8\n",
    "levels_per_attribute = 3\n",
    "\n",
    "M = 100 # number of strings\n",
    "P = num_attributes * 2 # we do \"num_attributes * 2\" since each attribute is represented using a 2-bit binary string\n",
    "N = 100 # number  of customers"
   ]
  },
  {
   "cell_type": "code",
   "execution_count": 3,
   "metadata": {},
   "outputs": [
    {
     "name": "stdout",
     "output_type": "stream",
     "text": [
      "Initial Population:\n",
      "[[1 0 0 ... 0 1 1]\n",
      " [1 1 1 ... 1 1 1]\n",
      " [1 1 1 ... 0 0 0]\n",
      " ...\n",
      " [0 0 0 ... 0 0 0]\n",
      " [0 0 0 ... 0 1 1]\n",
      " [0 1 1 ... 0 0 1]]\n"
     ]
    }
   ],
   "source": [
    "\"\"\"\n",
    "num_attributes = 8\n",
    "levels_per_attribute = 3\n",
    "\n",
    "M = 100\n",
    "P = num_attributes * 2 # we do \"num_attributes * 2\" since each attribute is represented using a 2-bit binary string\n",
    "\n",
    "initial_population = np.random.randint(2, size=(M, P)) \n",
    "\n",
    "print(\"Initial Population:\")\n",
    "print(initial_population)\n",
    "\"\"\""
   ]
  },
  {
   "cell_type": "code",
   "execution_count": 4,
   "metadata": {},
   "outputs": [
    {
     "data": {
      "text/plain": [
       "(100, 16)"
      ]
     },
     "execution_count": 4,
     "metadata": {},
     "output_type": "execute_result"
    }
   ],
   "source": [
    "#initial_population.shape"
   ]
  },
  {
   "cell_type": "markdown",
   "metadata": {},
   "source": [
    "Using Dummy variable coding"
   ]
  },
  {
   "cell_type": "code",
   "execution_count": 4,
   "metadata": {},
   "outputs": [
    {
     "name": "stdout",
     "output_type": "stream",
     "text": [
      "Initial Population Matrix (POP):\n",
      "[[0 1 1 ... 0 0 1]\n",
      " [0 1 0 ... 1 0 1]\n",
      " [1 0 1 ... 1 0 1]\n",
      " ...\n",
      " [1 0 1 ... 1 1 0]\n",
      " [0 1 0 ... 1 1 0]\n",
      " [1 0 0 ... 1 0 1]]\n"
     ]
    }
   ],
   "source": [
    "# Define the number of attributes and levels for each attribute\n",
    "K = 8  # Number of attributes\n",
    "L = [3, 3, 3, 3, 3, 3, 3, 3]  # Number of levels for each attribute\n",
    "\n",
    "P = sum(L[j] - 1 for j in range(K))  # Total number of bits required for binary string representation\n",
    "\n",
    "# Initialize the population matrix\n",
    "POP = np.zeros((M, P), dtype=int)\n",
    "\n",
    "# Generate random binary strings for each product in the population\n",
    "for i in range(M):\n",
    "    product_string = ''\n",
    "    for j in range(K):  # Iterate over each attribute\n",
    "        # Generate the binary substring for the current attribute\n",
    "        attribute_string = '0' * (L[j] - 1)\n",
    "        # Choose a random level for the current attribute\n",
    "        level_index = np.random.randint(L[j] - 1)  # Adjusted to L[j] - 1\n",
    "        # Set the corresponding bit to '1' for the chosen level\n",
    "        attribute_string = attribute_string[:level_index] + '1' + attribute_string[level_index+1:]\n",
    "        # Append the binary substring for the current attribute to the product string\n",
    "        product_string += attribute_string\n",
    "    \n",
    "    # Pad the binary string with zeros if its length is less than P\n",
    "    product_string += '0' * (P - len(product_string))\n",
    "    \n",
    "    # Convert the binary string to a numpy array and assign it to the population matrix\n",
    "    POP[i] = np.array(list(product_string), dtype=int)\n",
    "\n",
    "# Display the population matrix\n",
    "print(\"Initial Population Matrix (POP):\")\n",
    "print(POP)"
   ]
  },
  {
   "cell_type": "code",
   "execution_count": 5,
   "metadata": {},
   "outputs": [
    {
     "data": {
      "text/plain": [
       "(100, 16)"
      ]
     },
     "execution_count": 5,
     "metadata": {},
     "output_type": "execute_result"
    }
   ],
   "source": [
    "POP.shape"
   ]
  },
  {
   "cell_type": "markdown",
   "metadata": {},
   "source": [
    "Obtaining Part-Worth Utilities from Conjoint Analysis - random for now, add real values"
   ]
  },
  {
   "cell_type": "code",
   "execution_count": 7,
   "metadata": {},
   "outputs": [
    {
     "name": "stdout",
     "output_type": "stream",
     "text": [
      "Matrix BETA (Conjoint Analysis Values):\n",
      "[[ 0.  0. -1. ... -1. -1. -1.]\n",
      " [-1.  1.  0. ... -1.  1.  0.]\n",
      " [-1.  0. -1. ...  0.  0. -1.]\n",
      " ...\n",
      " [ 0.  1.  1. ...  0.  1. -1.]\n",
      " [-1. -1.  1. ... -1. -1.  0.]\n",
      " [ 1. -1. -1. ...  1.  0. -1.]]\n"
     ]
    }
   ],
   "source": [
    "# Define the range of values for conjoint analysis (example: -1 to 1)\n",
    "conjoint_values = np.linspace(-1, 1, num=levels_per_attribute)\n",
    "\n",
    "# Generate random conjoint analysis values for each customer and attribute\n",
    "BETA = np.random.choice(conjoint_values, size=(N, P))\n",
    "\n",
    "print(\"Matrix BETA (Conjoint Analysis Values):\")\n",
    "print(BETA)"
   ]
  },
  {
   "cell_type": "code",
   "execution_count": 8,
   "metadata": {},
   "outputs": [
    {
     "data": {
      "text/plain": [
       "(100, 16)"
      ]
     },
     "execution_count": 8,
     "metadata": {},
     "output_type": "execute_result"
    }
   ],
   "source": [
    "BETA.shape"
   ]
  },
  {
   "cell_type": "code",
   "execution_count": 9,
   "metadata": {},
   "outputs": [],
   "source": [
    "STATQUO = np.random.randn(N)  # Status quo utilities vector (N)"
   ]
  },
  {
   "cell_type": "code",
   "execution_count": 10,
   "metadata": {},
   "outputs": [
    {
     "data": {
      "text/plain": [
       "array([ 7.23529244e-01, -8.08118284e-02,  1.34381586e-02, -2.87364144e-01,\n",
       "       -8.39726207e-01,  3.94313729e-01, -6.26319013e-01, -5.87904219e-01,\n",
       "       -4.70638691e-01,  7.54205297e-01,  9.67085013e-01,  8.18912963e-01,\n",
       "        7.34670892e-01,  2.66770440e-01, -2.71661249e-01,  4.44161810e-01,\n",
       "       -4.11964437e-01,  3.50514403e-01,  9.01958904e-01, -3.19340230e-02,\n",
       "       -8.59031209e-01,  1.51315351e-01, -2.79645183e-01, -6.20237066e-01,\n",
       "        1.26896102e+00, -1.18599328e+00,  1.78971059e+00, -7.06986001e-01,\n",
       "       -1.02455830e+00,  1.17933814e+00,  5.63165644e-01,  1.20949965e-01,\n",
       "        2.37546792e-01, -3.90793024e-01,  3.02815873e-02,  1.80716742e-02,\n",
       "        2.16279209e-01,  4.09383874e-01,  1.96722997e-03,  5.87516042e-01,\n",
       "        2.29050835e-02, -1.46068512e+00,  2.12903457e+00,  1.59711580e+00,\n",
       "        2.99048126e-01,  8.20877873e-01, -3.38881271e-01, -4.86214487e-01,\n",
       "       -4.29638054e-01, -6.81160839e-02,  1.63351067e+00, -2.70566811e-01,\n",
       "        1.59537511e-01, -1.03102350e+00,  1.76708321e-01,  1.43989200e+00,\n",
       "        9.82294556e-01,  1.14129737e+00, -3.03478211e-01,  2.40967849e-01,\n",
       "       -1.30413883e-01, -1.12024236e+00, -1.36094330e+00, -4.51614392e-01,\n",
       "       -1.68125648e+00, -6.80653300e-01, -1.48964745e-01,  1.48340063e+00,\n",
       "       -1.08079633e+00,  2.38834747e+00, -4.97795829e-01, -4.62685587e-01,\n",
       "        9.16880972e-01,  1.11270271e-01, -3.76606226e-01, -1.13041733e-01,\n",
       "       -1.04181678e+00,  1.57033391e+00, -4.73636070e-01, -1.22066200e+00,\n",
       "       -9.08203551e-01, -4.44767155e-01, -5.31444933e-01, -1.28420792e+00,\n",
       "        5.48342497e-02, -1.62267510e+00, -3.73565389e-01, -2.60505890e-02,\n",
       "        4.67892340e-01, -4.26847619e-01, -4.14381054e-01, -6.40516033e-01,\n",
       "        5.73328836e-01,  8.77545232e-01,  1.40001113e+00, -2.78291675e-01,\n",
       "       -1.21173575e+00, -1.69131722e+00,  2.81033021e-01, -3.25483580e-01])"
      ]
     },
     "execution_count": 10,
     "metadata": {},
     "output_type": "execute_result"
    }
   ],
   "source": [
    "STATQUO"
   ]
  },
  {
   "cell_type": "code",
   "execution_count": 11,
   "metadata": {},
   "outputs": [
    {
     "data": {
      "text/plain": [
       "(100,)"
      ]
     },
     "execution_count": 11,
     "metadata": {},
     "output_type": "execute_result"
    }
   ],
   "source": [
    "STATQUO.shape"
   ]
  },
  {
   "cell_type": "markdown",
   "metadata": {},
   "source": [
    "Determine utility for each product by each customer from the beta matrix"
   ]
  },
  {
   "cell_type": "code",
   "execution_count": 19,
   "metadata": {},
   "outputs": [],
   "source": [
    "#Helper Function for determining utility\n",
    "\n",
    "def fitness(population):\n",
    "    population_t = np.transpose(population)\n",
    "    PROD_UTIL = np.dot(BETA, population_t)\n",
    "    share_of_choices = np.sum(PROD_UTIL > STATQUO[:, np.newaxis], axis=0)\n",
    "    fitness_values = share_of_choices / N\n",
    "    return fitness_values\n",
    "#    print(fitness_values)\n",
    "#    print(fitness_values.shape)\n",
    "\n",
    "\n",
    "#fitness(POP)"
   ]
  },
  {
   "cell_type": "code",
   "execution_count": 12,
   "metadata": {},
   "outputs": [
    {
     "data": {
      "text/plain": [
       "(16, 100)"
      ]
     },
     "execution_count": 12,
     "metadata": {},
     "output_type": "execute_result"
    }
   ],
   "source": [
    "#POP_0 = POP\n",
    "#POP_0_transposed = np.transpose(POP_0)\n",
    "#POP_0_transposed.shape"
   ]
  },
  {
   "cell_type": "code",
   "execution_count": 13,
   "metadata": {},
   "outputs": [
    {
     "data": {
      "text/plain": [
       "array([[0, 0, 1, ..., 1, 0, 1],\n",
       "       [1, 1, 0, ..., 0, 1, 0],\n",
       "       [1, 0, 1, ..., 1, 0, 0],\n",
       "       ...,\n",
       "       [0, 1, 1, ..., 1, 1, 1],\n",
       "       [0, 0, 0, ..., 1, 1, 0],\n",
       "       [1, 1, 1, ..., 0, 0, 1]])"
      ]
     },
     "execution_count": 13,
     "metadata": {},
     "output_type": "execute_result"
    }
   ],
   "source": [
    "#POP_0_transposed"
   ]
  },
  {
   "cell_type": "code",
   "execution_count": 63,
   "metadata": {},
   "outputs": [],
   "source": [
    "#PROD_UTIL = np.dot(BETA, POP_0_transposed)"
   ]
  },
  {
   "cell_type": "code",
   "execution_count": 64,
   "metadata": {},
   "outputs": [
    {
     "data": {
      "text/plain": [
       "(100, 100)"
      ]
     },
     "execution_count": 64,
     "metadata": {},
     "output_type": "execute_result"
    }
   ],
   "source": [
    "#PROD_UTIL.shape"
   ]
  },
  {
   "cell_type": "code",
   "execution_count": 65,
   "metadata": {},
   "outputs": [
    {
     "data": {
      "text/plain": [
       "array([[-3.,  1., -1., ..., -2.,  1.,  0.],\n",
       "       [ 2.,  4.,  2., ...,  2.,  1.,  0.],\n",
       "       [ 1., -3., -1., ...,  0., -3.,  0.],\n",
       "       ...,\n",
       "       [ 2.,  2., -1., ...,  2., -3., -1.],\n",
       "       [-4., -1., -5., ..., -2., -6., -3.],\n",
       "       [-1., -2., -4., ...,  0., -2.,  0.]])"
      ]
     },
     "execution_count": 65,
     "metadata": {},
     "output_type": "execute_result"
    }
   ],
   "source": [
    "#PROD_UTIL"
   ]
  },
  {
   "cell_type": "code",
   "execution_count": 67,
   "metadata": {},
   "outputs": [],
   "source": [
    "#share_of_choices = np.sum(PROD_UTIL > STATQUO[:, np.newaxis], axis=0)"
   ]
  },
  {
   "cell_type": "code",
   "execution_count": 68,
   "metadata": {},
   "outputs": [
    {
     "name": "stdout",
     "output_type": "stream",
     "text": [
      "Fitness values for each product:\n",
      "[0.48 0.52 0.48 0.58 0.51 0.51 0.49 0.47 0.48 0.48 0.54 0.55 0.53 0.49\n",
      " 0.51 0.51 0.46 0.51 0.5  0.44 0.44 0.48 0.52 0.51 0.52 0.52 0.44 0.53\n",
      " 0.51 0.44 0.48 0.5  0.53 0.45 0.51 0.49 0.55 0.48 0.49 0.53 0.51 0.51\n",
      " 0.57 0.52 0.53 0.52 0.48 0.44 0.53 0.53 0.58 0.52 0.52 0.52 0.56 0.5\n",
      " 0.53 0.48 0.53 0.47 0.54 0.51 0.58 0.51 0.48 0.52 0.53 0.46 0.48 0.48\n",
      " 0.48 0.5  0.53 0.44 0.51 0.44 0.47 0.5  0.51 0.5  0.48 0.53 0.45 0.49\n",
      " 0.54 0.52 0.49 0.54 0.53 0.52 0.53 0.49 0.47 0.49 0.51 0.51 0.45 0.48\n",
      " 0.48 0.47]\n"
     ]
    }
   ],
   "source": [
    "#fitness_values = share_of_choices / N\n",
    "\n",
    "# Display the fitness values for each product\n",
    "#print(\"Fitness values for each product:\")\n",
    "#print(fitness_values)"
   ]
  },
  {
   "cell_type": "code",
   "execution_count": 26,
   "metadata": {},
   "outputs": [
    {
     "data": {
      "text/plain": [
       "100"
      ]
     },
     "execution_count": 26,
     "metadata": {},
     "output_type": "execute_result"
    }
   ],
   "source": [
    "len(POP)"
   ]
  },
  {
   "cell_type": "markdown",
   "metadata": {},
   "source": [
    "Selection"
   ]
  },
  {
   "cell_type": "code",
   "execution_count": 48,
   "metadata": {},
   "outputs": [],
   "source": [
    "def reproduction(population, fitness_values):\n",
    "    # Select individuals for reproduction based on their fitness values\n",
    "    probabilities = fitness_values / np.sum(fitness_values)\n",
    "    selected_indices = np.random.choice(len(population), size=(len(population)//2), replace=True, p=probabilities)\n",
    "    offspring = population[selected_indices]\n",
    "    return offspring"
   ]
  },
  {
   "cell_type": "code",
   "execution_count": 28,
   "metadata": {},
   "outputs": [
    {
     "data": {
      "text/plain": [
       "'\\ns = M // 2 \\n\\n# Select the indices of the fittest strings based on their fitness values\\nfittest_indices = np.argsort(fitness_values)[::-1][:s]\\n\\n# Select the fittest strings from the population matrix\\nfittest_strings = POP[fittest_indices]\\n\\nfittest_strings\\n'"
      ]
     },
     "execution_count": 28,
     "metadata": {},
     "output_type": "execute_result"
    }
   ],
   "source": [
    "\"\"\"\n",
    "s = M // 2 \n",
    "\n",
    "# Select the indices of the fittest strings based on their fitness values\n",
    "fittest_indices = np.argsort(fitness_values)[::-1][:s]\n",
    "\n",
    "# Select the fittest strings from the population matrix\n",
    "fittest_strings = POP[fittest_indices]\n",
    "\n",
    "fittest_strings\n",
    "\"\"\""
   ]
  },
  {
   "cell_type": "markdown",
   "metadata": {},
   "source": [
    "Crossover"
   ]
  },
  {
   "cell_type": "code",
   "execution_count": 29,
   "metadata": {},
   "outputs": [],
   "source": [
    "def crossover_2(parents):\n",
    "    # Perform uniform crossover\n",
    "    num_attributes = parents.shape[1]\n",
    "    offspring = np.empty_like(parents)\n",
    "    for i in range(len(parents) // 2):\n",
    "        parent1, parent2 = parents[i * 2], parents[i * 2 + 1]\n",
    "        crossover_points = np.random.choice(num_attributes, num_attributes // 2, replace=False)\n",
    "        child1, child2 = parent1.copy(), parent2.copy()\n",
    "        for point in crossover_points:\n",
    "            child1[point], child2[point] = child2[point], child1[point]\n",
    "        offspring[i * 2], offspring[i * 2 + 1] = child1, child2\n",
    "    return offspring"
   ]
  },
  {
   "cell_type": "code",
   "execution_count": 31,
   "metadata": {},
   "outputs": [],
   "source": [
    "def crossover(fittest_strings):\n",
    "    s = fittest_strings.shape[0]  # Number of fittest strings\n",
    "    offspring_matrix = np.zeros_like(fittest_strings)\n",
    "\n",
    "    # Perform uniform crossover for each pair of parent strings\n",
    "    for i in range(0, s, 2):  # Step 2 (select pairs of parent strings)\n",
    "        # Randomly select half of the attributes to participate in crossover\n",
    "        crossover_indices = random.sample(range(K), K // 2)  # Indices of attributes to participate in crossover\n",
    "\n",
    "        # Perform crossover for the selected attributes\n",
    "        for j in crossover_indices:\n",
    "            # Swap the substrings (attributes) between the parent strings to produce offspring\n",
    "            offspring_matrix[i, j*(L[j]-1):(j+1)*(L[j]-1)] = fittest_strings[i+1, j*(L[j]-1):(j+1)*(L[j]-1)]\n",
    "            offspring_matrix[i+1, j*(L[j]-1):(j+1)*(L[j]-1)] = fittest_strings[i, j*(L[j]-1):(j+1)*(L[j]-1)]\n",
    "\n",
    "    return offspring_matrix\n",
    "    # Display the offspring matrix\n",
    "    #print(\"Offspring matrix after crossover:\")\n",
    "    #print(offspring_matrix)"
   ]
  },
  {
   "cell_type": "markdown",
   "metadata": {},
   "source": [
    "Mutation"
   ]
  },
  {
   "cell_type": "code",
   "execution_count": 33,
   "metadata": {},
   "outputs": [],
   "source": [
    "def mutation(offspring_matrix):\n",
    "    # Define the mutation probability\n",
    "    mutation_probability = 0.1  # Probability of mutation (adjust as needed)\n",
    "\n",
    "    # Initialize the mutated offspring matrix\n",
    "    mutated_offspring_matrix = np.copy(offspring_matrix)\n",
    "\n",
    "    # Perform mutation for each string in the offspring matrix\n",
    "    for i in range(mutated_offspring_matrix.shape[0]):  # Iterate over each string\n",
    "        # Check if mutation should occur for the current string\n",
    "        if random.random() < mutation_probability:\n",
    "            # Randomly pick one attribute to mutate\n",
    "            attribute_index = random.randint(0, K - 1)  # Randomly select an attribute index\n",
    "\n",
    "            # Randomly pick a new level for the selected attribute\n",
    "            new_level_index = random.randint(0, L[attribute_index] - 2)  # Randomly select a new level index\n",
    "\n",
    "            # Determine the start and end indices of the selected attribute in the string\n",
    "            start_index = sum(L[j] - 1 for j in range(attribute_index))\n",
    "            end_index = start_index + L[attribute_index] - 1\n",
    "\n",
    "            # Set the new level for the selected attribute in the string\n",
    "            mutated_offspring_matrix[i, start_index:end_index] = 0  # Reset the attribute to all zeros\n",
    "            mutated_offspring_matrix[i, start_index + new_level_index] = 1  # Set the new level to 1\n",
    "\n",
    "    return mutated_offspring_matrix\n",
    "\n",
    "    # Display the mutated offspring matrix\n",
    "#    print(\"Mutated offspring matrix:\")\n",
    "#    print(mutated_offspring_matrix)"
   ]
  },
  {
   "cell_type": "code",
   "execution_count": 34,
   "metadata": {},
   "outputs": [],
   "source": [
    "#mutated_offspring_matrix.shape"
   ]
  },
  {
   "cell_type": "markdown",
   "metadata": {},
   "source": [
    "Implementing Stopping Rule and Starting GA loop"
   ]
  },
  {
   "cell_type": "code",
   "execution_count": 49,
   "metadata": {},
   "outputs": [
    {
     "ename": "NameError",
     "evalue": "name 'avg_fitness' is not defined",
     "output_type": "error",
     "traceback": [
      "\u001b[1;31m---------------------------------------------------------------------------\u001b[0m",
      "\u001b[1;31mNameError\u001b[0m                                 Traceback (most recent call last)",
      "\u001b[1;32m<ipython-input-49-935a1446ead3>\u001b[0m in \u001b[0;36m<module>\u001b[1;34m\u001b[0m\n\u001b[0;32m     28\u001b[0m \u001b[1;33m\u001b[0m\u001b[0m\n\u001b[0;32m     29\u001b[0m     \u001b[1;31m# Display progress and other information\u001b[0m\u001b[1;33m\u001b[0m\u001b[1;33m\u001b[0m\u001b[1;33m\u001b[0m\u001b[0m\n\u001b[1;32m---> 30\u001b[1;33m     \u001b[0mprint\u001b[0m\u001b[1;33m(\u001b[0m\u001b[1;34mf\"Generation {t}: Moving Average Fitness = {avg_fitness:.2f}, Threshold Fitness = {threshold_fitness:.2f}\"\u001b[0m\u001b[1;33m)\u001b[0m\u001b[1;33m\u001b[0m\u001b[1;33m\u001b[0m\u001b[0m\n\u001b[0m",
      "\u001b[1;31mNameError\u001b[0m: name 'avg_fitness' is not defined"
     ]
    }
   ],
   "source": [
    "# Main loop for genetic algorithm iterations\n",
    "while True:\n",
    "    # Increment the generation count\n",
    "    t += 1\n",
    "   \n",
    "    # Evaluate fitness\n",
    "    fitness_vals = fitness(POP)\n",
    "    fittest_strs = reproduction(POP, fitness_vals)\n",
    "    offsprings = crossover(fittest_strs)\n",
    "    mutated_offsprings = mutation(offsprings)\n",
    "\n",
    "    # Calculate the fitness of the top three strings\n",
    "    fitness_values_sorted = np.argsort(-fitness_vals)\n",
    "    top_strings_fitness = fitness_values_sorted[:3]  # Assuming fitness_values_sorted contains sorted fitness values\n",
    "    \n",
    "    # Calculate the moving average of the fitness over five generations\n",
    "    moving_avg_fitness[t % 5] = np.mean(top_strings_fitness)\n",
    "    if t >= 5:\n",
    "        avg_fitness = np.mean(moving_avg_fitness)\n",
    "        \n",
    "        # Calculate 2% of the fitness of the three best strings\n",
    "        threshold_fitness = np.mean(top_strings_fitness) * (threshold_percent_of_best / 100)\n",
    "        \n",
    "        # Check if the moving average is less than the threshold\n",
    "        if avg_fitness < threshold_fitness:\n",
    "            print(\"Stopping criterion met. Algorithm terminated.\")\n",
    "            break\n",
    "    \n",
    "    # Display progress and other information\n",
    "    print(f\"Generation {t}: Moving Average Fitness = {avg_fitness:.2f}, Threshold Fitness = {threshold_fitness:.2f}\")"
   ]
  },
  {
   "cell_type": "code",
   "execution_count": 69,
   "metadata": {},
   "outputs": [],
   "source": [
    "def genetic_algo(generation, t, moving_avg_fitness, threshold_percent_of_best, num_consecutive_stable_generations_required):\n",
    "    # Increment the generation count\n",
    "    t += 1\n",
    "   \n",
    "    # Evaluate fitness\n",
    "    fitness_vals = fitness(generation)\n",
    "    #print(fitness_vals)\n",
    "    fittest_strs = reproduction(generation, fitness_vals)\n",
    "    #print(fittest_strs)\n",
    "    offsprings = crossover(fittest_strs)\n",
    "    mutated_offsprings = mutation(offsprings)\n",
    "\n",
    "    # Calculate the fitness of the top three strings\n",
    "    fitness_values_sorted = np.argsort(-fitness_vals)\n",
    "    top_strings_fitness = fitness_values_sorted[:3]  # Assuming fitness_values_sorted contains sorted fitness values\n",
    "\n",
    "    # Calculate 2% of the fitness of the three best strings\n",
    "    threshold_fitness = np.mean(top_strings_fitness) * (threshold_percent_of_best / 100)\n",
    "\n",
    "    # Display progress and other information\n",
    "\n",
    "    #print(f\"Generation {t}: Moving Average Fitness = {avg_fitness:.2f}, Threshold Fitness = {threshold_fitness:.2f}\")  \n",
    "    print(f\"Generation {t}: Threshold Fitness = {threshold_fitness:.2f}\")   \n",
    "\n",
    "    # Assume some stopping condition to break out of the loop\n",
    "    if t >= 10:\n",
    "        print(\"Stopping criterion met. Algorithm terminated.\")\n",
    "        exit\n",
    "    else:\n",
    "        genetic_algo(mutated_offsprings, t, 0, 2, 5)\n",
    "    \n",
    "    \"\"\"\n",
    "    # Calculate the moving average of the fitness over five generations\n",
    "    moving_avg_fitness[t % 5] = np.mean(top_strings_fitness)\n",
    "    if t >= 5:\n",
    "        avg_fitness = np.mean(moving_avg_fitness)\n",
    "        \n",
    "        # Calculate 2% of the fitness of the three best strings\n",
    "        threshold_fitness = np.mean(top_strings_fitness) * (threshold_percent_of_best / 100)\n",
    "        \n",
    "        # Check if the moving average is less than the threshold\n",
    "        if avg_fitness < threshold_fitness:\n",
    "            print(\"Stopping criterion met. Algorithm terminated.\")\n",
    "            exit\n",
    "        else:\n",
    "            print(f\"Generation {t}: Moving Average Fitness = {avg_fitness:.2f}, Threshold Fitness = {threshold_fitness:.2f}\")    # Display progress and other information\n",
    "            genetic_algo(mutated_offsprings)\n",
    "    \"\"\""
   ]
  },
  {
   "cell_type": "code",
   "execution_count": 70,
   "metadata": {},
   "outputs": [
    {
     "name": "stdout",
     "output_type": "stream",
     "text": [
      "Generation 1: Threshold Fitness = 0.69\n"
     ]
    },
    {
     "ename": "IndexError",
     "evalue": "index 25 is out of bounds for axis 0 with size 25",
     "output_type": "error",
     "traceback": [
      "\u001b[1;31m---------------------------------------------------------------------------\u001b[0m",
      "\u001b[1;31mIndexError\u001b[0m                                Traceback (most recent call last)",
      "\u001b[1;32m<ipython-input-70-66bbfde2008d>\u001b[0m in \u001b[0;36m<module>\u001b[1;34m\u001b[0m\n\u001b[0;32m      5\u001b[0m \u001b[0mnum_consecutive_stable_generations_required\u001b[0m \u001b[1;33m=\u001b[0m \u001b[1;36m5\u001b[0m  \u001b[1;31m# Set the number of consecutive stable generations required\u001b[0m\u001b[1;33m\u001b[0m\u001b[1;33m\u001b[0m\u001b[0m\n\u001b[0;32m      6\u001b[0m \u001b[1;33m\u001b[0m\u001b[0m\n\u001b[1;32m----> 7\u001b[1;33m \u001b[0mgenetic_algo\u001b[0m\u001b[1;33m(\u001b[0m\u001b[0mPOP\u001b[0m\u001b[1;33m,\u001b[0m \u001b[0mt\u001b[0m\u001b[1;33m,\u001b[0m \u001b[0mmoving_avg_fitness\u001b[0m\u001b[1;33m,\u001b[0m \u001b[0mthreshold_percent_of_best\u001b[0m\u001b[1;33m,\u001b[0m \u001b[0mnum_consecutive_stable_generations_required\u001b[0m\u001b[1;33m)\u001b[0m\u001b[1;33m\u001b[0m\u001b[1;33m\u001b[0m\u001b[0m\n\u001b[0m",
      "\u001b[1;32m<ipython-input-69-eb741b9403ef>\u001b[0m in \u001b[0;36mgenetic_algo\u001b[1;34m(generation, t, moving_avg_fitness, threshold_percent_of_best, num_consecutive_stable_generations_required)\u001b[0m\n\u001b[0;32m     28\u001b[0m         \u001b[0mexit\u001b[0m\u001b[1;33m\u001b[0m\u001b[1;33m\u001b[0m\u001b[0m\n\u001b[0;32m     29\u001b[0m     \u001b[1;32melse\u001b[0m\u001b[1;33m:\u001b[0m\u001b[1;33m\u001b[0m\u001b[1;33m\u001b[0m\u001b[0m\n\u001b[1;32m---> 30\u001b[1;33m         \u001b[0mgenetic_algo\u001b[0m\u001b[1;33m(\u001b[0m\u001b[0mmutated_offsprings\u001b[0m\u001b[1;33m,\u001b[0m \u001b[0mt\u001b[0m\u001b[1;33m,\u001b[0m \u001b[1;36m0\u001b[0m\u001b[1;33m,\u001b[0m \u001b[1;36m2\u001b[0m\u001b[1;33m,\u001b[0m \u001b[1;36m5\u001b[0m\u001b[1;33m)\u001b[0m\u001b[1;33m\u001b[0m\u001b[1;33m\u001b[0m\u001b[0m\n\u001b[0m\u001b[0;32m     31\u001b[0m \u001b[1;33m\u001b[0m\u001b[0m\n\u001b[0;32m     32\u001b[0m     \"\"\"\n",
      "\u001b[1;32m<ipython-input-69-eb741b9403ef>\u001b[0m in \u001b[0;36mgenetic_algo\u001b[1;34m(generation, t, moving_avg_fitness, threshold_percent_of_best, num_consecutive_stable_generations_required)\u001b[0m\n\u001b[0;32m      8\u001b[0m     \u001b[0mfittest_strs\u001b[0m \u001b[1;33m=\u001b[0m \u001b[0mreproduction\u001b[0m\u001b[1;33m(\u001b[0m\u001b[0mgeneration\u001b[0m\u001b[1;33m,\u001b[0m \u001b[0mfitness_vals\u001b[0m\u001b[1;33m)\u001b[0m\u001b[1;33m\u001b[0m\u001b[1;33m\u001b[0m\u001b[0m\n\u001b[0;32m      9\u001b[0m     \u001b[1;31m#print(fittest_strs)\u001b[0m\u001b[1;33m\u001b[0m\u001b[1;33m\u001b[0m\u001b[1;33m\u001b[0m\u001b[0m\n\u001b[1;32m---> 10\u001b[1;33m     \u001b[0moffsprings\u001b[0m \u001b[1;33m=\u001b[0m \u001b[0mcrossover\u001b[0m\u001b[1;33m(\u001b[0m\u001b[0mfittest_strs\u001b[0m\u001b[1;33m)\u001b[0m\u001b[1;33m\u001b[0m\u001b[1;33m\u001b[0m\u001b[0m\n\u001b[0m\u001b[0;32m     11\u001b[0m     \u001b[0mmutated_offsprings\u001b[0m \u001b[1;33m=\u001b[0m \u001b[0mmutation\u001b[0m\u001b[1;33m(\u001b[0m\u001b[0moffsprings\u001b[0m\u001b[1;33m)\u001b[0m\u001b[1;33m\u001b[0m\u001b[1;33m\u001b[0m\u001b[0m\n\u001b[0;32m     12\u001b[0m \u001b[1;33m\u001b[0m\u001b[0m\n",
      "\u001b[1;32m<ipython-input-31-e5cf0949be37>\u001b[0m in \u001b[0;36mcrossover\u001b[1;34m(fittest_strings)\u001b[0m\n\u001b[0;32m     11\u001b[0m         \u001b[1;32mfor\u001b[0m \u001b[0mj\u001b[0m \u001b[1;32min\u001b[0m \u001b[0mcrossover_indices\u001b[0m\u001b[1;33m:\u001b[0m\u001b[1;33m\u001b[0m\u001b[1;33m\u001b[0m\u001b[0m\n\u001b[0;32m     12\u001b[0m             \u001b[1;31m# Swap the substrings (attributes) between the parent strings to produce offspring\u001b[0m\u001b[1;33m\u001b[0m\u001b[1;33m\u001b[0m\u001b[1;33m\u001b[0m\u001b[0m\n\u001b[1;32m---> 13\u001b[1;33m             \u001b[0moffspring_matrix\u001b[0m\u001b[1;33m[\u001b[0m\u001b[0mi\u001b[0m\u001b[1;33m,\u001b[0m \u001b[0mj\u001b[0m\u001b[1;33m*\u001b[0m\u001b[1;33m(\u001b[0m\u001b[0mL\u001b[0m\u001b[1;33m[\u001b[0m\u001b[0mj\u001b[0m\u001b[1;33m]\u001b[0m\u001b[1;33m-\u001b[0m\u001b[1;36m1\u001b[0m\u001b[1;33m)\u001b[0m\u001b[1;33m:\u001b[0m\u001b[1;33m(\u001b[0m\u001b[0mj\u001b[0m\u001b[1;33m+\u001b[0m\u001b[1;36m1\u001b[0m\u001b[1;33m)\u001b[0m\u001b[1;33m*\u001b[0m\u001b[1;33m(\u001b[0m\u001b[0mL\u001b[0m\u001b[1;33m[\u001b[0m\u001b[0mj\u001b[0m\u001b[1;33m]\u001b[0m\u001b[1;33m-\u001b[0m\u001b[1;36m1\u001b[0m\u001b[1;33m)\u001b[0m\u001b[1;33m]\u001b[0m \u001b[1;33m=\u001b[0m \u001b[0mfittest_strings\u001b[0m\u001b[1;33m[\u001b[0m\u001b[0mi\u001b[0m\u001b[1;33m+\u001b[0m\u001b[1;36m1\u001b[0m\u001b[1;33m,\u001b[0m \u001b[0mj\u001b[0m\u001b[1;33m*\u001b[0m\u001b[1;33m(\u001b[0m\u001b[0mL\u001b[0m\u001b[1;33m[\u001b[0m\u001b[0mj\u001b[0m\u001b[1;33m]\u001b[0m\u001b[1;33m-\u001b[0m\u001b[1;36m1\u001b[0m\u001b[1;33m)\u001b[0m\u001b[1;33m:\u001b[0m\u001b[1;33m(\u001b[0m\u001b[0mj\u001b[0m\u001b[1;33m+\u001b[0m\u001b[1;36m1\u001b[0m\u001b[1;33m)\u001b[0m\u001b[1;33m*\u001b[0m\u001b[1;33m(\u001b[0m\u001b[0mL\u001b[0m\u001b[1;33m[\u001b[0m\u001b[0mj\u001b[0m\u001b[1;33m]\u001b[0m\u001b[1;33m-\u001b[0m\u001b[1;36m1\u001b[0m\u001b[1;33m)\u001b[0m\u001b[1;33m]\u001b[0m\u001b[1;33m\u001b[0m\u001b[1;33m\u001b[0m\u001b[0m\n\u001b[0m\u001b[0;32m     14\u001b[0m             \u001b[0moffspring_matrix\u001b[0m\u001b[1;33m[\u001b[0m\u001b[0mi\u001b[0m\u001b[1;33m+\u001b[0m\u001b[1;36m1\u001b[0m\u001b[1;33m,\u001b[0m \u001b[0mj\u001b[0m\u001b[1;33m*\u001b[0m\u001b[1;33m(\u001b[0m\u001b[0mL\u001b[0m\u001b[1;33m[\u001b[0m\u001b[0mj\u001b[0m\u001b[1;33m]\u001b[0m\u001b[1;33m-\u001b[0m\u001b[1;36m1\u001b[0m\u001b[1;33m)\u001b[0m\u001b[1;33m:\u001b[0m\u001b[1;33m(\u001b[0m\u001b[0mj\u001b[0m\u001b[1;33m+\u001b[0m\u001b[1;36m1\u001b[0m\u001b[1;33m)\u001b[0m\u001b[1;33m*\u001b[0m\u001b[1;33m(\u001b[0m\u001b[0mL\u001b[0m\u001b[1;33m[\u001b[0m\u001b[0mj\u001b[0m\u001b[1;33m]\u001b[0m\u001b[1;33m-\u001b[0m\u001b[1;36m1\u001b[0m\u001b[1;33m)\u001b[0m\u001b[1;33m]\u001b[0m \u001b[1;33m=\u001b[0m \u001b[0mfittest_strings\u001b[0m\u001b[1;33m[\u001b[0m\u001b[0mi\u001b[0m\u001b[1;33m,\u001b[0m \u001b[0mj\u001b[0m\u001b[1;33m*\u001b[0m\u001b[1;33m(\u001b[0m\u001b[0mL\u001b[0m\u001b[1;33m[\u001b[0m\u001b[0mj\u001b[0m\u001b[1;33m]\u001b[0m\u001b[1;33m-\u001b[0m\u001b[1;36m1\u001b[0m\u001b[1;33m)\u001b[0m\u001b[1;33m:\u001b[0m\u001b[1;33m(\u001b[0m\u001b[0mj\u001b[0m\u001b[1;33m+\u001b[0m\u001b[1;36m1\u001b[0m\u001b[1;33m)\u001b[0m\u001b[1;33m*\u001b[0m\u001b[1;33m(\u001b[0m\u001b[0mL\u001b[0m\u001b[1;33m[\u001b[0m\u001b[0mj\u001b[0m\u001b[1;33m]\u001b[0m\u001b[1;33m-\u001b[0m\u001b[1;36m1\u001b[0m\u001b[1;33m)\u001b[0m\u001b[1;33m]\u001b[0m\u001b[1;33m\u001b[0m\u001b[1;33m\u001b[0m\u001b[0m\n\u001b[0;32m     15\u001b[0m \u001b[1;33m\u001b[0m\u001b[0m\n",
      "\u001b[1;31mIndexError\u001b[0m: index 25 is out of bounds for axis 0 with size 25"
     ]
    }
   ],
   "source": [
    "# Initialize variables for stopping rule\n",
    "t = 0\n",
    "moving_avg_fitness = [float('inf')] * 5  # Initialize with large values for the moving average\n",
    "threshold_percent_of_best = 2  # Set the threshold as 2% of the fitness of the three best strings\n",
    "num_consecutive_stable_generations_required = 5  # Set the number of consecutive stable generations required\n",
    "\n",
    "genetic_algo(POP, t, moving_avg_fitness, threshold_percent_of_best, num_consecutive_stable_generations_required)"
   ]
  }
 ],
 "metadata": {
  "kernelspec": {
   "display_name": ".venv",
   "language": "python",
   "name": "python3"
  },
  "language_info": {
   "codemirror_mode": {
    "name": "ipython",
    "version": 3
   },
   "file_extension": ".py",
   "mimetype": "text/x-python",
   "name": "python",
   "nbconvert_exporter": "python",
   "pygments_lexer": "ipython3",
   "version": "3.7.4"
  }
 },
 "nbformat": 4,
 "nbformat_minor": 2
}
