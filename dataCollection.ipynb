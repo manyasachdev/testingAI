{
  "cells": [
    {
      "cell_type": "markdown",
      "metadata": {
        "id": "view-in-github",
        "colab_type": "text"
      },
      "source": [
        "<a href=\"https://colab.research.google.com/github/manyasachdev/testingAI/blob/main/dataCollection.ipynb\" target=\"_parent\"><img src=\"https://colab.research.google.com/assets/colab-badge.svg\" alt=\"Open In Colab\"/></a>"
      ]
    },
    {
      "cell_type": "code",
      "execution_count": null,
      "metadata": {
        "id": "Zov3e15pbnic",
        "outputId": "fb999f2c-23c1-449c-c5e1-4c31b92d39a6"
      },
      "outputs": [
        {
          "name": "stdout",
          "output_type": "stream",
          "text": [
            "Collecting mediapipe\n",
            "  Using cached mediapipe-0.9.0.1-cp37-cp37m-win_amd64.whl.metadata (21 kB)\n",
            "Requirement already satisfied: absl-py in c:\\users\\manya\\anaconda3\\lib\\site-packages (from mediapipe) (0.15.0)\n",
            "Requirement already satisfied: attrs>=19.1.0 in c:\\users\\manya\\anaconda3\\lib\\site-packages (from mediapipe) (19.2.0)\n",
            "Collecting flatbuffers>=2.0 (from mediapipe)\n",
            "  Using cached flatbuffers-23.5.26-py2.py3-none-any.whl.metadata (850 bytes)\n",
            "Requirement already satisfied: matplotlib in c:\\users\\manya\\anaconda3\\lib\\site-packages (from mediapipe) (3.1.1)\n",
            "Requirement already satisfied: numpy in c:\\users\\manya\\anaconda3\\lib\\site-packages (from mediapipe) (1.19.5)\n",
            "Collecting opencv-contrib-python (from mediapipe)\n",
            "  Using cached opencv_contrib_python-4.9.0.80-cp37-abi3-win_amd64.whl.metadata (20 kB)\n",
            "Requirement already satisfied: protobuf<4,>=3.11 in c:\\users\\manya\\anaconda3\\lib\\site-packages (from mediapipe) (3.20.3)\n",
            "Requirement already satisfied: six in c:\\users\\manya\\anaconda3\\lib\\site-packages (from absl-py->mediapipe) (1.15.0)\n",
            "Requirement already satisfied: cycler>=0.10 in c:\\users\\manya\\anaconda3\\lib\\site-packages (from matplotlib->mediapipe) (0.10.0)\n",
            "Requirement already satisfied: kiwisolver>=1.0.1 in c:\\users\\manya\\anaconda3\\lib\\site-packages (from matplotlib->mediapipe) (1.1.0)\n",
            "Requirement already satisfied: pyparsing!=2.0.4,!=2.1.2,!=2.1.6,>=2.0.1 in c:\\users\\manya\\anaconda3\\lib\\site-packages (from matplotlib->mediapipe) (2.4.2)\n",
            "Requirement already satisfied: python-dateutil>=2.1 in c:\\users\\manya\\anaconda3\\lib\\site-packages (from matplotlib->mediapipe) (2.8.0)\n",
            "Requirement already satisfied: setuptools in c:\\users\\manya\\anaconda3\\lib\\site-packages (from kiwisolver>=1.0.1->matplotlib->mediapipe) (68.0.0)\n",
            "Using cached mediapipe-0.9.0.1-cp37-cp37m-win_amd64.whl (49.8 MB)\n",
            "Using cached flatbuffers-23.5.26-py2.py3-none-any.whl (26 kB)\n",
            "Using cached opencv_contrib_python-4.9.0.80-cp37-abi3-win_amd64.whl (45.3 MB)\n",
            "Installing collected packages: flatbuffers, opencv-contrib-python, mediapipe\n",
            "  Attempting uninstall: flatbuffers\n",
            "    Found existing installation: flatbuffers 1.12\n",
            "    Uninstalling flatbuffers-1.12:\n",
            "      Successfully uninstalled flatbuffers-1.12\n",
            "Successfully installed flatbuffers-23.5.26 mediapipe-0.9.0.1 opencv-contrib-python-4.9.0.80\n",
            "Note: you may need to restart the kernel to use updated packages.\n"
          ]
        },
        {
          "name": "stderr",
          "output_type": "stream",
          "text": [
            "ERROR: pip's dependency resolver does not currently take into account all the packages that are installed. This behaviour is the source of the following dependency conflicts.\n",
            "tensorflow 2.4.1 requires flatbuffers~=1.12.0, but you have flatbuffers 23.5.26 which is incompatible.\n"
          ]
        }
      ],
      "source": [
        "%pip install mediapipe"
      ]
    },
    {
      "cell_type": "code",
      "execution_count": null,
      "metadata": {
        "id": "j2AKL4vrbnik",
        "outputId": "3fe443f8-a686-42b6-9f3c-ec66daf4a01b"
      },
      "outputs": [
        {
          "name": "stdout",
          "output_type": "stream",
          "text": [
            "Collecting opencv-python\n",
            "  Using cached opencv_python-4.9.0.80-cp37-abi3-win_amd64.whl.metadata (20 kB)\n",
            "Requirement already satisfied: numpy>=1.17.0 in c:\\users\\manya\\anaconda3\\lib\\site-packages (from opencv-python) (1.19.5)\n",
            "Using cached opencv_python-4.9.0.80-cp37-abi3-win_amd64.whl (38.6 MB)\n",
            "Installing collected packages: opencv-python\n",
            "Note: you may need to restart the kernel to use updated packages.\n"
          ]
        },
        {
          "name": "stderr",
          "output_type": "stream",
          "text": [
            "ERROR: Could not install packages due to an OSError: [WinError 5] Access is denied: 'c:\\\\Users\\\\manya\\\\Anaconda3\\\\Lib\\\\site-packages\\\\cv2\\\\cv2.pyd'\n",
            "Consider using the `--user` option or check the permissions.\n",
            "\n"
          ]
        }
      ],
      "source": [
        "%pip install opencv-python"
      ]
    },
    {
      "cell_type": "code",
      "execution_count": null,
      "metadata": {
        "id": "RqfCjtpdbnil"
      },
      "outputs": [],
      "source": [
        "import cv2\n",
        "import numpy as np\n",
        "import os\n",
        "from matplotlib import pyplot as plt\n",
        "import time\n",
        "import mediapipe as mp"
      ]
    },
    {
      "cell_type": "markdown",
      "metadata": {
        "id": "s6ZdH4nhbnio"
      },
      "source": [
        "Defining Keypoints"
      ]
    },
    {
      "cell_type": "code",
      "execution_count": null,
      "metadata": {
        "id": "THw3Pg0Dbnit"
      },
      "outputs": [],
      "source": [
        "mp_holistic = mp.solutions.holistic\n",
        "mp_drawing = mp.solutions.drawing_utils"
      ]
    },
    {
      "cell_type": "code",
      "execution_count": null,
      "metadata": {
        "id": "h0VXpOGxbniu"
      },
      "outputs": [],
      "source": [
        "def mediapipe_detection(image, model):\n",
        "    image = cv2.cvtColor(image, cv2.COLOR_BGR2RGB)\n",
        "    image.flags.writeable = False\n",
        "    results = model.process(image)\n",
        "    image.flags.writeable = True\n",
        "    image = cv2.cvtColor(image, cv2.COLOR_RGB2BGR)\n",
        "    return image, results"
      ]
    },
    {
      "cell_type": "code",
      "execution_count": null,
      "metadata": {
        "id": "63j6jtJ6bniy"
      },
      "outputs": [],
      "source": [
        "def draw_landmarks(image, results):\n",
        "    mp_drawing.draw_landmarks(image, results.pose_landmarks, mp_holistic.POSE_CONNECTIONS) #Body pose\n",
        "    mp_drawing.draw_landmarks(image, results.left_hand_landmarks, mp_holistic.HAND_CONNECTIONS) #Left hand\n",
        "\n",
        "    mp_drawing.draw_landmarks(image, results.right_hand_landmarks, mp_holistic.HAND_CONNECTIONS) #Right hand"
      ]
    },
    {
      "cell_type": "code",
      "execution_count": null,
      "metadata": {
        "id": "CMfwMWwpbni0"
      },
      "outputs": [],
      "source": [
        "#Drawing landmarks and connections\n",
        "def draw_styled_landmarks(image, results):\n",
        "    #body pose\n",
        "    mp_drawing.draw_landmarks(image, results.pose_landmarks, mp_holistic.POSE_CONNECTIONS,\n",
        "                             mp_drawing.DrawingSpec(color=(121,22,76), thickness=2, circle_radius=4),\n",
        "                             mp_drawing.DrawingSpec(color=(121,44,250), thickness=2, circle_radius=2)\n",
        "                             )\n",
        "    #left hand\n",
        "    mp_drawing.draw_landmarks(image, results.left_hand_landmarks, mp_holistic.HAND_CONNECTIONS,\n",
        "                             mp_drawing.DrawingSpec(color=(80,22,10), thickness=2, circle_radius=4),\n",
        "                             mp_drawing.DrawingSpec(color=(80,44,121), thickness=2, circle_radius=2)\n",
        "                             )\n",
        "    #right hand\n",
        "    mp_drawing.draw_landmarks(image, results.right_hand_landmarks, mp_holistic.HAND_CONNECTIONS,\n",
        "                             mp_drawing.DrawingSpec(color=(245,117,66), thickness=2, circle_radius=4),\n",
        "                             mp_drawing.DrawingSpec(color=(245,66,230), thickness=2, circle_radius=2)\n",
        "                             )"
      ]
    },
    {
      "cell_type": "code",
      "execution_count": null,
      "metadata": {
        "id": "R1bvF-fNbni1",
        "outputId": "df11576e-d1d6-41f9-87b7-83d8b4f78fd0"
      },
      "outputs": [
        {
          "name": "stdout",
          "output_type": "stream",
          "text": [
            "<class 'mediapipe.python.solution_base.SolutionOutputs'>\n",
            "<class 'mediapipe.python.solution_base.SolutionOutputs'>\n",
            "<class 'mediapipe.python.solution_base.SolutionOutputs'>\n",
            "<class 'mediapipe.python.solution_base.SolutionOutputs'>\n",
            "<class 'mediapipe.python.solution_base.SolutionOutputs'>\n",
            "<class 'mediapipe.python.solution_base.SolutionOutputs'>\n",
            "<class 'mediapipe.python.solution_base.SolutionOutputs'>\n",
            "<class 'mediapipe.python.solution_base.SolutionOutputs'>\n",
            "<class 'mediapipe.python.solution_base.SolutionOutputs'>\n",
            "<class 'mediapipe.python.solution_base.SolutionOutputs'>\n",
            "<class 'mediapipe.python.solution_base.SolutionOutputs'>\n",
            "<class 'mediapipe.python.solution_base.SolutionOutputs'>\n",
            "<class 'mediapipe.python.solution_base.SolutionOutputs'>\n",
            "<class 'mediapipe.python.solution_base.SolutionOutputs'>\n",
            "<class 'mediapipe.python.solution_base.SolutionOutputs'>\n",
            "<class 'mediapipe.python.solution_base.SolutionOutputs'>\n",
            "<class 'mediapipe.python.solution_base.SolutionOutputs'>\n",
            "<class 'mediapipe.python.solution_base.SolutionOutputs'>\n",
            "<class 'mediapipe.python.solution_base.SolutionOutputs'>\n",
            "<class 'mediapipe.python.solution_base.SolutionOutputs'>\n",
            "<class 'mediapipe.python.solution_base.SolutionOutputs'>\n",
            "<class 'mediapipe.python.solution_base.SolutionOutputs'>\n",
            "<class 'mediapipe.python.solution_base.SolutionOutputs'>\n",
            "<class 'mediapipe.python.solution_base.SolutionOutputs'>\n",
            "<class 'mediapipe.python.solution_base.SolutionOutputs'>\n",
            "<class 'mediapipe.python.solution_base.SolutionOutputs'>\n",
            "<class 'mediapipe.python.solution_base.SolutionOutputs'>\n",
            "<class 'mediapipe.python.solution_base.SolutionOutputs'>\n",
            "<class 'mediapipe.python.solution_base.SolutionOutputs'>\n",
            "<class 'mediapipe.python.solution_base.SolutionOutputs'>\n",
            "<class 'mediapipe.python.solution_base.SolutionOutputs'>\n",
            "<class 'mediapipe.python.solution_base.SolutionOutputs'>\n",
            "<class 'mediapipe.python.solution_base.SolutionOutputs'>\n",
            "<class 'mediapipe.python.solution_base.SolutionOutputs'>\n",
            "<class 'mediapipe.python.solution_base.SolutionOutputs'>\n",
            "<class 'mediapipe.python.solution_base.SolutionOutputs'>\n",
            "<class 'mediapipe.python.solution_base.SolutionOutputs'>\n",
            "<class 'mediapipe.python.solution_base.SolutionOutputs'>\n",
            "<class 'mediapipe.python.solution_base.SolutionOutputs'>\n",
            "<class 'mediapipe.python.solution_base.SolutionOutputs'>\n",
            "<class 'mediapipe.python.solution_base.SolutionOutputs'>\n",
            "<class 'mediapipe.python.solution_base.SolutionOutputs'>\n",
            "<class 'mediapipe.python.solution_base.SolutionOutputs'>\n",
            "<class 'mediapipe.python.solution_base.SolutionOutputs'>\n",
            "<class 'mediapipe.python.solution_base.SolutionOutputs'>\n",
            "<class 'mediapipe.python.solution_base.SolutionOutputs'>\n",
            "<class 'mediapipe.python.solution_base.SolutionOutputs'>\n",
            "<class 'mediapipe.python.solution_base.SolutionOutputs'>\n",
            "<class 'mediapipe.python.solution_base.SolutionOutputs'>\n"
          ]
        }
      ],
      "source": [
        "cap = cv2.VideoCapture(0)\n",
        "with mp_holistic.Holistic(min_detection_confidence=0.5, min_tracking_confidence=0.5) as holistic:\n",
        "    while cap.isOpened():\n",
        "\n",
        "        ret, frame = cap.read()\n",
        "        image, results = mediapipe_detection(frame, holistic)\n",
        "        print(results)\n",
        "\n",
        "        draw_styled_landmarks(image, results)\n",
        "\n",
        "        cv2.imshow('OpenCV Feed', image)\n",
        "\n",
        "        if cv2.waitKey(10) & 0xFF == ord('q'):\n",
        "            break\n",
        "\n",
        "    cap.release()\n",
        "    cv2.destroyAllWindows()"
      ]
    },
    {
      "cell_type": "code",
      "execution_count": null,
      "metadata": {
        "id": "T6_7Vpwnbni4"
      },
      "outputs": [],
      "source": [
        "draw_landmarks(frame, results)"
      ]
    },
    {
      "cell_type": "code",
      "execution_count": null,
      "metadata": {
        "id": "oTqVLqDSbni6",
        "outputId": "75a8ec05-9321-4d1d-d05e-768dffdd7782"
      },
      "outputs": [
        {
          "data": {
            "text/plain": [
              "<matplotlib.image.AxesImage at 0x1d890018ec8>"
            ]
          },
          "execution_count": 12,
          "metadata": {},
          "output_type": "execute_result"
        },
        {
          "data": {
            "image/png": "[encoded data removed]",
            "text/plain": [
              "<Figure size 432x288 with 1 Axes>"
            ]
          },
          "metadata": {
            "needs_background": "light"
          },
          "output_type": "display_data"
        }
      ],
      "source": [
        "plt.imshow(cv2.cvtColor(frame, cv2.COLOR_BGR2RGB))"
      ]
    },
    {
      "cell_type": "markdown",
      "metadata": {
        "id": "6y2britabni8"
      },
      "source": [
        "Extracting keypoints"
      ]
    },
    {
      "cell_type": "code",
      "execution_count": null,
      "metadata": {
        "id": "8iZldn0Zbni-"
      },
      "outputs": [],
      "source": [
        "pose = []\n",
        "for res in results.pose_landmarks.landmark:\n",
        "    test = np.array([res.x, res.y, res.z, res.visibility])\n",
        "    pose.append(test)"
      ]
    },
    {
      "cell_type": "code",
      "execution_count": null,
      "metadata": {
        "id": "-y8GiGBkbni_"
      },
      "outputs": [],
      "source": [
        "pose = np.array([[res.x, res.y, res.z, res.visibility] for res in results.pose_landmarks.landmark]).flatten() if results.pose_landmarks else np.zeros(132)\n",
        "face = np.array([[res.x, res.y, res.z] for res in results.face_landmarks.landmark]).flatten() if results.face_landmarks else np.zeros(1404)\n",
        "lh = np.array([[res.x, res.y, res.z] for res in results.left_hand_landmarks.landmark]).flatten() if results.left_hand_landmarks else np.zeros(21*3)\n",
        "rh = np.array([[res.x, res.y, res.z] for res in results.right_hand_landmarks.landmark]).flatten() if results.right_hand_landmarks else np.zeros(21*3)"
      ]
    },
    {
      "cell_type": "code",
      "execution_count": null,
      "metadata": {
        "id": "8j_ZuZ8_bni_",
        "outputId": "719d995f-46b0-4451-c59a-f8189b94c624"
      },
      "outputs": [
        {
          "data": {
            "text/plain": [
              "array([0., 0., 0., 0., 0., 0., 0., 0., 0., 0., 0., 0., 0., 0., 0., 0., 0.,\n",
              "       0., 0., 0., 0., 0., 0., 0., 0., 0., 0., 0., 0., 0., 0., 0., 0., 0.,\n",
              "       0., 0., 0., 0., 0., 0., 0., 0., 0., 0., 0., 0., 0., 0., 0., 0., 0.,\n",
              "       0., 0., 0., 0., 0., 0., 0., 0., 0., 0., 0., 0.])"
            ]
          },
          "execution_count": 15,
          "metadata": {},
          "output_type": "execute_result"
        }
      ],
      "source": [
        "rh"
      ]
    },
    {
      "cell_type": "code",
      "execution_count": null,
      "metadata": {
        "id": "1D280nvabnjA"
      },
      "outputs": [],
      "source": [
        "face = np.array([[res.x, res.y, res.z] for res in results.face_landmarks.landmark]).flatten() if results.face_landmarks else np.zeros(1404)"
      ]
    },
    {
      "cell_type": "code",
      "execution_count": null,
      "metadata": {
        "id": "RC_KkrtZbnjA"
      },
      "outputs": [],
      "source": [
        "def extract_keypoints(results):\n",
        "    pose = np.array([[res.x, res.y, res.z, res.visibility] for res in results.pose_landmarks.landmark]).flatten() if results.pose_landmarks else np.zeros(33*4)\n",
        "    face = np.array([[res.x, res.y, res.z] for res in results.face_landmarks.landmark]).flatten() if results.face_landmarks else np.zeros(468*3)\n",
        "    lh = np.array([[res.x, res.y, res.z] for res in results.left_hand_landmarks.landmark]).flatten() if results.left_hand_landmarks else np.zeros(21*3)\n",
        "    rh = np.array([[res.x, res.y, res.z] for res in results.right_hand_landmarks.landmark]).flatten() if results.right_hand_landmarks else np.zeros(21*3)\n",
        "    return np.concatenate([pose, face, lh, rh]) #concatenate since we're going to use all for gesture recognition"
      ]
    },
    {
      "cell_type": "code",
      "execution_count": null,
      "metadata": {
        "id": "j5LtkEKVbnjB"
      },
      "outputs": [],
      "source": [
        "result_test = extract_keypoints(results)"
      ]
    },
    {
      "cell_type": "code",
      "execution_count": null,
      "metadata": {
        "id": "UfYVMIL2bnjB",
        "outputId": "708e3473-e77b-4b8f-a59b-472e21a51cf4"
      },
      "outputs": [
        {
          "data": {
            "text/plain": [
              "array([ 0.4939715 ,  0.48343837, -1.38960981,  0.99775773,  0.52441114,\n",
              "        0.42141792, -1.31943655,  0.99571073,  0.54792792,  0.4235287 ])"
            ]
          },
          "execution_count": 19,
          "metadata": {},
          "output_type": "execute_result"
        }
      ],
      "source": [
        "extract_keypoints(results)[:10]"
      ]
    },
    {
      "cell_type": "code",
      "execution_count": null,
      "metadata": {
        "id": "Tb0taGRibnjC"
      },
      "outputs": [],
      "source": [
        "np.save('0', result_test)"
      ]
    },
    {
      "cell_type": "code",
      "execution_count": null,
      "metadata": {
        "id": "SUUbrHXRbnjC",
        "outputId": "379344cd-0bdb-4d8a-c57b-aece7d37a98c"
      },
      "outputs": [
        {
          "data": {
            "text/plain": [
              "array([ 0.4939715 ,  0.48343837, -1.38960981, ...,  0.        ,\n",
              "        0.        ,  0.        ])"
            ]
          },
          "execution_count": 21,
          "metadata": {},
          "output_type": "execute_result"
        }
      ],
      "source": [
        "np.load('0.npy')"
      ]
    },
    {
      "cell_type": "markdown",
      "metadata": {
        "id": "s8fOnjXqbnjC"
      },
      "source": [
        "Setting up folders for data collection"
      ]
    },
    {
      "cell_type": "code",
      "execution_count": null,
      "metadata": {
        "id": "Oa4yeDRsbnjD"
      },
      "outputs": [],
      "source": [
        "DATA_PATH = os.path.join('MP_Data')\n",
        "#Number of videos per action\n",
        "no_sequences = 30\n",
        "#Frame length\n",
        "sequence_length = 30\n",
        "start_folder = 30"
      ]
    },
    {
      "cell_type": "code",
      "execution_count": null,
      "metadata": {
        "id": "tMEkcdPKbnjD",
        "outputId": "5e768c7c-565d-46fc-f8a8-30145f0840eb"
      },
      "outputs": [
        {
          "name": "stdout",
          "output_type": "stream",
          "text": [
            "MP_Data\n"
          ]
        }
      ],
      "source": [
        "print(DATA_PATH)"
      ]
    },
    {
      "cell_type": "code",
      "execution_count": null,
      "metadata": {
        "id": "67HOYmq7bnjE"
      },
      "outputs": [],
      "source": [
        "actions = np.array(['piano', 'guitar', 'violin', 'drums', 'saxophone'])\n",
        "#actions_2 = np.array(['violin'])\n",
        "\n",
        "for action in actions:\n",
        "    #path to the action directory\n",
        "    action_path = os.path.join(DATA_PATH, action)\n",
        "\n",
        "    #logic\n",
        "    if not os.path.exists(action_path):\n",
        "        os.makedirs(action_path)\n",
        "\n",
        "    existing_dirs = [d for d in os.listdir(action_path) if os.path.isdir(os.path.join(action_path, d))]\n",
        "\n",
        "    if existing_dirs:\n",
        "        dirmax = np.max(np.array(existing_dirs).astype(int))\n",
        "    else:\n",
        "        dirmax = 0\n",
        "\n",
        "    #Creating directories for the specified number of sequences, i.e. 30 folders for 30 samples under each action\n",
        "    for sequence in range(0, no_sequences):\n",
        "        try:\n",
        "            os.makedirs(os.path.join(action_path, str(dirmax + sequence)))\n",
        "        except FileExistsError:\n",
        "            pass"
      ]
    },
    {
      "cell_type": "markdown",
      "metadata": {
        "id": "0E1WJD6NbnjE"
      },
      "source": [
        "Data Collection"
      ]
    },
    {
      "cell_type": "code",
      "execution_count": null,
      "metadata": {
        "id": "3UQshY0RbnjE"
      },
      "outputs": [],
      "source": [
        "cap = cv2.VideoCapture(0)\n",
        "with mp_holistic.Holistic(min_detection_confidence=0.5, min_tracking_confidence=0.5) as holistic:\n",
        "\n",
        "    #actions_2 = ['violin']\n",
        "\n",
        "    for action in actions:\n",
        "        for sequence in range(no_sequences):\n",
        "            for frame_num in range(sequence_length):\n",
        "\n",
        "                ret, frame = cap.read()\n",
        "\n",
        "                image, results = mediapipe_detection(frame, holistic)\n",
        "\n",
        "                draw_styled_landmarks(image, results)\n",
        "\n",
        "                #Wait logic\n",
        "                if frame_num == 0:\n",
        "                    cv2.putText(image, 'START', (120,200),\n",
        "                               cv2.FONT_HERSHEY_SIMPLEX, 1, (0,255, 0), 4, cv2.LINE_AA)\n",
        "                    cv2.putText(image, 'Collecting frames for {} Video Number {}'.format(action, sequence), (15,12),\n",
        "                               cv2.FONT_HERSHEY_SIMPLEX, 0.5, (0, 0, 255), 1, cv2.LINE_AA)\n",
        "                    cv2.imshow('OpenCV Feed', image)\n",
        "                    cv2.waitKey(1000)\n",
        "                else:\n",
        "                    cv2.putText(image, 'Collecting frames for {} Video Number {}'.format(action, sequence), (15,12),\n",
        "                               cv2.FONT_HERSHEY_SIMPLEX, 0.5, (0, 0, 255), 1, cv2.LINE_AA)\n",
        "                    cv2.imshow('OpenCV Feed', image)\n",
        "\n",
        "                #Export keypoints for each video captured\n",
        "                keypoints = extract_keypoints(results)\n",
        "                npy_path = os.path.join(DATA_PATH, action, str(sequence), str(frame_num))\n",
        "                np.save(npy_path, keypoints)\n",
        "\n",
        "                #Break logic\n",
        "                if cv2.waitKey(10) & 0xFF == ord('q'):\n",
        "                    break\n",
        "\n",
        "    cap.release()\n",
        "    cv2.destroyAllWindows()"
      ]
    },
    {
      "cell_type": "code",
      "execution_count": null,
      "metadata": {
        "id": "yLeuAo4YbnjF"
      },
      "outputs": [],
      "source": [
        "cap.release()\n",
        "cv2.destroyAllWindows()"
      ]
    },
    {
      "cell_type": "markdown",
      "metadata": {
        "id": "ohgeShfubnjF"
      },
      "source": [
        "Preprocess data, create labels, features"
      ]
    },
    {
      "cell_type": "code",
      "execution_count": null,
      "metadata": {
        "id": "mgJuw1z0bnjG"
      },
      "outputs": [],
      "source": [
        "from sklearn.model_selection import train_test_split\n",
        "from tensorflow.keras.utils import to_categorical"
      ]
    },
    {
      "cell_type": "code",
      "execution_count": null,
      "metadata": {
        "id": "sTxzQMMubnjG"
      },
      "outputs": [],
      "source": [
        "label_map = {label:num for num, label in enumerate(actions)}"
      ]
    },
    {
      "cell_type": "code",
      "execution_count": null,
      "metadata": {
        "id": "bOtJxpPLbnjG",
        "outputId": "1a7f7571-c9e6-43b1-d37a-5bb7d17ce9ed"
      },
      "outputs": [
        {
          "data": {
            "text/plain": [
              "{'piano': 0, 'guitar': 1, 'violin': 2, 'drums': 3, 'saxophone': 4}"
            ]
          },
          "execution_count": 96,
          "metadata": {},
          "output_type": "execute_result"
        }
      ],
      "source": [
        "label_map"
      ]
    },
    {
      "cell_type": "code",
      "execution_count": null,
      "metadata": {
        "id": "isU1RpMibnjH"
      },
      "outputs": [],
      "source": [
        "sequences, labels = [], [] #sequences = features = (X), labels = (Y)\n",
        "for action in actions:\n",
        "    action_path = os.path.join(DATA_PATH, action)\n",
        "    for sequence_dir in os.listdir(action_path):\n",
        "        sequence_path = os.path.join(action_path, sequence_dir)\n",
        "        if os.path.isdir(sequence_path):\n",
        "            window = []\n",
        "            for frame_num in range(sequence_length):\n",
        "                res = np.load(os.path.join(sequence_path, \"{}.npy\".format(frame_num)))\n",
        "                window.append(res)\n",
        "            sequences.append(window)\n",
        "            labels.append(label_map[action])"
      ]
    },
    {
      "cell_type": "code",
      "execution_count": null,
      "metadata": {
        "id": "obwiwIvpbnjI",
        "outputId": "1e09298b-51d8-4636-b0ad-4640a70451f6"
      },
      "outputs": [
        {
          "data": {
            "text/plain": [
              "(150, 30, 1662)"
            ]
          },
          "execution_count": 99,
          "metadata": {},
          "output_type": "execute_result"
        }
      ],
      "source": [
        "np.array(sequences).shape"
      ]
    },
    {
      "cell_type": "code",
      "execution_count": null,
      "metadata": {
        "id": "ZNtzvEMZbnjJ",
        "outputId": "506c0d65-e836-4b43-f308-46952068b9c1"
      },
      "outputs": [
        {
          "data": {
            "text/plain": [
              "(150,)"
            ]
          },
          "execution_count": 100,
          "metadata": {},
          "output_type": "execute_result"
        }
      ],
      "source": [
        "np.array(labels).shape"
      ]
    },
    {
      "cell_type": "code",
      "execution_count": null,
      "metadata": {
        "id": "Kw6Nx0FEbnjK"
      },
      "outputs": [],
      "source": [
        "X = np.array(sequences)"
      ]
    },
    {
      "cell_type": "code",
      "execution_count": null,
      "metadata": {
        "id": "tlt14WfJbnjK",
        "outputId": "784ca9b7-a807-4cf3-db92-3dd187f506fe"
      },
      "outputs": [
        {
          "data": {
            "text/plain": [
              "(150, 30, 1662)"
            ]
          },
          "execution_count": 102,
          "metadata": {},
          "output_type": "execute_result"
        }
      ],
      "source": [
        "X.shape"
      ]
    },
    {
      "cell_type": "code",
      "execution_count": null,
      "metadata": {
        "id": "2AZq6Gs8bnjP"
      },
      "outputs": [],
      "source": [
        "y = to_categorical(labels).astype(int)"
      ]
    },
    {
      "cell_type": "code",
      "execution_count": null,
      "metadata": {
        "id": "ZdKDwLWwbnjQ",
        "outputId": "1a1fb65c-ba4c-43fa-b0b9-aa3a8a903b72"
      },
      "outputs": [
        {
          "data": {
            "text/plain": [
              "array([[1, 0, 0, 0, 0],\n",
              "       [1, 0, 0, 0, 0],\n",
              "       [1, 0, 0, 0, 0],\n",
              "       [1, 0, 0, 0, 0],\n",
              "       [1, 0, 0, 0, 0],\n",
              "       [1, 0, 0, 0, 0],\n",
              "       [1, 0, 0, 0, 0],\n",
              "       [1, 0, 0, 0, 0],\n",
              "       [1, 0, 0, 0, 0],\n",
              "       [1, 0, 0, 0, 0],\n",
              "       [1, 0, 0, 0, 0],\n",
              "       [1, 0, 0, 0, 0],\n",
              "       [1, 0, 0, 0, 0],\n",
              "       [1, 0, 0, 0, 0],\n",
              "       [1, 0, 0, 0, 0],\n",
              "       [1, 0, 0, 0, 0],\n",
              "       [1, 0, 0, 0, 0],\n",
              "       [1, 0, 0, 0, 0],\n",
              "       [1, 0, 0, 0, 0],\n",
              "       [1, 0, 0, 0, 0],\n",
              "       [1, 0, 0, 0, 0],\n",
              "       [1, 0, 0, 0, 0],\n",
              "       [1, 0, 0, 0, 0],\n",
              "       [1, 0, 0, 0, 0],\n",
              "       [1, 0, 0, 0, 0],\n",
              "       [1, 0, 0, 0, 0],\n",
              "       [1, 0, 0, 0, 0],\n",
              "       [1, 0, 0, 0, 0],\n",
              "       [1, 0, 0, 0, 0],\n",
              "       [1, 0, 0, 0, 0],\n",
              "       [0, 1, 0, 0, 0],\n",
              "       [0, 1, 0, 0, 0],\n",
              "       [0, 1, 0, 0, 0],\n",
              "       [0, 1, 0, 0, 0],\n",
              "       [0, 1, 0, 0, 0],\n",
              "       [0, 1, 0, 0, 0],\n",
              "       [0, 1, 0, 0, 0],\n",
              "       [0, 1, 0, 0, 0],\n",
              "       [0, 1, 0, 0, 0],\n",
              "       [0, 1, 0, 0, 0],\n",
              "       [0, 1, 0, 0, 0],\n",
              "       [0, 1, 0, 0, 0],\n",
              "       [0, 1, 0, 0, 0],\n",
              "       [0, 1, 0, 0, 0],\n",
              "       [0, 1, 0, 0, 0],\n",
              "       [0, 1, 0, 0, 0],\n",
              "       [0, 1, 0, 0, 0],\n",
              "       [0, 1, 0, 0, 0],\n",
              "       [0, 1, 0, 0, 0],\n",
              "       [0, 1, 0, 0, 0],\n",
              "       [0, 1, 0, 0, 0],\n",
              "       [0, 1, 0, 0, 0],\n",
              "       [0, 1, 0, 0, 0],\n",
              "       [0, 1, 0, 0, 0],\n",
              "       [0, 1, 0, 0, 0],\n",
              "       [0, 1, 0, 0, 0],\n",
              "       [0, 1, 0, 0, 0],\n",
              "       [0, 1, 0, 0, 0],\n",
              "       [0, 1, 0, 0, 0],\n",
              "       [0, 1, 0, 0, 0],\n",
              "       [0, 0, 1, 0, 0],\n",
              "       [0, 0, 1, 0, 0],\n",
              "       [0, 0, 1, 0, 0],\n",
              "       [0, 0, 1, 0, 0],\n",
              "       [0, 0, 1, 0, 0],\n",
              "       [0, 0, 1, 0, 0],\n",
              "       [0, 0, 1, 0, 0],\n",
              "       [0, 0, 1, 0, 0],\n",
              "       [0, 0, 1, 0, 0],\n",
              "       [0, 0, 1, 0, 0],\n",
              "       [0, 0, 1, 0, 0],\n",
              "       [0, 0, 1, 0, 0],\n",
              "       [0, 0, 1, 0, 0],\n",
              "       [0, 0, 1, 0, 0],\n",
              "       [0, 0, 1, 0, 0],\n",
              "       [0, 0, 1, 0, 0],\n",
              "       [0, 0, 1, 0, 0],\n",
              "       [0, 0, 1, 0, 0],\n",
              "       [0, 0, 1, 0, 0],\n",
              "       [0, 0, 1, 0, 0],\n",
              "       [0, 0, 1, 0, 0],\n",
              "       [0, 0, 1, 0, 0],\n",
              "       [0, 0, 1, 0, 0],\n",
              "       [0, 0, 1, 0, 0],\n",
              "       [0, 0, 1, 0, 0],\n",
              "       [0, 0, 1, 0, 0],\n",
              "       [0, 0, 1, 0, 0],\n",
              "       [0, 0, 1, 0, 0],\n",
              "       [0, 0, 1, 0, 0],\n",
              "       [0, 0, 1, 0, 0],\n",
              "       [0, 0, 0, 1, 0],\n",
              "       [0, 0, 0, 1, 0],\n",
              "       [0, 0, 0, 1, 0],\n",
              "       [0, 0, 0, 1, 0],\n",
              "       [0, 0, 0, 1, 0],\n",
              "       [0, 0, 0, 1, 0],\n",
              "       [0, 0, 0, 1, 0],\n",
              "       [0, 0, 0, 1, 0],\n",
              "       [0, 0, 0, 1, 0],\n",
              "       [0, 0, 0, 1, 0],\n",
              "       [0, 0, 0, 1, 0],\n",
              "       [0, 0, 0, 1, 0],\n",
              "       [0, 0, 0, 1, 0],\n",
              "       [0, 0, 0, 1, 0],\n",
              "       [0, 0, 0, 1, 0],\n",
              "       [0, 0, 0, 1, 0],\n",
              "       [0, 0, 0, 1, 0],\n",
              "       [0, 0, 0, 1, 0],\n",
              "       [0, 0, 0, 1, 0],\n",
              "       [0, 0, 0, 1, 0],\n",
              "       [0, 0, 0, 1, 0],\n",
              "       [0, 0, 0, 1, 0],\n",
              "       [0, 0, 0, 1, 0],\n",
              "       [0, 0, 0, 1, 0],\n",
              "       [0, 0, 0, 1, 0],\n",
              "       [0, 0, 0, 1, 0],\n",
              "       [0, 0, 0, 1, 0],\n",
              "       [0, 0, 0, 1, 0],\n",
              "       [0, 0, 0, 1, 0],\n",
              "       [0, 0, 0, 1, 0],\n",
              "       [0, 0, 0, 0, 1],\n",
              "       [0, 0, 0, 0, 1],\n",
              "       [0, 0, 0, 0, 1],\n",
              "       [0, 0, 0, 0, 1],\n",
              "       [0, 0, 0, 0, 1],\n",
              "       [0, 0, 0, 0, 1],\n",
              "       [0, 0, 0, 0, 1],\n",
              "       [0, 0, 0, 0, 1],\n",
              "       [0, 0, 0, 0, 1],\n",
              "       [0, 0, 0, 0, 1],\n",
              "       [0, 0, 0, 0, 1],\n",
              "       [0, 0, 0, 0, 1],\n",
              "       [0, 0, 0, 0, 1],\n",
              "       [0, 0, 0, 0, 1],\n",
              "       [0, 0, 0, 0, 1],\n",
              "       [0, 0, 0, 0, 1],\n",
              "       [0, 0, 0, 0, 1],\n",
              "       [0, 0, 0, 0, 1],\n",
              "       [0, 0, 0, 0, 1],\n",
              "       [0, 0, 0, 0, 1],\n",
              "       [0, 0, 0, 0, 1],\n",
              "       [0, 0, 0, 0, 1],\n",
              "       [0, 0, 0, 0, 1],\n",
              "       [0, 0, 0, 0, 1],\n",
              "       [0, 0, 0, 0, 1],\n",
              "       [0, 0, 0, 0, 1],\n",
              "       [0, 0, 0, 0, 1],\n",
              "       [0, 0, 0, 0, 1],\n",
              "       [0, 0, 0, 0, 1],\n",
              "       [0, 0, 0, 0, 1]])"
            ]
          },
          "execution_count": 104,
          "metadata": {},
          "output_type": "execute_result"
        }
      ],
      "source": [
        "y"
      ]
    },
    {
      "cell_type": "code",
      "execution_count": null,
      "metadata": {
        "id": "ARxBrJsHbnja"
      },
      "outputs": [],
      "source": [
        "X_train, X_test, y_train, y_test = train_test_split(X, y, test_size=0.05)"
      ]
    },
    {
      "cell_type": "code",
      "execution_count": null,
      "metadata": {
        "id": "OJrdwnidbnja",
        "outputId": "d5ec102a-039f-4ebe-aaba-d37a06161455"
      },
      "outputs": [
        {
          "data": {
            "text/plain": [
              "(142, 30, 1662)"
            ]
          },
          "execution_count": 107,
          "metadata": {},
          "output_type": "execute_result"
        }
      ],
      "source": [
        "X_train.shape"
      ]
    },
    {
      "cell_type": "code",
      "execution_count": null,
      "metadata": {
        "id": "h4mhzHpObnjb",
        "outputId": "06129ee2-7bc5-4aba-da6b-c117f2d464c9"
      },
      "outputs": [
        {
          "data": {
            "text/plain": [
              "(8, 30, 1662)"
            ]
          },
          "execution_count": 108,
          "metadata": {},
          "output_type": "execute_result"
        }
      ],
      "source": [
        "X_test.shape"
      ]
    },
    {
      "cell_type": "code",
      "execution_count": null,
      "metadata": {
        "id": "YKidLAIrbnjc",
        "outputId": "bffc928b-9a3a-494a-f291-2d75c7deb71f"
      },
      "outputs": [
        {
          "data": {
            "text/plain": [
              "(142, 5)"
            ]
          },
          "execution_count": 109,
          "metadata": {},
          "output_type": "execute_result"
        }
      ],
      "source": [
        "y_train.shape"
      ]
    },
    {
      "cell_type": "code",
      "execution_count": null,
      "metadata": {
        "id": "X6HW9cwUbnjc",
        "outputId": "4e7beb3b-647c-4d5a-fa58-69708a419fb1"
      },
      "outputs": [
        {
          "data": {
            "text/plain": [
              "(8, 5)"
            ]
          },
          "execution_count": 110,
          "metadata": {},
          "output_type": "execute_result"
        }
      ],
      "source": [
        "y_test.shape"
      ]
    },
    {
      "cell_type": "markdown",
      "metadata": {
        "id": "UjYAHwETbnjd"
      },
      "source": [
        "Building and training the LSTM neural network"
      ]
    },
    {
      "cell_type": "code",
      "execution_count": null,
      "metadata": {
        "id": "e4dlFybGbnje"
      },
      "outputs": [],
      "source": [
        "from tensorflow.keras.models import Sequential\n",
        "from tensorflow.keras.layers import LSTM, Dense\n",
        "from tensorflow.keras.callbacks import TensorBoard"
      ]
    },
    {
      "cell_type": "code",
      "execution_count": null,
      "metadata": {
        "id": "H7QqLMinbnje"
      },
      "outputs": [],
      "source": [
        "log_dir = os.path.join('Logs')\n",
        "tb_callback = TensorBoard(log_dir=log_dir)"
      ]
    },
    {
      "cell_type": "markdown",
      "metadata": {
        "id": "Mr0SUfmPbnjf"
      },
      "source": [
        "Model for action2.h5, action3.h5, actionFinal.h5"
      ]
    },
    {
      "cell_type": "code",
      "execution_count": null,
      "metadata": {
        "id": "27jhfZTqbnjf"
      },
      "outputs": [],
      "source": [
        "model = Sequential()\n",
        "model.add(LSTM(64, return_sequences=True, activation='relu', input_shape=(30,1662)))\n",
        "model.add(LSTM(128, return_sequences=True, activation='relu'))\n",
        "model.add(LSTM(64, return_sequences=False, activation='relu'))\n",
        "model.add(Dense(64, activation='relu'))\n",
        "model.add(Dense(32, activation='relu'))\n",
        "model.add(Dense(actions.shape[0], activation='softmax'))"
      ]
    },
    {
      "cell_type": "markdown",
      "metadata": {
        "id": "dcd96kgrbnjf"
      },
      "source": [
        "Model for action4.h5"
      ]
    },
    {
      "cell_type": "code",
      "execution_count": null,
      "metadata": {
        "id": "FKtWede1bnjg",
        "outputId": "ad26c5c4-9455-422b-84cb-7e763c75a883"
      },
      "outputs": [
        {
          "name": "stdout",
          "output_type": "stream",
          "text": [
            "Collecting keras\n",
            "  Downloading keras-2.11.0-py2.py3-none-any.whl.metadata (1.4 kB)\n",
            "Downloading keras-2.11.0-py2.py3-none-any.whl (1.7 MB)\n",
            "   ---------------------------------------- 1.7/1.7 MB 2.6 MB/s eta 0:00:00\n",
            "Installing collected packages: keras\n",
            "Successfully installed keras-2.11.0\n",
            "Note: you may need to restart the kernel to use updated packages.\n"
          ]
        }
      ],
      "source": [
        "%pip install keras"
      ]
    },
    {
      "cell_type": "code",
      "execution_count": null,
      "metadata": {
        "id": "oeEQa93wbnjg"
      },
      "outputs": [],
      "source": [
        "from tensorflow.keras.models import Sequential\n",
        "from tensorflow.keras.layers import LSTM, Dense, Dropout"
      ]
    },
    {
      "cell_type": "code",
      "execution_count": null,
      "metadata": {
        "id": "7qBne_frbnjh"
      },
      "outputs": [],
      "source": [
        "# Define the number of units for each layer\n",
        "lstm_units = 64\n",
        "dense_units = 32\n",
        "\n",
        "actions = np.array(actions)\n",
        "\n",
        "# Initialize the model\n",
        "model = Sequential()\n",
        "\n",
        "# Add the first LSTM layer\n",
        "model.add(LSTM(units=lstm_units, return_sequences=True, activation='relu', input_shape=(30, 1662)))\n",
        "model.add(Dropout(0.2))  # Adding dropout for regularization\n",
        "\n",
        "# Add the second LSTM layer\n",
        "model.add(LSTM(units=lstm_units, return_sequences=True, activation='relu'))\n",
        "model.add(Dropout(0.2))  # Adding dropout for regularization\n",
        "\n",
        "# Add the third LSTM layer\n",
        "model.add(LSTM(units=lstm_units, return_sequences=False, activation='relu'))\n",
        "model.add(Dropout(0.2))  # Adding dropout for regularization\n",
        "\n",
        "# Add a Dense layer\n",
        "model.add(Dense(units=dense_units, activation='relu'))\n",
        "\n",
        "# Add another Dense layer\n",
        "model.add(Dense(units=dense_units, activation='relu'))\n",
        "\n",
        "# Add the output layer\n",
        "model.add(Dense(units=actions.shape[0], activation='softmax'))\n"
      ]
    },
    {
      "cell_type": "markdown",
      "metadata": {
        "id": "lZQ9Fozubnjh"
      },
      "source": [
        "Common compile code"
      ]
    },
    {
      "cell_type": "code",
      "execution_count": null,
      "metadata": {
        "id": "Dy3a01yDbnji"
      },
      "outputs": [],
      "source": [
        "model.compile(optimizer='Adam', loss='categorical_crossentropy', metrics=['categorical_accuracy'])"
      ]
    },
    {
      "cell_type": "code",
      "execution_count": null,
      "metadata": {
        "id": "ciP6ORn3bnji",
        "outputId": "de795de1-7375-436f-b6ce-212d9f827588"
      },
      "outputs": [
        {
          "name": "stdout",
          "output_type": "stream",
          "text": [
            "Epoch 1/250\n",
            "5/5 [==============================] - 6s 320ms/step - loss: 2.1015 - categorical_accuracy: 0.1851\n",
            "Epoch 2/250\n",
            "5/5 [==============================] - 0s 92ms/step - loss: 1.6269 - categorical_accuracy: 0.2756\n",
            "Epoch 3/250\n",
            "5/5 [==============================] - 1s 109ms/step - loss: 1.5557 - categorical_accuracy: 0.2743\n",
            "Epoch 4/250\n",
            "5/5 [==============================] - 0s 87ms/step - loss: 1.3787 - categorical_accuracy: 0.4273\n",
            "Epoch 5/250\n",
            "5/5 [==============================] - 0s 90ms/step - loss: 1.3278 - categorical_accuracy: 0.4844\n",
            "Epoch 6/250\n",
            "5/5 [==============================] - 0s 87ms/step - loss: 1.5746 - categorical_accuracy: 0.2436\n",
            "Epoch 7/250\n",
            "5/5 [==============================] - 1s 100ms/step - loss: 1.4567 - categorical_accuracy: 0.4525\n",
            "Epoch 8/250\n",
            "5/5 [==============================] - 0s 92ms/step - loss: 1.2307 - categorical_accuracy: 0.4296\n",
            "Epoch 9/250\n",
            "5/5 [==============================] - 0s 90ms/step - loss: 1.3138 - categorical_accuracy: 0.5082\n",
            "Epoch 10/250\n",
            "5/5 [==============================] - 0s 95ms/step - loss: 0.9496 - categorical_accuracy: 0.5961\n",
            "Epoch 11/250\n",
            "5/5 [==============================] - 1s 111ms/step - loss: 0.6920 - categorical_accuracy: 0.7419\n",
            "Epoch 12/250\n",
            "5/5 [==============================] - 0s 94ms/step - loss: 0.8905 - categorical_accuracy: 0.6177\n",
            "Epoch 13/250\n",
            "5/5 [==============================] - 0s 99ms/step - loss: 0.7726 - categorical_accuracy: 0.6773\n",
            "Epoch 14/250\n",
            "5/5 [==============================] - 1s 97ms/step - loss: 0.8083 - categorical_accuracy: 0.6310\n",
            "Epoch 15/250\n",
            "5/5 [==============================] - 0s 93ms/step - loss: 0.5905 - categorical_accuracy: 0.6879\n",
            "Epoch 16/250\n",
            "5/5 [==============================] - 0s 93ms/step - loss: 1.0340 - categorical_accuracy: 0.7784\n",
            "Epoch 17/250\n",
            "5/5 [==============================] - 0s 93ms/step - loss: 0.4062 - categorical_accuracy: 0.8767\n",
            "Epoch 18/250\n",
            "5/5 [==============================] - 0s 94ms/step - loss: 0.5125 - categorical_accuracy: 0.7574\n",
            "Epoch 19/250\n",
            "5/5 [==============================] - 1s 108ms/step - loss: 0.4932 - categorical_accuracy: 0.7971\n",
            "Epoch 20/250\n",
            "5/5 [==============================] - 0s 91ms/step - loss: 0.2842 - categorical_accuracy: 0.8416\n",
            "Epoch 21/250\n",
            "5/5 [==============================] - 0s 96ms/step - loss: 0.2486 - categorical_accuracy: 0.8439\n",
            "Epoch 22/250\n",
            "5/5 [==============================] - 0s 91ms/step - loss: 0.1883 - categorical_accuracy: 0.9418\n",
            "Epoch 23/250\n",
            "5/5 [==============================] - 0s 91ms/step - loss: 0.2462 - categorical_accuracy: 0.9304\n",
            "Epoch 24/250\n",
            "5/5 [==============================] - 0s 92ms/step - loss: 0.5046 - categorical_accuracy: 0.7508\n",
            "Epoch 25/250\n",
            "5/5 [==============================] - 0s 99ms/step - loss: 0.4845 - categorical_accuracy: 0.8427\n",
            "Epoch 26/250\n",
            "5/5 [==============================] - 1s 112ms/step - loss: 0.3207 - categorical_accuracy: 0.8962\n",
            "Epoch 27/250\n",
            "5/5 [==============================] - 0s 98ms/step - loss: 0.2499 - categorical_accuracy: 0.9392\n",
            "Epoch 28/250\n",
            "5/5 [==============================] - 0s 100ms/step - loss: 0.1353 - categorical_accuracy: 0.9884\n",
            "Epoch 29/250\n",
            "5/5 [==============================] - 0s 96ms/step - loss: 0.1115 - categorical_accuracy: 0.9627\n",
            "Epoch 30/250\n",
            "5/5 [==============================] - 1s 101ms/step - loss: 9.2120 - categorical_accuracy: 0.5895\n",
            "Epoch 31/250\n",
            "5/5 [==============================] - 0s 98ms/step - loss: 14.4234 - categorical_accuracy: 0.1599\n",
            "Epoch 32/250\n",
            "5/5 [==============================] - 1s 103ms/step - loss: 6.5313 - categorical_accuracy: 0.1560\n",
            "Epoch 33/250\n",
            "5/5 [==============================] - 0s 98ms/step - loss: 10.5671 - categorical_accuracy: 0.2522\n",
            "Epoch 34/250\n",
            "5/5 [==============================] - 1s 115ms/step - loss: 1.5570 - categorical_accuracy: 0.2249\n",
            "Epoch 35/250\n",
            "5/5 [==============================] - 0s 94ms/step - loss: 1.4174 - categorical_accuracy: 0.3717\n",
            "Epoch 36/250\n",
            "5/5 [==============================] - 0s 91ms/step - loss: 1.2651 - categorical_accuracy: 0.4752\n",
            "Epoch 37/250\n",
            "5/5 [==============================] - 0s 94ms/step - loss: 1.1599 - categorical_accuracy: 0.4025\n",
            "Epoch 38/250\n",
            "5/5 [==============================] - 0s 95ms/step - loss: 0.7962 - categorical_accuracy: 0.6668\n",
            "Epoch 39/250\n",
            "5/5 [==============================] - 0s 94ms/step - loss: 1.3045 - categorical_accuracy: 0.5246\n",
            "Epoch 40/250\n",
            "5/5 [==============================] - 0s 95ms/step - loss: 1.2134 - categorical_accuracy: 0.5691\n",
            "Epoch 41/250\n",
            "5/5 [==============================] - 1s 102ms/step - loss: 1.2485 - categorical_accuracy: 0.5887\n",
            "Epoch 42/250\n",
            "5/5 [==============================] - 1s 105ms/step - loss: 1.4484 - categorical_accuracy: 0.5809\n",
            "Epoch 43/250\n",
            "5/5 [==============================] - 0s 99ms/step - loss: 0.7647 - categorical_accuracy: 0.6124\n",
            "Epoch 44/250\n",
            "5/5 [==============================] - 0s 100ms/step - loss: 0.6696 - categorical_accuracy: 0.7670\n",
            "Epoch 45/250\n",
            "5/5 [==============================] - 1s 102ms/step - loss: 0.5473 - categorical_accuracy: 0.9646\n",
            "Epoch 46/250\n",
            "5/5 [==============================] - 1s 104ms/step - loss: 0.3197 - categorical_accuracy: 0.9444\n",
            "Epoch 47/250\n",
            "5/5 [==============================] - 1s 102ms/step - loss: 0.2157 - categorical_accuracy: 0.9573\n",
            "Epoch 48/250\n",
            "5/5 [==============================] - 1s 106ms/step - loss: 0.1905 - categorical_accuracy: 0.9436\n",
            "Epoch 49/250\n",
            "5/5 [==============================] - 1s 123ms/step - loss: 0.0736 - categorical_accuracy: 0.9806\n",
            "Epoch 50/250\n",
            "5/5 [==============================] - 1s 108ms/step - loss: 0.1369 - categorical_accuracy: 0.9698\n",
            "Epoch 51/250\n",
            "5/5 [==============================] - 1s 107ms/step - loss: 0.1159 - categorical_accuracy: 0.9484\n",
            "Epoch 52/250\n",
            "5/5 [==============================] - 1s 110ms/step - loss: 0.0660 - categorical_accuracy: 0.9750\n",
            "Epoch 53/250\n",
            "5/5 [==============================] - 1s 111ms/step - loss: 0.1201 - categorical_accuracy: 0.9656\n",
            "Epoch 54/250\n",
            "5/5 [==============================] - 1s 115ms/step - loss: 0.0299 - categorical_accuracy: 0.9964\n",
            "Epoch 55/250\n",
            "5/5 [==============================] - 1s 115ms/step - loss: 0.0649 - categorical_accuracy: 0.9814\n",
            "Epoch 56/250\n",
            "5/5 [==============================] - 1s 114ms/step - loss: 0.0374 - categorical_accuracy: 0.9847\n",
            "Epoch 57/250\n",
            "5/5 [==============================] - 1s 120ms/step - loss: 0.0437 - categorical_accuracy: 0.9884\n",
            "Epoch 58/250\n",
            "5/5 [==============================] - 1s 117ms/step - loss: 0.0506 - categorical_accuracy: 0.9884\n",
            "Epoch 59/250\n",
            "5/5 [==============================] - 1s 121ms/step - loss: 0.0382 - categorical_accuracy: 0.9814\n",
            "Epoch 60/250\n",
            "5/5 [==============================] - 1s 122ms/step - loss: 0.0499 - categorical_accuracy: 0.9868\n",
            "Epoch 61/250\n",
            "5/5 [==============================] - 1s 127ms/step - loss: 0.0237 - categorical_accuracy: 0.9946\n",
            "Epoch 62/250\n",
            "5/5 [==============================] - 1s 118ms/step - loss: 0.0444 - categorical_accuracy: 0.9868\n",
            "Epoch 63/250\n",
            "5/5 [==============================] - 1s 123ms/step - loss: 0.0289 - categorical_accuracy: 0.9920\n",
            "Epoch 64/250\n",
            "5/5 [==============================] - 1s 123ms/step - loss: 0.0447 - categorical_accuracy: 0.9868\n",
            "Epoch 65/250\n",
            "5/5 [==============================] - 1s 150ms/step - loss: 0.0390 - categorical_accuracy: 0.9868\n",
            "Epoch 66/250\n",
            "5/5 [==============================] - 1s 126ms/step - loss: 0.0230 - categorical_accuracy: 0.9946\n",
            "Epoch 67/250\n",
            "5/5 [==============================] - 1s 131ms/step - loss: 0.0179 - categorical_accuracy: 0.9964\n",
            "Epoch 68/250\n",
            "5/5 [==============================] - 1s 126ms/step - loss: 0.0117 - categorical_accuracy: 0.9977\n",
            "Epoch 69/250\n",
            "5/5 [==============================] - 1s 131ms/step - loss: 0.0497 - categorical_accuracy: 0.9819\n",
            "Epoch 70/250\n",
            "5/5 [==============================] - 1s 129ms/step - loss: 0.0808 - categorical_accuracy: 0.9715\n",
            "Epoch 71/250\n",
            "5/5 [==============================] - 1s 136ms/step - loss: 0.9562 - categorical_accuracy: 0.8592\n",
            "Epoch 72/250\n",
            "5/5 [==============================] - 1s 128ms/step - loss: 1.1918 - categorical_accuracy: 0.6373\n",
            "Epoch 73/250\n",
            "5/5 [==============================] - 1s 155ms/step - loss: 0.6243 - categorical_accuracy: 0.9235\n",
            "Epoch 74/250\n",
            "5/5 [==============================] - 1s 117ms/step - loss: 0.6817 - categorical_accuracy: 0.7648\n",
            "Epoch 75/250\n",
            "5/5 [==============================] - 1s 134ms/step - loss: 0.4741 - categorical_accuracy: 0.8662\n",
            "Epoch 76/250\n",
            "5/5 [==============================] - 1s 135ms/step - loss: 0.2620 - categorical_accuracy: 0.9471\n",
            "Epoch 77/250\n",
            "5/5 [==============================] - 1s 140ms/step - loss: 0.1839 - categorical_accuracy: 0.9682\n",
            "Epoch 78/250\n",
            "5/5 [==============================] - 1s 136ms/step - loss: 0.1074 - categorical_accuracy: 0.9713\n",
            "Epoch 79/250\n",
            "5/5 [==============================] - 1s 136ms/step - loss: 0.0790 - categorical_accuracy: 0.9821\n",
            "Epoch 80/250\n",
            "5/5 [==============================] - 1s 135ms/step - loss: 0.0807 - categorical_accuracy: 0.9884\n",
            "Epoch 81/250\n",
            "5/5 [==============================] - 1s 145ms/step - loss: 0.1116 - categorical_accuracy: 0.9752\n",
            "Epoch 82/250\n",
            "5/5 [==============================] - 1s 139ms/step - loss: 0.0874 - categorical_accuracy: 0.9736\n",
            "Epoch 83/250\n",
            "5/5 [==============================] - 1s 135ms/step - loss: 0.0219 - categorical_accuracy: 0.9940\n",
            "Epoch 84/250\n",
            "5/5 [==============================] - 1s 142ms/step - loss: 0.0458 - categorical_accuracy: 0.9789\n",
            "Epoch 85/250\n",
            "5/5 [==============================] - 1s 136ms/step - loss: 0.0362 - categorical_accuracy: 0.9866\n",
            "Epoch 86/250\n",
            "5/5 [==============================] - 1s 133ms/step - loss: 0.0361 - categorical_accuracy: 0.9860\n",
            "Epoch 87/250\n",
            "5/5 [==============================] - 1s 141ms/step - loss: 0.0340 - categorical_accuracy: 0.9920\n",
            "Epoch 88/250\n",
            "5/5 [==============================] - 1s 157ms/step - loss: 0.0477 - categorical_accuracy: 0.9832\n",
            "Epoch 89/250\n",
            "5/5 [==============================] - 1s 139ms/step - loss: 0.0358 - categorical_accuracy: 0.9920\n",
            "Epoch 90/250\n",
            "5/5 [==============================] - 1s 135ms/step - loss: 0.0214 - categorical_accuracy: 0.9910\n",
            "Epoch 91/250\n",
            "5/5 [==============================] - 1s 138ms/step - loss: 0.0440 - categorical_accuracy: 0.9868\n",
            "Epoch 92/250\n",
            "5/5 [==============================] - 1s 139ms/step - loss: 0.0255 - categorical_accuracy: 0.9946\n",
            "Epoch 93/250\n",
            "5/5 [==============================] - 1s 136ms/step - loss: 0.0270 - categorical_accuracy: 0.9920\n",
            "Epoch 94/250\n",
            "5/5 [==============================] - 1s 136ms/step - loss: 0.0381 - categorical_accuracy: 0.9868\n",
            "Epoch 95/250\n",
            "5/5 [==============================] - 1s 163ms/step - loss: 0.0309 - categorical_accuracy: 0.9868\n",
            "Epoch 96/250\n",
            "5/5 [==============================] - 1s 138ms/step - loss: 0.0274 - categorical_accuracy: 0.9868\n",
            "Epoch 97/250\n",
            "5/5 [==============================] - 1s 135ms/step - loss: 0.0116 - categorical_accuracy: 0.9964\n",
            "Epoch 98/250\n",
            "5/5 [==============================] - 1s 138ms/step - loss: 0.0261 - categorical_accuracy: 0.9868\n",
            "Epoch 99/250\n",
            "5/5 [==============================] - 1s 137ms/step - loss: 0.0250 - categorical_accuracy: 0.9868\n",
            "Epoch 100/250\n",
            "5/5 [==============================] - 1s 135ms/step - loss: 0.0142 - categorical_accuracy: 0.9946\n",
            "Epoch 101/250\n",
            "5/5 [==============================] - 1s 136ms/step - loss: 0.0071 - categorical_accuracy: 0.9977\n",
            "Epoch 102/250\n",
            "5/5 [==============================] - 1s 156ms/step - loss: 0.0082 - categorical_accuracy: 1.0000\n",
            "Epoch 103/250\n",
            "5/5 [==============================] - 1s 137ms/step - loss: 0.0127 - categorical_accuracy: 1.0000\n",
            "Epoch 104/250\n",
            "5/5 [==============================] - 1s 137ms/step - loss: 0.0114 - categorical_accuracy: 0.9920\n",
            "Epoch 105/250\n",
            "5/5 [==============================] - 1s 136ms/step - loss: 0.0137 - categorical_accuracy: 0.9946\n",
            "Epoch 106/250\n",
            "5/5 [==============================] - 1s 135ms/step - loss: 0.0296 - categorical_accuracy: 0.9814\n",
            "Epoch 107/250\n",
            "5/5 [==============================] - 1s 137ms/step - loss: 0.0225 - categorical_accuracy: 0.9940\n",
            "Epoch 108/250\n",
            "5/5 [==============================] - 1s 138ms/step - loss: 1.9438 - categorical_accuracy: 0.8086\n",
            "Epoch 109/250\n",
            "5/5 [==============================] - 1s 138ms/step - loss: 0.9638 - categorical_accuracy: 0.7007\n",
            "Epoch 110/250\n",
            "5/5 [==============================] - 1s 157ms/step - loss: 1.2949 - categorical_accuracy: 0.5629\n",
            "Epoch 111/250\n",
            "5/5 [==============================] - 1s 144ms/step - loss: 1.0729 - categorical_accuracy: 0.5075\n",
            "Epoch 112/250\n",
            "5/5 [==============================] - 1s 137ms/step - loss: 0.8078 - categorical_accuracy: 0.8060\n",
            "Epoch 113/250\n",
            "5/5 [==============================] - 1s 136ms/step - loss: 0.7491 - categorical_accuracy: 0.7747\n",
            "Epoch 114/250\n",
            "5/5 [==============================] - 1s 138ms/step - loss: 0.6271 - categorical_accuracy: 0.7495\n",
            "Epoch 115/250\n",
            "5/5 [==============================] - 1s 165ms/step - loss: 0.4966 - categorical_accuracy: 0.7759\n",
            "Epoch 116/250\n",
            "5/5 [==============================] - 1s 151ms/step - loss: 0.3712 - categorical_accuracy: 0.8912\n",
            "Epoch 117/250\n",
            "5/5 [==============================] - 1s 139ms/step - loss: 0.2908 - categorical_accuracy: 0.9472\n",
            "Epoch 118/250\n",
            "5/5 [==============================] - 1s 135ms/step - loss: 0.1781 - categorical_accuracy: 0.9920\n",
            "Epoch 119/250\n",
            "5/5 [==============================] - 1s 135ms/step - loss: 0.0771 - categorical_accuracy: 0.9964\n",
            "Epoch 120/250\n",
            "5/5 [==============================] - 1s 138ms/step - loss: 0.0348 - categorical_accuracy: 0.9964\n",
            "Epoch 121/250\n",
            "5/5 [==============================] - 1s 139ms/step - loss: 0.0666 - categorical_accuracy: 0.9845\n",
            "Epoch 122/250\n",
            "5/5 [==============================] - 1s 137ms/step - loss: 0.0340 - categorical_accuracy: 0.9920\n",
            "Epoch 123/250\n",
            "5/5 [==============================] - 1s 163ms/step - loss: 0.0250 - categorical_accuracy: 0.9964\n",
            "Epoch 124/250\n",
            "5/5 [==============================] - 1s 132ms/step - loss: 0.0275 - categorical_accuracy: 0.9977\n",
            "Epoch 125/250\n",
            "5/5 [==============================] - 1s 137ms/step - loss: 0.9539 - categorical_accuracy: 0.8028\n",
            "Epoch 126/250\n",
            "5/5 [==============================] - 1s 136ms/step - loss: 5.8299 - categorical_accuracy: 0.2342\n",
            "Epoch 127/250\n",
            "5/5 [==============================] - 1s 136ms/step - loss: 1.7985 - categorical_accuracy: 0.2325\n",
            "Epoch 128/250\n",
            "5/5 [==============================] - 1s 138ms/step - loss: 1.2084 - categorical_accuracy: 0.4911\n",
            "Epoch 129/250\n",
            "5/5 [==============================] - 1s 137ms/step - loss: 1.1284 - categorical_accuracy: 0.6365\n",
            "Epoch 130/250\n",
            "5/5 [==============================] - 1s 165ms/step - loss: 0.9446 - categorical_accuracy: 0.6466\n",
            "Epoch 131/250\n",
            "5/5 [==============================] - 1s 137ms/step - loss: 0.8690 - categorical_accuracy: 0.7275\n",
            "Epoch 132/250\n",
            "5/5 [==============================] - 1s 137ms/step - loss: 0.8178 - categorical_accuracy: 0.7355\n",
            "Epoch 133/250\n",
            "5/5 [==============================] - 1s 139ms/step - loss: 0.7334 - categorical_accuracy: 0.7933\n",
            "Epoch 134/250\n",
            "5/5 [==============================] - 1s 136ms/step - loss: 0.6462 - categorical_accuracy: 0.7922\n",
            "Epoch 135/250\n",
            "5/5 [==============================] - 1s 141ms/step - loss: 0.5713 - categorical_accuracy: 0.7828\n",
            "Epoch 136/250\n",
            "5/5 [==============================] - 1s 138ms/step - loss: 0.3921 - categorical_accuracy: 0.8023\n",
            "Epoch 137/250\n",
            "5/5 [==============================] - 1s 152ms/step - loss: 0.3238 - categorical_accuracy: 0.8220\n",
            "Epoch 138/250\n",
            "5/5 [==============================] - 1s 137ms/step - loss: 0.2500 - categorical_accuracy: 0.9465\n",
            "Epoch 139/250\n",
            "5/5 [==============================] - 1s 140ms/step - loss: 0.2204 - categorical_accuracy: 0.9605\n",
            "Epoch 140/250\n",
            "5/5 [==============================] - 1s 136ms/step - loss: 0.2791 - categorical_accuracy: 0.9529\n",
            "Epoch 141/250\n",
            "5/5 [==============================] - 1s 137ms/step - loss: 0.1935 - categorical_accuracy: 0.9563\n",
            "Epoch 142/250\n",
            "5/5 [==============================] - 1s 135ms/step - loss: 0.1893 - categorical_accuracy: 0.9576\n",
            "Epoch 143/250\n",
            "5/5 [==============================] - 1s 137ms/step - loss: 0.1537 - categorical_accuracy: 0.9866\n",
            "Epoch 144/250\n",
            "5/5 [==============================] - 1s 172ms/step - loss: 0.1064 - categorical_accuracy: 0.9868\n",
            "Epoch 145/250\n",
            "5/5 [==============================] - 1s 133ms/step - loss: 0.1223 - categorical_accuracy: 0.9736\n",
            "Epoch 146/250\n",
            "5/5 [==============================] - 1s 137ms/step - loss: 0.0355 - categorical_accuracy: 0.9964\n",
            "Epoch 147/250\n",
            "5/5 [==============================] - 1s 139ms/step - loss: 0.0876 - categorical_accuracy: 0.9757\n",
            "Epoch 148/250\n",
            "5/5 [==============================] - 1s 137ms/step - loss: 0.1948 - categorical_accuracy: 0.9358\n",
            "Epoch 149/250\n",
            "5/5 [==============================] - 1s 136ms/step - loss: 0.2350 - categorical_accuracy: 0.9470\n",
            "Epoch 150/250\n",
            "5/5 [==============================] - 1s 137ms/step - loss: 0.1308 - categorical_accuracy: 0.9778\n",
            "Epoch 151/250\n",
            "5/5 [==============================] - 1s 164ms/step - loss: 0.1554 - categorical_accuracy: 0.9700\n",
            "Epoch 152/250\n",
            "5/5 [==============================] - 1s 134ms/step - loss: 0.0911 - categorical_accuracy: 0.9868\n",
            "Epoch 153/250\n",
            "5/5 [==============================] - 1s 139ms/step - loss: 0.0660 - categorical_accuracy: 0.9814\n",
            "Epoch 154/250\n",
            "5/5 [==============================] - 1s 136ms/step - loss: 0.0392 - categorical_accuracy: 0.9946\n",
            "Epoch 155/250\n",
            "5/5 [==============================] - 1s 137ms/step - loss: 0.0589 - categorical_accuracy: 0.9868\n",
            "Epoch 156/250\n",
            "5/5 [==============================] - 1s 139ms/step - loss: 0.0458 - categorical_accuracy: 0.9868\n",
            "Epoch 157/250\n",
            "5/5 [==============================] - 1s 136ms/step - loss: 0.0166 - categorical_accuracy: 0.9946\n",
            "Epoch 158/250\n",
            "5/5 [==============================] - 1s 161ms/step - loss: 0.0255 - categorical_accuracy: 0.9868\n",
            "Epoch 159/250\n",
            "5/5 [==============================] - 1s 134ms/step - loss: 0.0071 - categorical_accuracy: 1.0000\n",
            "Epoch 160/250\n",
            "5/5 [==============================] - 1s 136ms/step - loss: 0.0112 - categorical_accuracy: 1.0000\n",
            "Epoch 161/250\n",
            "5/5 [==============================] - 1s 137ms/step - loss: 0.0052 - categorical_accuracy: 0.9977\n",
            "Epoch 162/250\n",
            "5/5 [==============================] - 1s 134ms/step - loss: 0.0126 - categorical_accuracy: 0.9946\n",
            "Epoch 163/250\n",
            "5/5 [==============================] - 1s 134ms/step - loss: 0.0090 - categorical_accuracy: 1.0000\n",
            "Epoch 164/250\n",
            "5/5 [==============================] - 1s 138ms/step - loss: 0.0082 - categorical_accuracy: 1.0000\n",
            "Epoch 165/250\n",
            "5/5 [==============================] - 1s 147ms/step - loss: 0.0108 - categorical_accuracy: 0.9946\n",
            "Epoch 166/250\n",
            "5/5 [==============================] - 1s 136ms/step - loss: 0.0132 - categorical_accuracy: 0.9946\n",
            "Epoch 167/250\n",
            "5/5 [==============================] - 1s 139ms/step - loss: 0.0033 - categorical_accuracy: 1.0000\n",
            "Epoch 168/250\n",
            "5/5 [==============================] - 1s 136ms/step - loss: 0.0050 - categorical_accuracy: 1.0000\n",
            "Epoch 169/250\n",
            "5/5 [==============================] - 1s 140ms/step - loss: 0.0037 - categorical_accuracy: 1.0000\n",
            "Epoch 170/250\n",
            "5/5 [==============================] - 1s 144ms/step - loss: 0.0019 - categorical_accuracy: 1.0000\n",
            "Epoch 171/250\n",
            "5/5 [==============================] - 1s 136ms/step - loss: 0.0025 - categorical_accuracy: 1.0000\n",
            "Epoch 172/250\n",
            "5/5 [==============================] - 1s 162ms/step - loss: 0.0041 - categorical_accuracy: 1.0000\n",
            "Epoch 173/250\n",
            "5/5 [==============================] - 1s 139ms/step - loss: 0.0021 - categorical_accuracy: 1.0000\n",
            "Epoch 174/250\n",
            "5/5 [==============================] - 1s 135ms/step - loss: 0.0020 - categorical_accuracy: 1.0000\n",
            "Epoch 175/250\n",
            "5/5 [==============================] - 1s 137ms/step - loss: 0.0014 - categorical_accuracy: 1.0000\n",
            "Epoch 176/250\n",
            "5/5 [==============================] - 1s 139ms/step - loss: 8.1202e-04 - categorical_accuracy: 1.0000\n",
            "Epoch 177/250\n",
            "5/5 [==============================] - 1s 141ms/step - loss: 0.0020 - categorical_accuracy: 1.0000\n",
            "Epoch 178/250\n",
            "5/5 [==============================] - 1s 157ms/step - loss: 7.7123e-04 - categorical_accuracy: 1.0000\n",
            "Epoch 179/250\n",
            "5/5 [==============================] - 1s 136ms/step - loss: 6.3743e-04 - categorical_accuracy: 1.0000\n",
            "Epoch 180/250\n",
            "5/5 [==============================] - 1s 135ms/step - loss: 5.5650e-04 - categorical_accuracy: 1.0000\n",
            "Epoch 181/250\n",
            "5/5 [==============================] - 1s 135ms/step - loss: 5.4942e-04 - categorical_accuracy: 1.0000\n",
            "Epoch 182/250\n",
            "5/5 [==============================] - 1s 137ms/step - loss: 6.9420e-04 - categorical_accuracy: 1.0000\n",
            "Epoch 183/250\n",
            "5/5 [==============================] - 1s 136ms/step - loss: 4.5392e-04 - categorical_accuracy: 1.0000\n",
            "Epoch 184/250\n",
            "5/5 [==============================] - 1s 136ms/step - loss: 0.0011 - categorical_accuracy: 1.0000\n",
            "Epoch 185/250\n",
            "5/5 [==============================] - 1s 135ms/step - loss: 9.0143e-04 - categorical_accuracy: 1.0000\n",
            "Epoch 186/250\n",
            "5/5 [==============================] - 1s 136ms/step - loss: 5.0730e-04 - categorical_accuracy: 1.0000\n",
            "Epoch 187/250\n",
            "5/5 [==============================] - 1s 136ms/step - loss: 6.9261e-04 - categorical_accuracy: 1.0000\n",
            "Epoch 188/250\n",
            "5/5 [==============================] - 1s 138ms/step - loss: 2.9680e-04 - categorical_accuracy: 1.0000\n",
            "Epoch 189/250\n",
            "5/5 [==============================] - 1s 144ms/step - loss: 6.4319e-04 - categorical_accuracy: 1.0000\n",
            "Epoch 190/250\n",
            "5/5 [==============================] - 1s 134ms/step - loss: 4.3395e-04 - categorical_accuracy: 1.0000\n",
            "Epoch 191/250\n",
            "5/5 [==============================] - 1s 139ms/step - loss: 2.8534e-04 - categorical_accuracy: 1.0000\n",
            "Epoch 192/250\n",
            "5/5 [==============================] - 1s 160ms/step - loss: 1.8844e-04 - categorical_accuracy: 1.0000\n",
            "Epoch 193/250\n",
            "5/5 [==============================] - 1s 135ms/step - loss: 4.4360e-04 - categorical_accuracy: 1.0000\n",
            "Epoch 194/250\n",
            "5/5 [==============================] - 1s 137ms/step - loss: 2.0289e-04 - categorical_accuracy: 1.0000\n",
            "Epoch 195/250\n",
            "5/5 [==============================] - 1s 139ms/step - loss: 3.3465e-04 - categorical_accuracy: 1.0000\n",
            "Epoch 196/250\n",
            "5/5 [==============================] - 1s 137ms/step - loss: 1.7665e-04 - categorical_accuracy: 1.0000\n",
            "Epoch 197/250\n",
            "5/5 [==============================] - 1s 137ms/step - loss: 1.8697e-04 - categorical_accuracy: 1.0000\n",
            "Epoch 198/250\n",
            "5/5 [==============================] - 1s 141ms/step - loss: 2.7957e-04 - categorical_accuracy: 1.0000\n",
            "Epoch 199/250\n",
            "5/5 [==============================] - 1s 162ms/step - loss: 1.7322e-04 - categorical_accuracy: 1.0000\n",
            "Epoch 200/250\n",
            "5/5 [==============================] - 1s 136ms/step - loss: 2.4596e-04 - categorical_accuracy: 1.0000\n",
            "Epoch 201/250\n",
            "5/5 [==============================] - 1s 139ms/step - loss: 1.2903e-04 - categorical_accuracy: 1.0000\n",
            "Epoch 202/250\n",
            "5/5 [==============================] - 1s 134ms/step - loss: 2.2491e-04 - categorical_accuracy: 1.0000\n",
            "Epoch 203/250\n",
            "5/5 [==============================] - 1s 137ms/step - loss: 2.2948e-04 - categorical_accuracy: 1.0000\n",
            "Epoch 204/250\n",
            "5/5 [==============================] - 1s 134ms/step - loss: 1.1668e-04 - categorical_accuracy: 1.0000\n",
            "Epoch 205/250\n",
            "5/5 [==============================] - 1s 134ms/step - loss: 1.3179e-04 - categorical_accuracy: 1.0000\n",
            "Epoch 206/250\n",
            "5/5 [==============================] - 1s 138ms/step - loss: 1.8094e-04 - categorical_accuracy: 1.0000\n",
            "Epoch 207/250\n",
            "5/5 [==============================] - 1s 138ms/step - loss: 8.2615e-05 - categorical_accuracy: 1.0000\n",
            "Epoch 208/250\n",
            "5/5 [==============================] - 1s 134ms/step - loss: 1.1993e-04 - categorical_accuracy: 1.0000\n",
            "Epoch 209/250\n",
            "5/5 [==============================] - 1s 139ms/step - loss: 1.1393e-04 - categorical_accuracy: 1.0000\n",
            "Epoch 210/250\n",
            "5/5 [==============================] - 1s 138ms/step - loss: 1.1762e-04 - categorical_accuracy: 1.0000\n",
            "Epoch 211/250\n",
            "5/5 [==============================] - 1s 137ms/step - loss: 8.2432e-05 - categorical_accuracy: 1.0000\n",
            "Epoch 212/250\n",
            "5/5 [==============================] - 1s 164ms/step - loss: 1.3567e-04 - categorical_accuracy: 1.0000\n",
            "Epoch 213/250\n",
            "5/5 [==============================] - 1s 137ms/step - loss: 9.7831e-05 - categorical_accuracy: 1.0000\n",
            "Epoch 214/250\n",
            "5/5 [==============================] - 1s 136ms/step - loss: 7.3956e-05 - categorical_accuracy: 1.0000\n",
            "Epoch 215/250\n",
            "5/5 [==============================] - 1s 139ms/step - loss: 1.0614e-04 - categorical_accuracy: 1.0000\n",
            "Epoch 216/250\n",
            "5/5 [==============================] - 1s 136ms/step - loss: 7.7373e-05 - categorical_accuracy: 1.0000\n",
            "Epoch 217/250\n",
            "5/5 [==============================] - 1s 136ms/step - loss: 7.8840e-05 - categorical_accuracy: 1.0000\n",
            "Epoch 218/250\n",
            "5/5 [==============================] - 1s 168ms/step - loss: 9.1942e-05 - categorical_accuracy: 1.0000\n",
            "Epoch 219/250\n",
            "5/5 [==============================] - 1s 139ms/step - loss: 5.4437e-05 - categorical_accuracy: 1.0000\n",
            "Epoch 220/250\n",
            "5/5 [==============================] - 1s 140ms/step - loss: 8.0537e-05 - categorical_accuracy: 1.0000\n",
            "Epoch 221/250\n",
            "5/5 [==============================] - 1s 137ms/step - loss: 1.0625e-04 - categorical_accuracy: 1.0000\n",
            "Epoch 222/250\n",
            "5/5 [==============================] - 1s 139ms/step - loss: 6.0418e-05 - categorical_accuracy: 1.0000\n",
            "Epoch 223/250\n",
            "5/5 [==============================] - 1s 138ms/step - loss: 7.8140e-05 - categorical_accuracy: 1.0000\n",
            "Epoch 224/250\n",
            "5/5 [==============================] - 1s 165ms/step - loss: 8.6032e-05 - categorical_accuracy: 1.0000\n",
            "Epoch 225/250\n",
            "5/5 [==============================] - 1s 137ms/step - loss: 5.6729e-05 - categorical_accuracy: 1.0000\n",
            "Epoch 226/250\n",
            "5/5 [==============================] - 1s 136ms/step - loss: 4.7134e-05 - categorical_accuracy: 1.0000\n",
            "Epoch 227/250\n",
            "5/5 [==============================] - 1s 137ms/step - loss: 6.6942e-05 - categorical_accuracy: 1.0000\n",
            "Epoch 228/250\n",
            "5/5 [==============================] - 1s 135ms/step - loss: 7.8278e-05 - categorical_accuracy: 1.0000\n",
            "Epoch 229/250\n",
            "5/5 [==============================] - 1s 137ms/step - loss: 4.8133e-05 - categorical_accuracy: 1.0000\n",
            "Epoch 230/250\n",
            "5/5 [==============================] - 1s 143ms/step - loss: 5.3044e-05 - categorical_accuracy: 1.0000\n",
            "Epoch 231/250\n",
            "5/5 [==============================] - 1s 138ms/step - loss: 7.5633e-05 - categorical_accuracy: 1.0000\n",
            "Epoch 232/250\n",
            "5/5 [==============================] - 1s 137ms/step - loss: 4.7726e-05 - categorical_accuracy: 1.0000\n",
            "Epoch 233/250\n",
            "5/5 [==============================] - 1s 138ms/step - loss: 4.2890e-05 - categorical_accuracy: 1.0000\n",
            "Epoch 234/250\n",
            "5/5 [==============================] - 1s 140ms/step - loss: 4.7696e-05 - categorical_accuracy: 1.0000\n",
            "Epoch 235/250\n",
            "5/5 [==============================] - 1s 136ms/step - loss: 5.0467e-05 - categorical_accuracy: 1.0000\n",
            "Epoch 236/250\n",
            "5/5 [==============================] - 1s 139ms/step - loss: 6.0998e-05 - categorical_accuracy: 1.0000\n",
            "Epoch 237/250\n",
            "5/5 [==============================] - 1s 152ms/step - loss: 4.0456e-05 - categorical_accuracy: 1.0000\n",
            "Epoch 238/250\n",
            "5/5 [==============================] - 1s 136ms/step - loss: 3.7325e-05 - categorical_accuracy: 1.0000\n",
            "Epoch 239/250\n",
            "5/5 [==============================] - 1s 139ms/step - loss: 4.1064e-05 - categorical_accuracy: 1.0000\n",
            "Epoch 240/250\n",
            "5/5 [==============================] - 1s 140ms/step - loss: 3.4385e-05 - categorical_accuracy: 1.0000\n",
            "Epoch 241/250\n",
            "5/5 [==============================] - 1s 135ms/step - loss: 5.8373e-05 - categorical_accuracy: 1.0000\n",
            "Epoch 242/250\n",
            "5/5 [==============================] - 1s 140ms/step - loss: 3.6604e-05 - categorical_accuracy: 1.0000\n",
            "Epoch 243/250\n",
            "5/5 [==============================] - 1s 149ms/step - loss: 3.6998e-05 - categorical_accuracy: 1.0000\n",
            "Epoch 244/250\n",
            "5/5 [==============================] - 1s 138ms/step - loss: 2.8035e-05 - categorical_accuracy: 1.0000\n",
            "Epoch 245/250\n",
            "5/5 [==============================] - 1s 137ms/step - loss: 4.2175e-05 - categorical_accuracy: 1.0000\n",
            "Epoch 246/250\n",
            "5/5 [==============================] - 1s 140ms/step - loss: 4.0416e-05 - categorical_accuracy: 1.0000\n",
            "Epoch 247/250\n",
            "5/5 [==============================] - 1s 137ms/step - loss: 3.1369e-05 - categorical_accuracy: 1.0000\n",
            "Epoch 248/250\n",
            "5/5 [==============================] - 1s 135ms/step - loss: 3.9739e-05 - categorical_accuracy: 1.0000\n",
            "Epoch 249/250\n",
            "5/5 [==============================] - 1s 149ms/step - loss: 3.6031e-05 - categorical_accuracy: 1.00000s - loss: 3.2268e-05 - categorical_accuracy\n",
            "Epoch 250/250\n",
            "5/5 [==============================] - 1s 135ms/step - loss: 3.0163e-05 - categorical_accuracy: 1.0000\n"
          ]
        },
        {
          "data": {
            "text/plain": [
              "<tensorflow.python.keras.callbacks.History at 0x1d89f685588>"
            ]
          },
          "execution_count": 114,
          "metadata": {},
          "output_type": "execute_result"
        }
      ],
      "source": [
        "model.fit(X_train, y_train, epochs=250, callbacks=[tb_callback])"
      ]
    },
    {
      "cell_type": "code",
      "execution_count": null,
      "metadata": {
        "id": "d33IGdmvbnjj",
        "outputId": "084353fa-f869-42fc-d9b1-7e5dcdce2548"
      },
      "outputs": [
        {
          "name": "stdout",
          "output_type": "stream",
          "text": [
            "Model: \"sequential_2\"\n",
            "_________________________________________________________________\n",
            "Layer (type)                 Output Shape              Param #   \n",
            "=================================================================\n",
            "lstm_6 (LSTM)                (None, 30, 64)            442112    \n",
            "_________________________________________________________________\n",
            "lstm_7 (LSTM)                (None, 30, 128)           98816     \n",
            "_________________________________________________________________\n",
            "lstm_8 (LSTM)                (None, 64)                49408     \n",
            "_________________________________________________________________\n",
            "dense_5 (Dense)              (None, 64)                4160      \n",
            "_________________________________________________________________\n",
            "dense_6 (Dense)              (None, 32)                2080      \n",
            "_________________________________________________________________\n",
            "dense_7 (Dense)              (None, 5)                 165       \n",
            "=================================================================\n",
            "Total params: 596,741\n",
            "Trainable params: 596,741\n",
            "Non-trainable params: 0\n",
            "_________________________________________________________________\n"
          ]
        }
      ],
      "source": [
        "model.summary()"
      ]
    },
    {
      "cell_type": "markdown",
      "metadata": {
        "id": "WHPhYFqJbnjk"
      },
      "source": [
        "Make predictions"
      ]
    },
    {
      "cell_type": "code",
      "execution_count": null,
      "metadata": {
        "id": "cAoTHGw8bnjl"
      },
      "outputs": [],
      "source": [
        "res = model.predict(X_test)"
      ]
    },
    {
      "cell_type": "code",
      "execution_count": null,
      "metadata": {
        "id": "cMPztpQgbnjm",
        "outputId": "5b93ff7d-5f5e-4c7e-b2c0-53d5dd197621"
      },
      "outputs": [
        {
          "data": {
            "text/plain": [
              "'piano'"
            ]
          },
          "execution_count": 121,
          "metadata": {},
          "output_type": "execute_result"
        }
      ],
      "source": [
        "actions[np.argmax(res[2])]"
      ]
    },
    {
      "cell_type": "code",
      "execution_count": null,
      "metadata": {
        "id": "lpC0BZ6Fbnjm",
        "outputId": "7c2bc831-427e-4363-bf4e-af904ce9a02c"
      },
      "outputs": [
        {
          "data": {
            "text/plain": [
              "'piano'"
            ]
          },
          "execution_count": 122,
          "metadata": {},
          "output_type": "execute_result"
        }
      ],
      "source": [
        "actions[np.argmax(y_test[2])]"
      ]
    },
    {
      "cell_type": "markdown",
      "metadata": {
        "id": "CoM67GRUbnjn"
      },
      "source": [
        "Saving Weights"
      ]
    },
    {
      "cell_type": "code",
      "execution_count": null,
      "metadata": {
        "id": "uVkcSqOQbnjn"
      },
      "outputs": [],
      "source": [
        "model.save('actionFinal.h5')"
      ]
    },
    {
      "cell_type": "code",
      "execution_count": null,
      "metadata": {
        "id": "uNaRAZ_pbnjo"
      },
      "outputs": [],
      "source": [
        "model.load_weights('actionFinal.h5')"
      ]
    },
    {
      "cell_type": "code",
      "execution_count": null,
      "metadata": {
        "id": "yNyLNkIubnjp"
      },
      "outputs": [],
      "source": [
        "del model"
      ]
    },
    {
      "cell_type": "markdown",
      "metadata": {
        "id": "_981QCmCbnjq"
      },
      "source": [
        "\n",
        "Evaluating model performance - Confusion matrix and Accuracy"
      ]
    },
    {
      "cell_type": "code",
      "execution_count": null,
      "metadata": {
        "id": "7HBNe9Pbbnjq"
      },
      "outputs": [],
      "source": [
        "from sklearn.metrics import multilabel_confusion_matrix, accuracy_score"
      ]
    },
    {
      "cell_type": "code",
      "execution_count": null,
      "metadata": {
        "id": "8APQGS9Cbnjr"
      },
      "outputs": [],
      "source": [
        "yhat = model.predict(X_test)"
      ]
    },
    {
      "cell_type": "code",
      "execution_count": null,
      "metadata": {
        "id": "k4UnbaFtbnjr"
      },
      "outputs": [],
      "source": [
        "#Extracting predicted classes\n",
        "ytrue = np.argmax(y_test, axis=1).tolist()\n",
        "yhat = np.argmax(yhat, axis=1).tolist()"
      ]
    },
    {
      "cell_type": "code",
      "execution_count": null,
      "metadata": {
        "id": "zmoIZzy-bnjs",
        "outputId": "c0c82cb0-09be-4e33-8ea1-fd5a290613f3"
      },
      "outputs": [
        {
          "data": {
            "text/plain": [
              "[3, 3, 0, 1, 3, 0, 2, 3]"
            ]
          },
          "execution_count": 128,
          "metadata": {},
          "output_type": "execute_result"
        }
      ],
      "source": [
        "ytrue"
      ]
    },
    {
      "cell_type": "code",
      "execution_count": null,
      "metadata": {
        "id": "4YqXfvwTbnjs",
        "outputId": "dc47b9df-8124-488b-fb4a-e28ca10220a6"
      },
      "outputs": [
        {
          "data": {
            "text/plain": [
              "[3, 3, 0, 1, 3, 0, 2, 3]"
            ]
          },
          "execution_count": 129,
          "metadata": {},
          "output_type": "execute_result"
        }
      ],
      "source": [
        "yhat"
      ]
    },
    {
      "cell_type": "code",
      "execution_count": null,
      "metadata": {
        "id": "b-XUEtjabnjt",
        "outputId": "cc53820a-fb9b-4bd1-921a-2266bfb6ab61"
      },
      "outputs": [
        {
          "data": {
            "text/plain": [
              "array([[[6, 0],\n",
              "        [0, 2]],\n",
              "\n",
              "       [[7, 0],\n",
              "        [0, 1]],\n",
              "\n",
              "       [[7, 0],\n",
              "        [0, 1]],\n",
              "\n",
              "       [[4, 0],\n",
              "        [0, 4]]], dtype=int64)"
            ]
          },
          "execution_count": 130,
          "metadata": {},
          "output_type": "execute_result"
        }
      ],
      "source": [
        "multilabel_confusion_matrix(ytrue, yhat)"
      ]
    },
    {
      "cell_type": "code",
      "execution_count": null,
      "metadata": {
        "id": "Iq5UEpqUbnju",
        "outputId": "957fc2e1-b22f-4e98-d0aa-94bbe0a12ccb"
      },
      "outputs": [
        {
          "data": {
            "text/plain": [
              "1.0"
            ]
          },
          "execution_count": 131,
          "metadata": {},
          "output_type": "execute_result"
        }
      ],
      "source": [
        "accuracy_score(ytrue, yhat)"
      ]
    },
    {
      "cell_type": "markdown",
      "metadata": {
        "id": "9cYplTgtbnju"
      },
      "source": [
        "Testing in real time"
      ]
    },
    {
      "cell_type": "code",
      "execution_count": null,
      "metadata": {
        "id": "4dxazPMpbnjz"
      },
      "outputs": [],
      "source": [
        "from scipy import stats"
      ]
    },
    {
      "cell_type": "markdown",
      "metadata": {
        "id": "r2qmhrYdbnj0"
      },
      "source": [
        "Working real-time test"
      ]
    },
    {
      "cell_type": "code",
      "execution_count": null,
      "metadata": {
        "id": "y0FrALpHbnj0",
        "outputId": "8d970917-5281-4d4f-bca4-767e8a9f1ff4"
      },
      "outputs": [
        {
          "name": "stdout",
          "output_type": "stream",
          "text": [
            "<class 'mediapipe.python.solution_base.SolutionOutputs'>\n",
            "<class 'mediapipe.python.solution_base.SolutionOutputs'>\n",
            "<class 'mediapipe.python.solution_base.SolutionOutputs'>\n",
            "<class 'mediapipe.python.solution_base.SolutionOutputs'>\n",
            "<class 'mediapipe.python.solution_base.SolutionOutputs'>\n",
            "<class 'mediapipe.python.solution_base.SolutionOutputs'>\n",
            "<class 'mediapipe.python.solution_base.SolutionOutputs'>\n",
            "<class 'mediapipe.python.solution_base.SolutionOutputs'>\n",
            "<class 'mediapipe.python.solution_base.SolutionOutputs'>\n",
            "<class 'mediapipe.python.solution_base.SolutionOutputs'>\n",
            "<class 'mediapipe.python.solution_base.SolutionOutputs'>\n",
            "<class 'mediapipe.python.solution_base.SolutionOutputs'>\n",
            "<class 'mediapipe.python.solution_base.SolutionOutputs'>\n",
            "<class 'mediapipe.python.solution_base.SolutionOutputs'>\n",
            "<class 'mediapipe.python.solution_base.SolutionOutputs'>\n",
            "<class 'mediapipe.python.solution_base.SolutionOutputs'>\n",
            "<class 'mediapipe.python.solution_base.SolutionOutputs'>\n",
            "<class 'mediapipe.python.solution_base.SolutionOutputs'>\n",
            "<class 'mediapipe.python.solution_base.SolutionOutputs'>\n",
            "<class 'mediapipe.python.solution_base.SolutionOutputs'>\n",
            "<class 'mediapipe.python.solution_base.SolutionOutputs'>\n",
            "<class 'mediapipe.python.solution_base.SolutionOutputs'>\n",
            "<class 'mediapipe.python.solution_base.SolutionOutputs'>\n",
            "<class 'mediapipe.python.solution_base.SolutionOutputs'>\n",
            "<class 'mediapipe.python.solution_base.SolutionOutputs'>\n",
            "<class 'mediapipe.python.solution_base.SolutionOutputs'>\n",
            "<class 'mediapipe.python.solution_base.SolutionOutputs'>\n",
            "<class 'mediapipe.python.solution_base.SolutionOutputs'>\n",
            "<class 'mediapipe.python.solution_base.SolutionOutputs'>\n",
            "<class 'mediapipe.python.solution_base.SolutionOutputs'>\n",
            "guitar\n",
            "<class 'mediapipe.python.solution_base.SolutionOutputs'>\n",
            "guitar\n",
            "<class 'mediapipe.python.solution_base.SolutionOutputs'>\n",
            "guitar\n",
            "<class 'mediapipe.python.solution_base.SolutionOutputs'>\n",
            "guitar\n",
            "<class 'mediapipe.python.solution_base.SolutionOutputs'>\n",
            "guitar\n",
            "<class 'mediapipe.python.solution_base.SolutionOutputs'>\n",
            "guitar\n",
            "<class 'mediapipe.python.solution_base.SolutionOutputs'>\n",
            "guitar\n",
            "<class 'mediapipe.python.solution_base.SolutionOutputs'>\n",
            "guitar\n",
            "<class 'mediapipe.python.solution_base.SolutionOutputs'>\n",
            "guitar\n",
            "<class 'mediapipe.python.solution_base.SolutionOutputs'>\n",
            "guitar\n",
            "<class 'mediapipe.python.solution_base.SolutionOutputs'>\n",
            "guitar\n",
            "<class 'mediapipe.python.solution_base.SolutionOutputs'>\n",
            "guitar\n",
            "<class 'mediapipe.python.solution_base.SolutionOutputs'>\n",
            "guitar\n",
            "<class 'mediapipe.python.solution_base.SolutionOutputs'>\n",
            "guitar\n",
            "<class 'mediapipe.python.solution_base.SolutionOutputs'>\n",
            "guitar\n",
            "<class 'mediapipe.python.solution_base.SolutionOutputs'>\n",
            "guitar\n",
            "<class 'mediapipe.python.solution_base.SolutionOutputs'>\n",
            "guitar\n",
            "<class 'mediapipe.python.solution_base.SolutionOutputs'>\n",
            "guitar\n",
            "<class 'mediapipe.python.solution_base.SolutionOutputs'>\n",
            "guitar\n",
            "<class 'mediapipe.python.solution_base.SolutionOutputs'>\n",
            "guitar\n",
            "<class 'mediapipe.python.solution_base.SolutionOutputs'>\n",
            "guitar\n",
            "<class 'mediapipe.python.solution_base.SolutionOutputs'>\n",
            "guitar\n",
            "<class 'mediapipe.python.solution_base.SolutionOutputs'>\n",
            "guitar\n",
            "<class 'mediapipe.python.solution_base.SolutionOutputs'>\n",
            "guitar\n",
            "<class 'mediapipe.python.solution_base.SolutionOutputs'>\n",
            "guitar\n",
            "<class 'mediapipe.python.solution_base.SolutionOutputs'>\n",
            "guitar\n",
            "<class 'mediapipe.python.solution_base.SolutionOutputs'>\n",
            "guitar\n",
            "<class 'mediapipe.python.solution_base.SolutionOutputs'>\n",
            "piano\n",
            "<class 'mediapipe.python.solution_base.SolutionOutputs'>\n",
            "piano\n",
            "<class 'mediapipe.python.solution_base.SolutionOutputs'>\n",
            "drums\n",
            "<class 'mediapipe.python.solution_base.SolutionOutputs'>\n",
            "drums\n",
            "<class 'mediapipe.python.solution_base.SolutionOutputs'>\n",
            "drums\n",
            "<class 'mediapipe.python.solution_base.SolutionOutputs'>\n",
            "drums\n",
            "<class 'mediapipe.python.solution_base.SolutionOutputs'>\n",
            "drums\n",
            "<class 'mediapipe.python.solution_base.SolutionOutputs'>\n",
            "drums\n",
            "<class 'mediapipe.python.solution_base.SolutionOutputs'>\n",
            "drums\n",
            "<class 'mediapipe.python.solution_base.SolutionOutputs'>\n",
            "drums\n",
            "<class 'mediapipe.python.solution_base.SolutionOutputs'>\n",
            "drums\n",
            "<class 'mediapipe.python.solution_base.SolutionOutputs'>\n",
            "drums\n",
            "<class 'mediapipe.python.solution_base.SolutionOutputs'>\n",
            "drums\n",
            "<class 'mediapipe.python.solution_base.SolutionOutputs'>\n",
            "drums\n",
            "<class 'mediapipe.python.solution_base.SolutionOutputs'>\n",
            "drums\n",
            "<class 'mediapipe.python.solution_base.SolutionOutputs'>\n",
            "drums\n",
            "<class 'mediapipe.python.solution_base.SolutionOutputs'>\n",
            "drums\n",
            "<class 'mediapipe.python.solution_base.SolutionOutputs'>\n",
            "drums\n",
            "<class 'mediapipe.python.solution_base.SolutionOutputs'>\n",
            "drums\n",
            "<class 'mediapipe.python.solution_base.SolutionOutputs'>\n",
            "drums\n",
            "<class 'mediapipe.python.solution_base.SolutionOutputs'>\n",
            "drums\n",
            "<class 'mediapipe.python.solution_base.SolutionOutputs'>\n",
            "drums\n",
            "<class 'mediapipe.python.solution_base.SolutionOutputs'>\n",
            "drums\n",
            "<class 'mediapipe.python.solution_base.SolutionOutputs'>\n",
            "drums\n",
            "<class 'mediapipe.python.solution_base.SolutionOutputs'>\n",
            "drums\n",
            "<class 'mediapipe.python.solution_base.SolutionOutputs'>\n",
            "drums\n",
            "<class 'mediapipe.python.solution_base.SolutionOutputs'>\n",
            "drums\n",
            "<class 'mediapipe.python.solution_base.SolutionOutputs'>\n",
            "drums\n",
            "<class 'mediapipe.python.solution_base.SolutionOutputs'>\n",
            "drums\n",
            "<class 'mediapipe.python.solution_base.SolutionOutputs'>\n",
            "drums\n",
            "<class 'mediapipe.python.solution_base.SolutionOutputs'>\n",
            "drums\n",
            "<class 'mediapipe.python.solution_base.SolutionOutputs'>\n",
            "drums\n",
            "<class 'mediapipe.python.solution_base.SolutionOutputs'>\n",
            "drums\n",
            "<class 'mediapipe.python.solution_base.SolutionOutputs'>\n",
            "drums\n",
            "<class 'mediapipe.python.solution_base.SolutionOutputs'>\n",
            "drums\n",
            "<class 'mediapipe.python.solution_base.SolutionOutputs'>\n",
            "drums\n",
            "<class 'mediapipe.python.solution_base.SolutionOutputs'>\n",
            "drums\n",
            "<class 'mediapipe.python.solution_base.SolutionOutputs'>\n",
            "drums\n",
            "<class 'mediapipe.python.solution_base.SolutionOutputs'>\n",
            "drums\n",
            "<class 'mediapipe.python.solution_base.SolutionOutputs'>\n",
            "drums\n",
            "<class 'mediapipe.python.solution_base.SolutionOutputs'>\n",
            "drums\n",
            "<class 'mediapipe.python.solution_base.SolutionOutputs'>\n",
            "drums\n",
            "<class 'mediapipe.python.solution_base.SolutionOutputs'>\n",
            "drums\n",
            "<class 'mediapipe.python.solution_base.SolutionOutputs'>\n",
            "drums\n",
            "<class 'mediapipe.python.solution_base.SolutionOutputs'>\n",
            "drums\n",
            "<class 'mediapipe.python.solution_base.SolutionOutputs'>\n",
            "drums\n",
            "<class 'mediapipe.python.solution_base.SolutionOutputs'>\n",
            "drums\n",
            "<class 'mediapipe.python.solution_base.SolutionOutputs'>\n",
            "drums\n",
            "<class 'mediapipe.python.solution_base.SolutionOutputs'>\n",
            "drums\n",
            "<class 'mediapipe.python.solution_base.SolutionOutputs'>\n",
            "drums\n",
            "<class 'mediapipe.python.solution_base.SolutionOutputs'>\n",
            "drums\n",
            "<class 'mediapipe.python.solution_base.SolutionOutputs'>\n",
            "drums\n",
            "<class 'mediapipe.python.solution_base.SolutionOutputs'>\n",
            "drums\n",
            "<class 'mediapipe.python.solution_base.SolutionOutputs'>\n",
            "drums\n",
            "<class 'mediapipe.python.solution_base.SolutionOutputs'>\n",
            "drums\n",
            "<class 'mediapipe.python.solution_base.SolutionOutputs'>\n",
            "drums\n",
            "<class 'mediapipe.python.solution_base.SolutionOutputs'>\n",
            "drums\n",
            "<class 'mediapipe.python.solution_base.SolutionOutputs'>\n",
            "drums\n",
            "<class 'mediapipe.python.solution_base.SolutionOutputs'>\n",
            "drums\n",
            "<class 'mediapipe.python.solution_base.SolutionOutputs'>\n",
            "drums\n",
            "<class 'mediapipe.python.solution_base.SolutionOutputs'>\n",
            "drums\n",
            "<class 'mediapipe.python.solution_base.SolutionOutputs'>\n",
            "drums\n",
            "<class 'mediapipe.python.solution_base.SolutionOutputs'>\n",
            "drums\n",
            "<class 'mediapipe.python.solution_base.SolutionOutputs'>\n",
            "drums\n",
            "<class 'mediapipe.python.solution_base.SolutionOutputs'>\n",
            "drums\n",
            "<class 'mediapipe.python.solution_base.SolutionOutputs'>\n",
            "drums\n",
            "<class 'mediapipe.python.solution_base.SolutionOutputs'>\n",
            "drums\n",
            "<class 'mediapipe.python.solution_base.SolutionOutputs'>\n",
            "drums\n",
            "<class 'mediapipe.python.solution_base.SolutionOutputs'>\n",
            "drums\n",
            "<class 'mediapipe.python.solution_base.SolutionOutputs'>\n",
            "drums\n",
            "<class 'mediapipe.python.solution_base.SolutionOutputs'>\n",
            "drums\n",
            "<class 'mediapipe.python.solution_base.SolutionOutputs'>\n",
            "drums\n",
            "<class 'mediapipe.python.solution_base.SolutionOutputs'>\n",
            "drums\n",
            "<class 'mediapipe.python.solution_base.SolutionOutputs'>\n",
            "drums\n",
            "<class 'mediapipe.python.solution_base.SolutionOutputs'>\n",
            "drums\n",
            "<class 'mediapipe.python.solution_base.SolutionOutputs'>\n",
            "drums\n",
            "<class 'mediapipe.python.solution_base.SolutionOutputs'>\n",
            "drums\n",
            "<class 'mediapipe.python.solution_base.SolutionOutputs'>\n",
            "drums\n",
            "<class 'mediapipe.python.solution_base.SolutionOutputs'>\n",
            "drums\n",
            "<class 'mediapipe.python.solution_base.SolutionOutputs'>\n",
            "drums\n",
            "<class 'mediapipe.python.solution_base.SolutionOutputs'>\n",
            "drums\n",
            "<class 'mediapipe.python.solution_base.SolutionOutputs'>\n",
            "drums\n",
            "<class 'mediapipe.python.solution_base.SolutionOutputs'>\n",
            "drums\n",
            "<class 'mediapipe.python.solution_base.SolutionOutputs'>\n",
            "drums\n",
            "<class 'mediapipe.python.solution_base.SolutionOutputs'>\n",
            "drums\n",
            "<class 'mediapipe.python.solution_base.SolutionOutputs'>\n",
            "drums\n",
            "<class 'mediapipe.python.solution_base.SolutionOutputs'>\n",
            "drums\n",
            "<class 'mediapipe.python.solution_base.SolutionOutputs'>\n",
            "drums\n",
            "<class 'mediapipe.python.solution_base.SolutionOutputs'>\n",
            "guitar\n",
            "<class 'mediapipe.python.solution_base.SolutionOutputs'>\n",
            "drums\n",
            "<class 'mediapipe.python.solution_base.SolutionOutputs'>\n",
            "drums\n",
            "<class 'mediapipe.python.solution_base.SolutionOutputs'>\n",
            "drums\n",
            "<class 'mediapipe.python.solution_base.SolutionOutputs'>\n",
            "drums\n",
            "<class 'mediapipe.python.solution_base.SolutionOutputs'>\n",
            "guitar\n",
            "<class 'mediapipe.python.solution_base.SolutionOutputs'>\n",
            "guitar\n",
            "<class 'mediapipe.python.solution_base.SolutionOutputs'>\n",
            "guitar\n",
            "<class 'mediapipe.python.solution_base.SolutionOutputs'>\n",
            "guitar\n",
            "<class 'mediapipe.python.solution_base.SolutionOutputs'>\n",
            "guitar\n",
            "<class 'mediapipe.python.solution_base.SolutionOutputs'>\n",
            "guitar\n",
            "<class 'mediapipe.python.solution_base.SolutionOutputs'>\n",
            "guitar\n",
            "<class 'mediapipe.python.solution_base.SolutionOutputs'>\n",
            "guitar\n",
            "<class 'mediapipe.python.solution_base.SolutionOutputs'>\n",
            "guitar\n",
            "<class 'mediapipe.python.solution_base.SolutionOutputs'>\n",
            "guitar\n",
            "<class 'mediapipe.python.solution_base.SolutionOutputs'>\n",
            "guitar\n",
            "<class 'mediapipe.python.solution_base.SolutionOutputs'>\n",
            "guitar\n",
            "<class 'mediapipe.python.solution_base.SolutionOutputs'>\n",
            "guitar\n",
            "<class 'mediapipe.python.solution_base.SolutionOutputs'>\n",
            "guitar\n",
            "<class 'mediapipe.python.solution_base.SolutionOutputs'>\n",
            "guitar\n",
            "<class 'mediapipe.python.solution_base.SolutionOutputs'>\n",
            "guitar\n",
            "<class 'mediapipe.python.solution_base.SolutionOutputs'>\n",
            "guitar\n",
            "<class 'mediapipe.python.solution_base.SolutionOutputs'>\n",
            "guitar\n",
            "<class 'mediapipe.python.solution_base.SolutionOutputs'>\n",
            "guitar\n",
            "<class 'mediapipe.python.solution_base.SolutionOutputs'>\n",
            "guitar\n",
            "<class 'mediapipe.python.solution_base.SolutionOutputs'>\n",
            "guitar\n",
            "<class 'mediapipe.python.solution_base.SolutionOutputs'>\n",
            "guitar\n",
            "<class 'mediapipe.python.solution_base.SolutionOutputs'>\n",
            "guitar\n",
            "<class 'mediapipe.python.solution_base.SolutionOutputs'>\n",
            "guitar\n",
            "<class 'mediapipe.python.solution_base.SolutionOutputs'>\n",
            "guitar\n",
            "<class 'mediapipe.python.solution_base.SolutionOutputs'>\n",
            "guitar\n",
            "<class 'mediapipe.python.solution_base.SolutionOutputs'>\n",
            "guitar\n",
            "<class 'mediapipe.python.solution_base.SolutionOutputs'>\n",
            "guitar\n",
            "<class 'mediapipe.python.solution_base.SolutionOutputs'>\n",
            "guitar\n",
            "<class 'mediapipe.python.solution_base.SolutionOutputs'>\n",
            "guitar\n",
            "<class 'mediapipe.python.solution_base.SolutionOutputs'>\n",
            "saxophone\n",
            "<class 'mediapipe.python.solution_base.SolutionOutputs'>\n",
            "saxophone\n",
            "<class 'mediapipe.python.solution_base.SolutionOutputs'>\n",
            "saxophone\n",
            "<class 'mediapipe.python.solution_base.SolutionOutputs'>\n",
            "saxophone\n",
            "<class 'mediapipe.python.solution_base.SolutionOutputs'>\n",
            "saxophone\n",
            "<class 'mediapipe.python.solution_base.SolutionOutputs'>\n",
            "saxophone\n",
            "<class 'mediapipe.python.solution_base.SolutionOutputs'>\n",
            "saxophone\n",
            "<class 'mediapipe.python.solution_base.SolutionOutputs'>\n",
            "saxophone\n",
            "<class 'mediapipe.python.solution_base.SolutionOutputs'>\n",
            "saxophone\n",
            "<class 'mediapipe.python.solution_base.SolutionOutputs'>\n",
            "saxophone\n",
            "<class 'mediapipe.python.solution_base.SolutionOutputs'>\n",
            "saxophone\n",
            "<class 'mediapipe.python.solution_base.SolutionOutputs'>\n",
            "saxophone\n",
            "<class 'mediapipe.python.solution_base.SolutionOutputs'>\n",
            "saxophone\n",
            "<class 'mediapipe.python.solution_base.SolutionOutputs'>\n",
            "saxophone\n",
            "<class 'mediapipe.python.solution_base.SolutionOutputs'>\n",
            "saxophone\n",
            "<class 'mediapipe.python.solution_base.SolutionOutputs'>\n",
            "saxophone\n",
            "<class 'mediapipe.python.solution_base.SolutionOutputs'>\n",
            "saxophone\n",
            "<class 'mediapipe.python.solution_base.SolutionOutputs'>\n",
            "saxophone\n",
            "<class 'mediapipe.python.solution_base.SolutionOutputs'>\n",
            "saxophone\n",
            "<class 'mediapipe.python.solution_base.SolutionOutputs'>\n",
            "saxophone\n",
            "<class 'mediapipe.python.solution_base.SolutionOutputs'>\n",
            "saxophone\n",
            "<class 'mediapipe.python.solution_base.SolutionOutputs'>\n",
            "saxophone\n",
            "<class 'mediapipe.python.solution_base.SolutionOutputs'>\n",
            "saxophone\n",
            "<class 'mediapipe.python.solution_base.SolutionOutputs'>\n",
            "guitar\n",
            "<class 'mediapipe.python.solution_base.SolutionOutputs'>\n",
            "guitar\n",
            "<class 'mediapipe.python.solution_base.SolutionOutputs'>\n",
            "guitar\n",
            "<class 'mediapipe.python.solution_base.SolutionOutputs'>\n",
            "guitar\n",
            "<class 'mediapipe.python.solution_base.SolutionOutputs'>\n",
            "guitar\n",
            "<class 'mediapipe.python.solution_base.SolutionOutputs'>\n",
            "guitar\n",
            "<class 'mediapipe.python.solution_base.SolutionOutputs'>\n",
            "drums\n",
            "<class 'mediapipe.python.solution_base.SolutionOutputs'>\n",
            "drums\n",
            "<class 'mediapipe.python.solution_base.SolutionOutputs'>\n",
            "drums\n",
            "<class 'mediapipe.python.solution_base.SolutionOutputs'>\n",
            "drums\n",
            "<class 'mediapipe.python.solution_base.SolutionOutputs'>\n",
            "drums\n",
            "<class 'mediapipe.python.solution_base.SolutionOutputs'>\n",
            "drums\n",
            "<class 'mediapipe.python.solution_base.SolutionOutputs'>\n",
            "drums\n",
            "<class 'mediapipe.python.solution_base.SolutionOutputs'>\n",
            "drums\n",
            "<class 'mediapipe.python.solution_base.SolutionOutputs'>\n",
            "drums\n",
            "<class 'mediapipe.python.solution_base.SolutionOutputs'>\n",
            "drums\n",
            "<class 'mediapipe.python.solution_base.SolutionOutputs'>\n",
            "drums\n",
            "<class 'mediapipe.python.solution_base.SolutionOutputs'>\n",
            "drums\n",
            "<class 'mediapipe.python.solution_base.SolutionOutputs'>\n",
            "drums\n",
            "<class 'mediapipe.python.solution_base.SolutionOutputs'>\n",
            "drums\n",
            "<class 'mediapipe.python.solution_base.SolutionOutputs'>\n",
            "drums\n",
            "<class 'mediapipe.python.solution_base.SolutionOutputs'>\n",
            "drums\n",
            "<class 'mediapipe.python.solution_base.SolutionOutputs'>\n",
            "drums\n",
            "<class 'mediapipe.python.solution_base.SolutionOutputs'>\n",
            "drums\n",
            "<class 'mediapipe.python.solution_base.SolutionOutputs'>\n",
            "drums\n",
            "<class 'mediapipe.python.solution_base.SolutionOutputs'>\n",
            "drums\n",
            "<class 'mediapipe.python.solution_base.SolutionOutputs'>\n",
            "drums\n",
            "<class 'mediapipe.python.solution_base.SolutionOutputs'>\n",
            "drums\n",
            "<class 'mediapipe.python.solution_base.SolutionOutputs'>\n",
            "drums\n",
            "<class 'mediapipe.python.solution_base.SolutionOutputs'>\n",
            "guitar\n",
            "<class 'mediapipe.python.solution_base.SolutionOutputs'>\n",
            "guitar\n",
            "<class 'mediapipe.python.solution_base.SolutionOutputs'>\n",
            "guitar\n",
            "<class 'mediapipe.python.solution_base.SolutionOutputs'>\n",
            "guitar\n",
            "<class 'mediapipe.python.solution_base.SolutionOutputs'>\n",
            "guitar\n",
            "<class 'mediapipe.python.solution_base.SolutionOutputs'>\n",
            "guitar\n",
            "<class 'mediapipe.python.solution_base.SolutionOutputs'>\n",
            "guitar\n",
            "<class 'mediapipe.python.solution_base.SolutionOutputs'>\n",
            "guitar\n",
            "<class 'mediapipe.python.solution_base.SolutionOutputs'>\n",
            "guitar\n",
            "<class 'mediapipe.python.solution_base.SolutionOutputs'>\n",
            "guitar\n",
            "<class 'mediapipe.python.solution_base.SolutionOutputs'>\n",
            "guitar\n",
            "<class 'mediapipe.python.solution_base.SolutionOutputs'>\n",
            "violin\n",
            "<class 'mediapipe.python.solution_base.SolutionOutputs'>\n",
            "violin\n",
            "<class 'mediapipe.python.solution_base.SolutionOutputs'>\n",
            "violin\n",
            "<class 'mediapipe.python.solution_base.SolutionOutputs'>\n",
            "violin\n",
            "<class 'mediapipe.python.solution_base.SolutionOutputs'>\n",
            "violin\n",
            "<class 'mediapipe.python.solution_base.SolutionOutputs'>\n",
            "violin\n",
            "<class 'mediapipe.python.solution_base.SolutionOutputs'>\n",
            "violin\n",
            "<class 'mediapipe.python.solution_base.SolutionOutputs'>\n",
            "violin\n",
            "<class 'mediapipe.python.solution_base.SolutionOutputs'>\n",
            "violin\n",
            "<class 'mediapipe.python.solution_base.SolutionOutputs'>\n",
            "violin\n",
            "<class 'mediapipe.python.solution_base.SolutionOutputs'>\n",
            "guitar\n",
            "<class 'mediapipe.python.solution_base.SolutionOutputs'>\n",
            "violin\n",
            "<class 'mediapipe.python.solution_base.SolutionOutputs'>\n",
            "violin\n",
            "<class 'mediapipe.python.solution_base.SolutionOutputs'>\n",
            "violin\n",
            "<class 'mediapipe.python.solution_base.SolutionOutputs'>\n",
            "violin\n",
            "<class 'mediapipe.python.solution_base.SolutionOutputs'>\n",
            "violin\n",
            "<class 'mediapipe.python.solution_base.SolutionOutputs'>\n",
            "violin\n",
            "<class 'mediapipe.python.solution_base.SolutionOutputs'>\n",
            "violin\n",
            "<class 'mediapipe.python.solution_base.SolutionOutputs'>\n",
            "violin\n",
            "<class 'mediapipe.python.solution_base.SolutionOutputs'>\n",
            "violin\n",
            "<class 'mediapipe.python.solution_base.SolutionOutputs'>\n",
            "guitar\n",
            "<class 'mediapipe.python.solution_base.SolutionOutputs'>\n",
            "guitar\n",
            "<class 'mediapipe.python.solution_base.SolutionOutputs'>\n",
            "violin\n",
            "<class 'mediapipe.python.solution_base.SolutionOutputs'>\n",
            "violin\n",
            "<class 'mediapipe.python.solution_base.SolutionOutputs'>\n",
            "guitar\n",
            "<class 'mediapipe.python.solution_base.SolutionOutputs'>\n",
            "guitar\n",
            "<class 'mediapipe.python.solution_base.SolutionOutputs'>\n",
            "violin\n",
            "<class 'mediapipe.python.solution_base.SolutionOutputs'>\n",
            "guitar\n",
            "<class 'mediapipe.python.solution_base.SolutionOutputs'>\n",
            "violin\n",
            "<class 'mediapipe.python.solution_base.SolutionOutputs'>\n",
            "guitar\n",
            "<class 'mediapipe.python.solution_base.SolutionOutputs'>\n",
            "guitar\n",
            "<class 'mediapipe.python.solution_base.SolutionOutputs'>\n",
            "guitar\n",
            "<class 'mediapipe.python.solution_base.SolutionOutputs'>\n",
            "guitar\n",
            "<class 'mediapipe.python.solution_base.SolutionOutputs'>\n",
            "guitar\n",
            "<class 'mediapipe.python.solution_base.SolutionOutputs'>\n",
            "guitar\n",
            "<class 'mediapipe.python.solution_base.SolutionOutputs'>\n",
            "guitar\n",
            "<class 'mediapipe.python.solution_base.SolutionOutputs'>\n",
            "guitar\n",
            "<class 'mediapipe.python.solution_base.SolutionOutputs'>\n",
            "guitar\n",
            "<class 'mediapipe.python.solution_base.SolutionOutputs'>\n",
            "piano\n",
            "<class 'mediapipe.python.solution_base.SolutionOutputs'>\n",
            "piano\n",
            "<class 'mediapipe.python.solution_base.SolutionOutputs'>\n",
            "piano\n",
            "<class 'mediapipe.python.solution_base.SolutionOutputs'>\n",
            "piano\n",
            "<class 'mediapipe.python.solution_base.SolutionOutputs'>\n",
            "piano\n",
            "<class 'mediapipe.python.solution_base.SolutionOutputs'>\n",
            "piano\n",
            "<class 'mediapipe.python.solution_base.SolutionOutputs'>\n",
            "drums\n",
            "<class 'mediapipe.python.solution_base.SolutionOutputs'>\n",
            "drums\n",
            "<class 'mediapipe.python.solution_base.SolutionOutputs'>\n",
            "drums\n",
            "<class 'mediapipe.python.solution_base.SolutionOutputs'>\n",
            "drums\n",
            "<class 'mediapipe.python.solution_base.SolutionOutputs'>\n",
            "drums\n",
            "<class 'mediapipe.python.solution_base.SolutionOutputs'>\n",
            "drums\n",
            "<class 'mediapipe.python.solution_base.SolutionOutputs'>\n",
            "drums\n",
            "<class 'mediapipe.python.solution_base.SolutionOutputs'>\n",
            "drums\n",
            "<class 'mediapipe.python.solution_base.SolutionOutputs'>\n",
            "drums\n",
            "<class 'mediapipe.python.solution_base.SolutionOutputs'>\n",
            "drums\n",
            "<class 'mediapipe.python.solution_base.SolutionOutputs'>\n",
            "drums\n",
            "<class 'mediapipe.python.solution_base.SolutionOutputs'>\n",
            "drums\n",
            "<class 'mediapipe.python.solution_base.SolutionOutputs'>\n",
            "drums\n",
            "<class 'mediapipe.python.solution_base.SolutionOutputs'>\n",
            "drums\n",
            "<class 'mediapipe.python.solution_base.SolutionOutputs'>\n",
            "drums\n",
            "<class 'mediapipe.python.solution_base.SolutionOutputs'>\n",
            "drums\n",
            "<class 'mediapipe.python.solution_base.SolutionOutputs'>\n",
            "drums\n",
            "<class 'mediapipe.python.solution_base.SolutionOutputs'>\n",
            "drums\n",
            "<class 'mediapipe.python.solution_base.SolutionOutputs'>\n",
            "drums\n",
            "<class 'mediapipe.python.solution_base.SolutionOutputs'>\n",
            "drums\n",
            "<class 'mediapipe.python.solution_base.SolutionOutputs'>\n",
            "drums\n",
            "<class 'mediapipe.python.solution_base.SolutionOutputs'>\n",
            "drums\n",
            "<class 'mediapipe.python.solution_base.SolutionOutputs'>\n",
            "drums\n",
            "<class 'mediapipe.python.solution_base.SolutionOutputs'>\n",
            "drums\n",
            "<class 'mediapipe.python.solution_base.SolutionOutputs'>\n",
            "drums\n",
            "<class 'mediapipe.python.solution_base.SolutionOutputs'>\n",
            "drums\n",
            "<class 'mediapipe.python.solution_base.SolutionOutputs'>\n",
            "drums\n",
            "<class 'mediapipe.python.solution_base.SolutionOutputs'>\n",
            "drums\n",
            "<class 'mediapipe.python.solution_base.SolutionOutputs'>\n",
            "guitar\n",
            "<class 'mediapipe.python.solution_base.SolutionOutputs'>\n",
            "drums\n",
            "<class 'mediapipe.python.solution_base.SolutionOutputs'>\n",
            "guitar\n",
            "<class 'mediapipe.python.solution_base.SolutionOutputs'>\n",
            "guitar\n",
            "<class 'mediapipe.python.solution_base.SolutionOutputs'>\n",
            "drums\n",
            "<class 'mediapipe.python.solution_base.SolutionOutputs'>\n",
            "drums\n",
            "<class 'mediapipe.python.solution_base.SolutionOutputs'>\n",
            "drums\n",
            "<class 'mediapipe.python.solution_base.SolutionOutputs'>\n",
            "drums\n",
            "<class 'mediapipe.python.solution_base.SolutionOutputs'>\n",
            "drums\n",
            "<class 'mediapipe.python.solution_base.SolutionOutputs'>\n",
            "drums\n",
            "<class 'mediapipe.python.solution_base.SolutionOutputs'>\n",
            "drums\n",
            "<class 'mediapipe.python.solution_base.SolutionOutputs'>\n",
            "drums\n",
            "<class 'mediapipe.python.solution_base.SolutionOutputs'>\n",
            "drums\n",
            "<class 'mediapipe.python.solution_base.SolutionOutputs'>\n",
            "drums\n",
            "<class 'mediapipe.python.solution_base.SolutionOutputs'>\n",
            "drums\n",
            "<class 'mediapipe.python.solution_base.SolutionOutputs'>\n",
            "drums\n",
            "<class 'mediapipe.python.solution_base.SolutionOutputs'>\n",
            "drums\n",
            "<class 'mediapipe.python.solution_base.SolutionOutputs'>\n",
            "drums\n",
            "<class 'mediapipe.python.solution_base.SolutionOutputs'>\n",
            "drums\n",
            "<class 'mediapipe.python.solution_base.SolutionOutputs'>\n",
            "drums\n",
            "<class 'mediapipe.python.solution_base.SolutionOutputs'>\n",
            "drums\n",
            "<class 'mediapipe.python.solution_base.SolutionOutputs'>\n",
            "drums\n",
            "<class 'mediapipe.python.solution_base.SolutionOutputs'>\n",
            "drums\n",
            "<class 'mediapipe.python.solution_base.SolutionOutputs'>\n",
            "drums\n",
            "<class 'mediapipe.python.solution_base.SolutionOutputs'>\n",
            "drums\n",
            "<class 'mediapipe.python.solution_base.SolutionOutputs'>\n",
            "drums\n",
            "<class 'mediapipe.python.solution_base.SolutionOutputs'>\n",
            "guitar\n",
            "<class 'mediapipe.python.solution_base.SolutionOutputs'>\n",
            "guitar\n",
            "<class 'mediapipe.python.solution_base.SolutionOutputs'>\n",
            "guitar\n",
            "<class 'mediapipe.python.solution_base.SolutionOutputs'>\n",
            "saxophone\n",
            "<class 'mediapipe.python.solution_base.SolutionOutputs'>\n",
            "saxophone\n",
            "<class 'mediapipe.python.solution_base.SolutionOutputs'>\n",
            "saxophone\n",
            "<class 'mediapipe.python.solution_base.SolutionOutputs'>\n",
            "saxophone\n",
            "<class 'mediapipe.python.solution_base.SolutionOutputs'>\n",
            "guitar\n",
            "<class 'mediapipe.python.solution_base.SolutionOutputs'>\n",
            "guitar\n",
            "<class 'mediapipe.python.solution_base.SolutionOutputs'>\n",
            "guitar\n",
            "<class 'mediapipe.python.solution_base.SolutionOutputs'>\n",
            "guitar\n",
            "<class 'mediapipe.python.solution_base.SolutionOutputs'>\n",
            "guitar\n",
            "<class 'mediapipe.python.solution_base.SolutionOutputs'>\n",
            "guitar\n",
            "<class 'mediapipe.python.solution_base.SolutionOutputs'>\n",
            "guitar\n",
            "<class 'mediapipe.python.solution_base.SolutionOutputs'>\n",
            "guitar\n",
            "<class 'mediapipe.python.solution_base.SolutionOutputs'>\n",
            "guitar\n",
            "<class 'mediapipe.python.solution_base.SolutionOutputs'>\n",
            "drums\n",
            "<class 'mediapipe.python.solution_base.SolutionOutputs'>\n",
            "drums\n",
            "<class 'mediapipe.python.solution_base.SolutionOutputs'>\n",
            "drums\n",
            "<class 'mediapipe.python.solution_base.SolutionOutputs'>\n",
            "drums\n",
            "<class 'mediapipe.python.solution_base.SolutionOutputs'>\n",
            "drums\n",
            "<class 'mediapipe.python.solution_base.SolutionOutputs'>\n",
            "piano\n",
            "<class 'mediapipe.python.solution_base.SolutionOutputs'>\n",
            "piano\n",
            "<class 'mediapipe.python.solution_base.SolutionOutputs'>\n",
            "guitar\n",
            "<class 'mediapipe.python.solution_base.SolutionOutputs'>\n",
            "guitar\n",
            "<class 'mediapipe.python.solution_base.SolutionOutputs'>\n",
            "guitar\n",
            "<class 'mediapipe.python.solution_base.SolutionOutputs'>\n",
            "piano\n",
            "<class 'mediapipe.python.solution_base.SolutionOutputs'>\n",
            "drums\n",
            "<class 'mediapipe.python.solution_base.SolutionOutputs'>\n",
            "drums\n",
            "<class 'mediapipe.python.solution_base.SolutionOutputs'>\n",
            "drums\n",
            "<class 'mediapipe.python.solution_base.SolutionOutputs'>\n",
            "drums\n",
            "<class 'mediapipe.python.solution_base.SolutionOutputs'>\n",
            "drums\n",
            "<class 'mediapipe.python.solution_base.SolutionOutputs'>\n",
            "drums\n",
            "<class 'mediapipe.python.solution_base.SolutionOutputs'>\n",
            "drums\n",
            "<class 'mediapipe.python.solution_base.SolutionOutputs'>\n",
            "drums\n",
            "<class 'mediapipe.python.solution_base.SolutionOutputs'>\n",
            "drums\n",
            "<class 'mediapipe.python.solution_base.SolutionOutputs'>\n",
            "drums\n",
            "<class 'mediapipe.python.solution_base.SolutionOutputs'>\n",
            "drums\n",
            "<class 'mediapipe.python.solution_base.SolutionOutputs'>\n",
            "drums\n",
            "<class 'mediapipe.python.solution_base.SolutionOutputs'>\n",
            "drums\n",
            "<class 'mediapipe.python.solution_base.SolutionOutputs'>\n",
            "drums\n",
            "<class 'mediapipe.python.solution_base.SolutionOutputs'>\n",
            "drums\n",
            "<class 'mediapipe.python.solution_base.SolutionOutputs'>\n",
            "drums\n",
            "<class 'mediapipe.python.solution_base.SolutionOutputs'>\n",
            "drums\n",
            "<class 'mediapipe.python.solution_base.SolutionOutputs'>\n",
            "drums\n",
            "<class 'mediapipe.python.solution_base.SolutionOutputs'>\n",
            "drums\n",
            "<class 'mediapipe.python.solution_base.SolutionOutputs'>\n",
            "drums\n",
            "<class 'mediapipe.python.solution_base.SolutionOutputs'>\n",
            "drums\n",
            "<class 'mediapipe.python.solution_base.SolutionOutputs'>\n",
            "drums\n",
            "<class 'mediapipe.python.solution_base.SolutionOutputs'>\n",
            "drums\n",
            "<class 'mediapipe.python.solution_base.SolutionOutputs'>\n",
            "drums\n",
            "<class 'mediapipe.python.solution_base.SolutionOutputs'>\n",
            "drums\n",
            "<class 'mediapipe.python.solution_base.SolutionOutputs'>\n",
            "drums\n",
            "<class 'mediapipe.python.solution_base.SolutionOutputs'>\n",
            "drums\n",
            "<class 'mediapipe.python.solution_base.SolutionOutputs'>\n",
            "guitar\n",
            "<class 'mediapipe.python.solution_base.SolutionOutputs'>\n",
            "guitar\n",
            "<class 'mediapipe.python.solution_base.SolutionOutputs'>\n",
            "guitar\n",
            "<class 'mediapipe.python.solution_base.SolutionOutputs'>\n",
            "guitar\n",
            "<class 'mediapipe.python.solution_base.SolutionOutputs'>\n",
            "guitar\n",
            "<class 'mediapipe.python.solution_base.SolutionOutputs'>\n",
            "guitar\n",
            "<class 'mediapipe.python.solution_base.SolutionOutputs'>\n",
            "guitar\n",
            "<class 'mediapipe.python.solution_base.SolutionOutputs'>\n",
            "guitar\n",
            "<class 'mediapipe.python.solution_base.SolutionOutputs'>\n",
            "guitar\n",
            "<class 'mediapipe.python.solution_base.SolutionOutputs'>\n",
            "drums\n",
            "<class 'mediapipe.python.solution_base.SolutionOutputs'>\n",
            "drums\n",
            "<class 'mediapipe.python.solution_base.SolutionOutputs'>\n",
            "drums\n",
            "<class 'mediapipe.python.solution_base.SolutionOutputs'>\n",
            "drums\n",
            "<class 'mediapipe.python.solution_base.SolutionOutputs'>\n",
            "drums\n",
            "<class 'mediapipe.python.solution_base.SolutionOutputs'>\n",
            "drums\n",
            "<class 'mediapipe.python.solution_base.SolutionOutputs'>\n",
            "drums\n",
            "<class 'mediapipe.python.solution_base.SolutionOutputs'>\n",
            "drums\n",
            "<class 'mediapipe.python.solution_base.SolutionOutputs'>\n",
            "drums\n",
            "<class 'mediapipe.python.solution_base.SolutionOutputs'>\n",
            "drums\n",
            "<class 'mediapipe.python.solution_base.SolutionOutputs'>\n",
            "drums\n",
            "<class 'mediapipe.python.solution_base.SolutionOutputs'>\n",
            "drums\n",
            "<class 'mediapipe.python.solution_base.SolutionOutputs'>\n",
            "drums\n",
            "<class 'mediapipe.python.solution_base.SolutionOutputs'>\n",
            "drums\n",
            "<class 'mediapipe.python.solution_base.SolutionOutputs'>\n",
            "drums\n",
            "<class 'mediapipe.python.solution_base.SolutionOutputs'>\n",
            "drums\n",
            "<class 'mediapipe.python.solution_base.SolutionOutputs'>\n",
            "drums\n",
            "<class 'mediapipe.python.solution_base.SolutionOutputs'>\n",
            "drums\n",
            "<class 'mediapipe.python.solution_base.SolutionOutputs'>\n",
            "drums\n",
            "<class 'mediapipe.python.solution_base.SolutionOutputs'>\n",
            "drums\n",
            "<class 'mediapipe.python.solution_base.SolutionOutputs'>\n",
            "drums\n",
            "<class 'mediapipe.python.solution_base.SolutionOutputs'>\n",
            "drums\n",
            "<class 'mediapipe.python.solution_base.SolutionOutputs'>\n",
            "drums\n",
            "<class 'mediapipe.python.solution_base.SolutionOutputs'>\n",
            "drums\n",
            "<class 'mediapipe.python.solution_base.SolutionOutputs'>\n",
            "drums\n",
            "<class 'mediapipe.python.solution_base.SolutionOutputs'>\n",
            "drums\n",
            "<class 'mediapipe.python.solution_base.SolutionOutputs'>\n",
            "drums\n",
            "<class 'mediapipe.python.solution_base.SolutionOutputs'>\n",
            "drums\n",
            "<class 'mediapipe.python.solution_base.SolutionOutputs'>\n",
            "drums\n",
            "<class 'mediapipe.python.solution_base.SolutionOutputs'>\n",
            "drums\n",
            "<class 'mediapipe.python.solution_base.SolutionOutputs'>\n",
            "drums\n",
            "<class 'mediapipe.python.solution_base.SolutionOutputs'>\n",
            "drums\n",
            "<class 'mediapipe.python.solution_base.SolutionOutputs'>\n",
            "drums\n",
            "<class 'mediapipe.python.solution_base.SolutionOutputs'>\n",
            "drums\n",
            "<class 'mediapipe.python.solution_base.SolutionOutputs'>\n",
            "drums\n",
            "<class 'mediapipe.python.solution_base.SolutionOutputs'>\n",
            "drums\n",
            "<class 'mediapipe.python.solution_base.SolutionOutputs'>\n",
            "drums\n",
            "<class 'mediapipe.python.solution_base.SolutionOutputs'>\n",
            "drums\n",
            "<class 'mediapipe.python.solution_base.SolutionOutputs'>\n",
            "drums\n",
            "<class 'mediapipe.python.solution_base.SolutionOutputs'>\n",
            "drums\n",
            "<class 'mediapipe.python.solution_base.SolutionOutputs'>\n",
            "drums\n",
            "<class 'mediapipe.python.solution_base.SolutionOutputs'>\n",
            "guitar\n",
            "<class 'mediapipe.python.solution_base.SolutionOutputs'>\n",
            "guitar\n",
            "<class 'mediapipe.python.solution_base.SolutionOutputs'>\n",
            "guitar\n",
            "<class 'mediapipe.python.solution_base.SolutionOutputs'>\n",
            "guitar\n",
            "<class 'mediapipe.python.solution_base.SolutionOutputs'>\n",
            "guitar\n",
            "<class 'mediapipe.python.solution_base.SolutionOutputs'>\n",
            "guitar\n",
            "<class 'mediapipe.python.solution_base.SolutionOutputs'>\n",
            "guitar\n",
            "<class 'mediapipe.python.solution_base.SolutionOutputs'>\n",
            "guitar\n",
            "<class 'mediapipe.python.solution_base.SolutionOutputs'>\n",
            "guitar\n",
            "<class 'mediapipe.python.solution_base.SolutionOutputs'>\n",
            "guitar\n",
            "<class 'mediapipe.python.solution_base.SolutionOutputs'>\n",
            "guitar\n",
            "<class 'mediapipe.python.solution_base.SolutionOutputs'>\n",
            "guitar\n",
            "<class 'mediapipe.python.solution_base.SolutionOutputs'>\n",
            "guitar\n",
            "<class 'mediapipe.python.solution_base.SolutionOutputs'>\n",
            "guitar\n",
            "<class 'mediapipe.python.solution_base.SolutionOutputs'>\n",
            "guitar\n",
            "<class 'mediapipe.python.solution_base.SolutionOutputs'>\n",
            "guitar\n",
            "<class 'mediapipe.python.solution_base.SolutionOutputs'>\n",
            "guitar\n",
            "<class 'mediapipe.python.solution_base.SolutionOutputs'>\n",
            "guitar\n",
            "<class 'mediapipe.python.solution_base.SolutionOutputs'>\n",
            "guitar\n",
            "<class 'mediapipe.python.solution_base.SolutionOutputs'>\n",
            "guitar\n",
            "<class 'mediapipe.python.solution_base.SolutionOutputs'>\n",
            "guitar\n",
            "<class 'mediapipe.python.solution_base.SolutionOutputs'>\n",
            "guitar\n",
            "<class 'mediapipe.python.solution_base.SolutionOutputs'>\n",
            "guitar\n",
            "<class 'mediapipe.python.solution_base.SolutionOutputs'>\n",
            "guitar\n",
            "<class 'mediapipe.python.solution_base.SolutionOutputs'>\n",
            "guitar\n",
            "<class 'mediapipe.python.solution_base.SolutionOutputs'>\n",
            "guitar\n",
            "<class 'mediapipe.python.solution_base.SolutionOutputs'>\n",
            "guitar\n",
            "<class 'mediapipe.python.solution_base.SolutionOutputs'>\n",
            "drums\n",
            "<class 'mediapipe.python.solution_base.SolutionOutputs'>\n",
            "drums\n",
            "<class 'mediapipe.python.solution_base.SolutionOutputs'>\n",
            "drums\n",
            "<class 'mediapipe.python.solution_base.SolutionOutputs'>\n",
            "drums\n",
            "<class 'mediapipe.python.solution_base.SolutionOutputs'>\n",
            "drums\n",
            "<class 'mediapipe.python.solution_base.SolutionOutputs'>\n",
            "drums\n",
            "<class 'mediapipe.python.solution_base.SolutionOutputs'>\n",
            "drums\n",
            "<class 'mediapipe.python.solution_base.SolutionOutputs'>\n",
            "drums\n",
            "<class 'mediapipe.python.solution_base.SolutionOutputs'>\n",
            "drums\n",
            "<class 'mediapipe.python.solution_base.SolutionOutputs'>\n",
            "drums\n",
            "<class 'mediapipe.python.solution_base.SolutionOutputs'>\n",
            "drums\n",
            "<class 'mediapipe.python.solution_base.SolutionOutputs'>\n",
            "drums\n",
            "<class 'mediapipe.python.solution_base.SolutionOutputs'>\n",
            "drums\n",
            "<class 'mediapipe.python.solution_base.SolutionOutputs'>\n",
            "drums\n",
            "<class 'mediapipe.python.solution_base.SolutionOutputs'>\n",
            "drums\n",
            "<class 'mediapipe.python.solution_base.SolutionOutputs'>\n",
            "drums\n",
            "<class 'mediapipe.python.solution_base.SolutionOutputs'>\n",
            "drums\n",
            "<class 'mediapipe.python.solution_base.SolutionOutputs'>\n",
            "guitar\n",
            "<class 'mediapipe.python.solution_base.SolutionOutputs'>\n",
            "guitar\n",
            "<class 'mediapipe.python.solution_base.SolutionOutputs'>\n",
            "drums\n",
            "<class 'mediapipe.python.solution_base.SolutionOutputs'>\n",
            "drums\n",
            "<class 'mediapipe.python.solution_base.SolutionOutputs'>\n",
            "drums\n",
            "<class 'mediapipe.python.solution_base.SolutionOutputs'>\n",
            "drums\n",
            "<class 'mediapipe.python.solution_base.SolutionOutputs'>\n",
            "drums\n",
            "<class 'mediapipe.python.solution_base.SolutionOutputs'>\n",
            "drums\n",
            "<class 'mediapipe.python.solution_base.SolutionOutputs'>\n",
            "drums\n",
            "<class 'mediapipe.python.solution_base.SolutionOutputs'>\n",
            "drums\n",
            "<class 'mediapipe.python.solution_base.SolutionOutputs'>\n",
            "drums\n",
            "<class 'mediapipe.python.solution_base.SolutionOutputs'>\n",
            "drums\n",
            "<class 'mediapipe.python.solution_base.SolutionOutputs'>\n",
            "drums\n",
            "<class 'mediapipe.python.solution_base.SolutionOutputs'>\n",
            "drums\n",
            "<class 'mediapipe.python.solution_base.SolutionOutputs'>\n",
            "drums\n",
            "<class 'mediapipe.python.solution_base.SolutionOutputs'>\n",
            "drums\n",
            "<class 'mediapipe.python.solution_base.SolutionOutputs'>\n",
            "drums\n",
            "<class 'mediapipe.python.solution_base.SolutionOutputs'>\n",
            "drums\n",
            "<class 'mediapipe.python.solution_base.SolutionOutputs'>\n",
            "drums\n",
            "<class 'mediapipe.python.solution_base.SolutionOutputs'>\n",
            "drums\n",
            "<class 'mediapipe.python.solution_base.SolutionOutputs'>\n",
            "drums\n",
            "<class 'mediapipe.python.solution_base.SolutionOutputs'>\n",
            "drums\n",
            "<class 'mediapipe.python.solution_base.SolutionOutputs'>\n",
            "drums\n",
            "<class 'mediapipe.python.solution_base.SolutionOutputs'>\n",
            "drums\n",
            "<class 'mediapipe.python.solution_base.SolutionOutputs'>\n",
            "drums\n",
            "<class 'mediapipe.python.solution_base.SolutionOutputs'>\n",
            "drums\n",
            "<class 'mediapipe.python.solution_base.SolutionOutputs'>\n",
            "drums\n",
            "<class 'mediapipe.python.solution_base.SolutionOutputs'>\n",
            "drums\n",
            "<class 'mediapipe.python.solution_base.SolutionOutputs'>\n",
            "drums\n",
            "<class 'mediapipe.python.solution_base.SolutionOutputs'>\n",
            "drums\n",
            "<class 'mediapipe.python.solution_base.SolutionOutputs'>\n",
            "drums\n",
            "<class 'mediapipe.python.solution_base.SolutionOutputs'>\n",
            "drums\n",
            "<class 'mediapipe.python.solution_base.SolutionOutputs'>\n",
            "drums\n",
            "<class 'mediapipe.python.solution_base.SolutionOutputs'>\n",
            "drums\n",
            "<class 'mediapipe.python.solution_base.SolutionOutputs'>\n",
            "drums\n",
            "<class 'mediapipe.python.solution_base.SolutionOutputs'>\n",
            "drums\n",
            "<class 'mediapipe.python.solution_base.SolutionOutputs'>\n",
            "drums\n",
            "<class 'mediapipe.python.solution_base.SolutionOutputs'>\n",
            "drums\n",
            "<class 'mediapipe.python.solution_base.SolutionOutputs'>\n",
            "drums\n",
            "<class 'mediapipe.python.solution_base.SolutionOutputs'>\n",
            "drums\n",
            "<class 'mediapipe.python.solution_base.SolutionOutputs'>\n",
            "drums\n",
            "<class 'mediapipe.python.solution_base.SolutionOutputs'>\n",
            "drums\n",
            "<class 'mediapipe.python.solution_base.SolutionOutputs'>\n",
            "piano\n",
            "<class 'mediapipe.python.solution_base.SolutionOutputs'>\n",
            "piano\n",
            "<class 'mediapipe.python.solution_base.SolutionOutputs'>\n",
            "piano\n",
            "<class 'mediapipe.python.solution_base.SolutionOutputs'>\n",
            "piano\n",
            "<class 'mediapipe.python.solution_base.SolutionOutputs'>\n",
            "piano\n",
            "<class 'mediapipe.python.solution_base.SolutionOutputs'>\n",
            "piano\n",
            "<class 'mediapipe.python.solution_base.SolutionOutputs'>\n",
            "piano\n",
            "<class 'mediapipe.python.solution_base.SolutionOutputs'>\n",
            "piano\n",
            "<class 'mediapipe.python.solution_base.SolutionOutputs'>\n",
            "piano\n",
            "<class 'mediapipe.python.solution_base.SolutionOutputs'>\n",
            "piano\n",
            "<class 'mediapipe.python.solution_base.SolutionOutputs'>\n",
            "piano\n",
            "<class 'mediapipe.python.solution_base.SolutionOutputs'>\n",
            "piano\n",
            "<class 'mediapipe.python.solution_base.SolutionOutputs'>\n",
            "piano\n",
            "<class 'mediapipe.python.solution_base.SolutionOutputs'>\n",
            "piano\n",
            "<class 'mediapipe.python.solution_base.SolutionOutputs'>\n",
            "piano\n",
            "<class 'mediapipe.python.solution_base.SolutionOutputs'>\n",
            "piano\n",
            "<class 'mediapipe.python.solution_base.SolutionOutputs'>\n",
            "piano\n",
            "<class 'mediapipe.python.solution_base.SolutionOutputs'>\n",
            "piano\n",
            "<class 'mediapipe.python.solution_base.SolutionOutputs'>\n",
            "piano\n",
            "<class 'mediapipe.python.solution_base.SolutionOutputs'>\n",
            "piano\n",
            "<class 'mediapipe.python.solution_base.SolutionOutputs'>\n",
            "piano\n",
            "<class 'mediapipe.python.solution_base.SolutionOutputs'>\n",
            "piano\n",
            "<class 'mediapipe.python.solution_base.SolutionOutputs'>\n",
            "piano\n",
            "<class 'mediapipe.python.solution_base.SolutionOutputs'>\n",
            "piano\n",
            "<class 'mediapipe.python.solution_base.SolutionOutputs'>\n",
            "piano\n",
            "<class 'mediapipe.python.solution_base.SolutionOutputs'>\n",
            "piano\n",
            "<class 'mediapipe.python.solution_base.SolutionOutputs'>\n",
            "piano\n",
            "<class 'mediapipe.python.solution_base.SolutionOutputs'>\n",
            "piano\n",
            "<class 'mediapipe.python.solution_base.SolutionOutputs'>\n",
            "piano\n",
            "<class 'mediapipe.python.solution_base.SolutionOutputs'>\n",
            "piano\n",
            "<class 'mediapipe.python.solution_base.SolutionOutputs'>\n",
            "piano\n",
            "<class 'mediapipe.python.solution_base.SolutionOutputs'>\n",
            "piano\n",
            "<class 'mediapipe.python.solution_base.SolutionOutputs'>\n",
            "drums\n",
            "<class 'mediapipe.python.solution_base.SolutionOutputs'>\n",
            "drums\n",
            "<class 'mediapipe.python.solution_base.SolutionOutputs'>\n",
            "drums\n",
            "<class 'mediapipe.python.solution_base.SolutionOutputs'>\n",
            "drums\n",
            "<class 'mediapipe.python.solution_base.SolutionOutputs'>\n",
            "drums\n",
            "<class 'mediapipe.python.solution_base.SolutionOutputs'>\n",
            "drums\n",
            "<class 'mediapipe.python.solution_base.SolutionOutputs'>\n",
            "drums\n"
          ]
        }
      ],
      "source": [
        "sequence = []\n",
        "sentence = []\n",
        "predictions = []\n",
        "threshold = 0.8\n",
        "\n",
        "cap = cv2.VideoCapture(0)\n",
        "with mp_holistic.Holistic(min_detection_confidence=0.5, min_tracking_confidence=0.5) as holistic:\n",
        "    while cap.isOpened():\n",
        "\n",
        "        ret, frame = cap.read()\n",
        "\n",
        "        image, results = mediapipe_detection(frame, holistic)\n",
        "        print(results)\n",
        "\n",
        "        draw_styled_landmarks(image, results)\n",
        "\n",
        "        keypoints = extract_keypoints(results)\n",
        "        sequence.append(keypoints)\n",
        "        sequence = sequence[-30:]\n",
        "\n",
        "        if len(sequence) == 30:\n",
        "            res = model.predict(np.expand_dims(sequence, axis=0))[0]\n",
        "            print(actions[np.argmax(res)])\n",
        "            predictions.append(np.argmax(res))\n",
        "\n",
        "\n",
        "            if np.unique(predictions[-10:])[0]==np.argmax(res):\n",
        "                if res[np.argmax(res)] > threshold:\n",
        "\n",
        "                    if len(sentence) > 0:\n",
        "                        if actions[np.argmax(res)] != sentence[-1]:\n",
        "                            sentence.append(actions[np.argmax(res)])\n",
        "                    else:\n",
        "                        sentence.append(actions[np.argmax(res)])\n",
        "\n",
        "            if len(sentence) > 5:\n",
        "                sentence = sentence[-5:]\n",
        "\n",
        "            image = prob_viz(res, actions, image, colors)\n",
        "\n",
        "        cv2.rectangle(image, (0,0), (640, 40), (245, 117, 16), -1)\n",
        "        cv2.putText(image, ' '.join(sentence), (3,30),\n",
        "                       cv2.FONT_HERSHEY_SIMPLEX, 1, (255, 255, 255), 2, cv2.LINE_AA)\n",
        "\n",
        "        cv2.imshow('OpenCV Feed', image)\n",
        "\n",
        "        if cv2.waitKey(10) & 0xFF == ord('q'):\n",
        "            break\n",
        "\n",
        "    cap.release()\n",
        "    cv2.destroyAllWindows()"
      ]
    },
    {
      "cell_type": "code",
      "execution_count": null,
      "metadata": {
        "id": "TuERTZJmbnj1"
      },
      "outputs": [],
      "source": [
        "colors = [(245,117,16), (117,245,16), (16,117,245), (200,5,50), (11,25,245)]\n",
        "\n",
        "def prob_viz(res, actions, input_frame, colors):\n",
        "    output_frame = input_frame.copy()\n",
        "    for num, prob in enumerate(res):\n",
        "        cv2.rectangle(output_frame, (0,60+num*40), (int(prob*100), 90+num*40), colors[num], -1)\n",
        "        cv2.putText(output_frame, actions[num], (0, 85+num*40), cv2.FONT_HERSHEY_SIMPLEX, 1, (255,255,255), 2, cv2.LINE_AA)\n",
        "\n",
        "    return output_frame"
      ]
    },
    {
      "cell_type": "code",
      "execution_count": null,
      "metadata": {
        "id": "FIB0W8kpbnj1",
        "outputId": "daa06905-bda6-4bd5-f2f2-514843185434"
      },
      "outputs": [
        {
          "data": {
            "text/plain": [
              "array([1.02296372e-06, 1.02325785e-05, 8.21485657e-10, 9.99984741e-01,\n",
              "       4.03948798e-06], dtype=float32)"
            ]
          },
          "execution_count": 140,
          "metadata": {},
          "output_type": "execute_result"
        }
      ],
      "source": [
        "res"
      ]
    },
    {
      "cell_type": "code",
      "execution_count": null,
      "metadata": {
        "id": "IUbqAPHVbnj2",
        "outputId": "6e16ec3a-41a5-4aed-a17a-3de48f514663"
      },
      "outputs": [
        {
          "data": {
            "text/plain": [
              "<matplotlib.image.AxesImage at 0x1d89d597748>"
            ]
          },
          "execution_count": 147,
          "metadata": {},
          "output_type": "execute_result"
        },
        {
          "data": {
            "image/png": "[encoded data removed]",
            "text/plain": [
              "<Figure size 720x720 with 1 Axes>"
            ]
          },
          "metadata": {
            "needs_background": "light"
          },
          "output_type": "display_data"
        }
      ],
      "source": [
        "plt.figure(figsize=(10,10))\n",
        "plt.imshow(prob_viz(res, actions, image, colors))"
      ]
    },
    {
      "cell_type": "markdown",
      "metadata": {
        "id": "gas9-nUHbnj2"
      },
      "source": [
        "Old code for real-time testing"
      ]
    },
    {
      "cell_type": "code",
      "execution_count": null,
      "metadata": {
        "id": "lLWQqAslbnj3",
        "outputId": "092f98fb-b1a2-4d66-ef5c-cfedfba595b4"
      },
      "outputs": [
        {
          "name": "stdout",
          "output_type": "stream",
          "text": [
            "<class 'mediapipe.python.solution_base.SolutionOutputs'>\n"
          ]
        },
        {
          "ename": "IndexError",
          "evalue": "index 32 is out of bounds for axis 0 with size 8",
          "output_type": "error",
          "traceback": [
            "\u001b[1;31m---------------------------------------------------------------------------\u001b[0m",
            "\u001b[1;31mIndexError\u001b[0m                                Traceback (most recent call last)",
            "\u001b[1;32m<ipython-input-135-36ab94048a8b>\u001b[0m in \u001b[0;36m<module>\u001b[1;34m\u001b[0m\n\u001b[0;32m     23\u001b[0m             \u001b[0mprint\u001b[0m\u001b[1;33m(\u001b[0m\u001b[0mactions\u001b[0m\u001b[1;33m[\u001b[0m\u001b[0mnp\u001b[0m\u001b[1;33m.\u001b[0m\u001b[0margmax\u001b[0m\u001b[1;33m(\u001b[0m\u001b[0mres\u001b[0m\u001b[1;33m)\u001b[0m\u001b[1;33m]\u001b[0m\u001b[1;33m)\u001b[0m\u001b[1;33m\u001b[0m\u001b[1;33m\u001b[0m\u001b[0m\n\u001b[0;32m     24\u001b[0m \u001b[1;33m\u001b[0m\u001b[0m\n\u001b[1;32m---> 25\u001b[1;33m         \u001b[1;32mif\u001b[0m \u001b[0mres\u001b[0m\u001b[1;33m[\u001b[0m\u001b[0mnp\u001b[0m\u001b[1;33m.\u001b[0m\u001b[0margmax\u001b[0m\u001b[1;33m(\u001b[0m\u001b[0mres\u001b[0m\u001b[1;33m)\u001b[0m\u001b[1;33m]\u001b[0m \u001b[1;33m>\u001b[0m \u001b[0mthreshhold\u001b[0m\u001b[1;33m:\u001b[0m\u001b[1;33m\u001b[0m\u001b[1;33m\u001b[0m\u001b[0m\n\u001b[0m\u001b[0;32m     26\u001b[0m             \u001b[1;32mif\u001b[0m \u001b[0mlen\u001b[0m\u001b[1;33m(\u001b[0m\u001b[0msentence\u001b[0m\u001b[1;33m)\u001b[0m \u001b[1;33m>\u001b[0m \u001b[1;36m0\u001b[0m\u001b[1;33m:\u001b[0m\u001b[1;33m\u001b[0m\u001b[1;33m\u001b[0m\u001b[0m\n\u001b[0;32m     27\u001b[0m                 \u001b[1;32mif\u001b[0m \u001b[0mactions\u001b[0m\u001b[1;33m[\u001b[0m\u001b[0mnp\u001b[0m\u001b[1;33m.\u001b[0m\u001b[0margmax\u001b[0m\u001b[1;33m(\u001b[0m\u001b[0mres\u001b[0m\u001b[1;33m)\u001b[0m\u001b[1;33m]\u001b[0m \u001b[1;33m!=\u001b[0m \u001b[0msentence\u001b[0m\u001b[1;33m[\u001b[0m\u001b[1;33m-\u001b[0m\u001b[1;36m1\u001b[0m\u001b[1;33m]\u001b[0m\u001b[1;33m:\u001b[0m\u001b[1;33m\u001b[0m\u001b[1;33m\u001b[0m\u001b[0m\n",
            "\u001b[1;31mIndexError\u001b[0m: index 32 is out of bounds for axis 0 with size 8"
          ]
        }
      ],
      "source": [
        "sequence = []\n",
        "sentence = []\n",
        "threshhold = 0.7\n",
        "\n",
        "cap = cv2.VideoCapture(0)\n",
        "\n",
        "with mp_holistic.Holistic(min_detection_confidence=0.5, min_tracking_confidence=0.5) as holistic:\n",
        "    while cap.isOpened():\n",
        "\n",
        "        ret, frame = cap.read()\n",
        "        image, results = mediapipe_detection(frame, holistic)\n",
        "        print(results)\n",
        "\n",
        "        draw_styled_landmarks(image, results)\n",
        "\n",
        "        #prediction logic\n",
        "        keypoints = extract_keypoints(results)\n",
        "        sequence.insert(0,keypoints)\n",
        "        sequence=sequence[:30]\n",
        "\n",
        "        if len(sequence) == 30:\n",
        "            res = model.predict(np.expand_dims(sequence, axis=0))[0]\n",
        "            print(actions[np.argmax(res)])\n",
        "\n",
        "        if res[np.argmax(res)] > threshhold:\n",
        "            if len(sentence) > 0:\n",
        "                if actions[np.argmax(res)] != sentence[-1]:\n",
        "                    sentence.append(actions[np.argmax(res)])\n",
        "            else:\n",
        "                sentence.append(actions[np.argmax(res)])\n",
        "\n",
        "        if len(sentence) > 5:\n",
        "            sentence = sentence[-5:]\n",
        "\n",
        "        image = prob_viz(res, actions, image, colors)\n",
        "\n",
        "        cv2.rectangle(image, (0,0), (640,40), (245, 117, 16), -1)\n",
        "        cv2.putText(image, ' '.join(sentence), (3,30),\n",
        "                    cv2.FONT_HERSHEY_SIMPLEX, 1, (255,255,255), 2, cv2.LINE_AA)\n",
        "\n",
        "        cv2.imshow('OpenCV Feed', image)\n",
        "\n",
        "        if cv2.waitKey(10) & 0xFF == ord('q'):\n",
        "            break\n",
        "\n",
        "    cap.release()\n",
        "    cv2.destroyAllWindows()\n"
      ]
    },
    {
      "cell_type": "markdown",
      "metadata": {
        "id": "XR2WKltLbnj3"
      },
      "source": [
        "Delete all windows"
      ]
    },
    {
      "cell_type": "code",
      "execution_count": null,
      "metadata": {
        "id": "GrU_AhcCbnj4"
      },
      "outputs": [],
      "source": [
        "cap.release()\n",
        "cv2.destroyAllWindows()"
      ]
    }
  ],
  "metadata": {
    "kernelspec": {
      "display_name": "base",
      "language": "python",
      "name": "python3"
    },
    "language_info": {
      "codemirror_mode": {
        "name": "ipython",
        "version": 3
      },
      "file_extension": ".py",
      "mimetype": "text/x-python",
      "name": "python",
      "nbconvert_exporter": "python",
      "pygments_lexer": "ipython3",
      "version": "3.7.4"
    },
    "colab": {
      "provenance": [],
      "include_colab_link": true
    }
  },
  "nbformat": 4,
  "nbformat_minor": 0
}