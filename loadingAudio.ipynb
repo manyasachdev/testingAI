{
 "cells": [
  {
   "cell_type": "code",
   "execution_count": null,
   "metadata": {},
   "outputs": [],
   "source": [
    "%pip install pydub"
   ]
  },
  {
   "cell_type": "code",
   "execution_count": null,
   "metadata": {},
   "outputs": [],
   "source": [
    "%pip install simpleaudio"
   ]
  },
  {
   "cell_type": "code",
   "execution_count": 1,
   "metadata": {},
   "outputs": [
    {
     "name": "stderr",
     "output_type": "stream",
     "text": [
      "c:\\Users\\manya\\Anaconda3\\lib\\site-packages\\pydub\\utils.py:170: RuntimeWarning: Couldn't find ffmpeg or avconv - defaulting to ffmpeg, but may not work\n",
      "  warn(\"Couldn't find ffmpeg or avconv - defaulting to ffmpeg, but may not work\", RuntimeWarning)\n"
     ]
    }
   ],
   "source": [
    "from pydub import AudioSegment\n",
    "from pydub.playback import play\n",
    "import os\n",
    "import simpleaudio as sa\n",
    "import numpy as np\n",
    "import serial\n",
    "import cv2"
   ]
  },
  {
   "cell_type": "code",
   "execution_count": 2,
   "metadata": {},
   "outputs": [],
   "source": [
    "folder_path = '.\\Audio_files'\n",
    "instruments = np.array(['piano', 'guitar', 'violin', 'drums', 'saxophone'])"
   ]
  },
  {
   "cell_type": "markdown",
   "metadata": {},
   "source": [
    "Play all audio files"
   ]
  },
  {
   "cell_type": "code",
   "execution_count": null,
   "metadata": {},
   "outputs": [],
   "source": [
    "for instrument in instruments:\n",
    "    instrument_path = os.path.join(folder_path, instrument)\n",
    "\n",
    "    for file_name in os.listdir(instrument_path):\n",
    "        if file_name.endswith(\".wav\"):\n",
    "            # Construct the full file path\n",
    "            file_path = os.path.join(instrument_path, file_name)\n",
    "            \n",
    "            wave_obj = sa.WaveObject.from_wave_file(file_path)\n",
    "            play_obj = wave_obj.play()\n",
    "            play_obj.wait_done() "
   ]
  },
  {
   "cell_type": "markdown",
   "metadata": {},
   "source": [
    "Play one audio file"
   ]
  },
  {
   "cell_type": "code",
   "execution_count": 11,
   "metadata": {},
   "outputs": [],
   "source": [
    "filename = '.\\Audio_files\\piano\\A_major.wav'\n",
    "wave_obj = sa.WaveObject.from_wave_file(filename)\n",
    "play_obj = wave_obj.play()\n",
    "play_obj.wait_done()  # Wait until sound has finished playing"
   ]
  },
  {
   "cell_type": "code",
   "execution_count": 20,
   "metadata": {},
   "outputs": [
    {
     "name": "stdout",
     "output_type": "stream",
     "text": [
      "Requirement already satisfied: pyserial in c:\\users\\manya\\anaconda3\\lib\\site-packages (3.5)\n",
      "Note: you may need to restart the kernel to use updated packages.\n"
     ]
    }
   ],
   "source": [
    "%pip install pyserial"
   ]
  },
  {
   "cell_type": "code",
   "execution_count": 4,
   "metadata": {},
   "outputs": [
    {
     "data": {
      "text/plain": [
       "['A_major.wav', 'B_major.wav', 'C_major.wav', 'D_major.wav', 'E_major.wav']"
      ]
     },
     "execution_count": 4,
     "metadata": {},
     "output_type": "execute_result"
    }
   ],
   "source": [
    "os.listdir('.\\Audio_files\\piano')"
   ]
  },
  {
   "cell_type": "code",
   "execution_count": 3,
   "metadata": {},
   "outputs": [],
   "source": [
    "def play_all_notes_single_instrument(instrument):\n",
    "    instrument_path = os.path.join(folder_path, instrument)\n",
    "\n",
    "    for file_name in os.listdir(instrument_path):\n",
    "        if file_name.endswith(\".wav\"):\n",
    "            file_path = os.path.join(instrument_path, file_name)\n",
    "            wave_obj = sa.WaveObject.from_wave_file(file_path)\n",
    "            play_obj = wave_obj.play()\n",
    "            play_obj.wait_done()"
   ]
  },
  {
   "cell_type": "code",
   "execution_count": 7,
   "metadata": {},
   "outputs": [],
   "source": [
    "play_all_notes_single_instrument('guitar')"
   ]
  },
  {
   "cell_type": "code",
   "execution_count": 12,
   "metadata": {},
   "outputs": [
    {
     "name": "stdout",
     "output_type": "stream",
     "text": [
      "Sensor 1 is touched\n",
      "Sensor 2 is touched\n"
     ]
    }
   ],
   "source": [
    "# Open serial connection\n",
    "ser = serial.Serial('COM5', 9600)  # Adjust port as needed\n",
    "\n",
    "while True:\n",
    "    # Read from serial\n",
    "    signal = ser.readline().strip().decode('utf-8')\n",
    "    \n",
    "    # If signal is \"SensorTouched\", do something\n",
    "    if signal == 'S1':\n",
    "        print(\"Sensor 1 is touched\")\n",
    "        play_all_notes_single_instrument('piano')\n",
    "    if signal == 'S2':\n",
    "        print(\"Sensor 2 is touched\")\n",
    "        play_all_notes_single_instrument('violin')\n",
    "    if cv2.waitKey(10) & 0xFF == ord('q'):\n",
    "            break"
   ]
  }
 ],
 "metadata": {
  "kernelspec": {
   "display_name": "base",
   "language": "python",
   "name": "python3"
  },
  "language_info": {
   "codemirror_mode": {
    "name": "ipython",
    "version": 3
   },
   "file_extension": ".py",
   "mimetype": "text/x-python",
   "name": "python",
   "nbconvert_exporter": "python",
   "pygments_lexer": "ipython3",
   "version": "3.7.4"
  }
 },
 "nbformat": 4,
 "nbformat_minor": 2
}
